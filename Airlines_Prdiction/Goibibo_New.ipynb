{
 "cells": [
  {
   "cell_type": "code",
   "execution_count": 1,
   "metadata": {},
   "outputs": [],
   "source": [
    "import pandas as pd\n",
    "import numpy as np\n",
    "from selenium import webdriver\n",
    "import time\n",
    "from selenium.common.exceptions import NoSuchElementException\n",
    "from selenium.webdriver.common.action_chains import ActionChains\n",
    "from selenium.webdriver.common.keys import Keys\n",
    "\n",
    "import warnings\n",
    "warnings.filterwarnings('ignore')"
   ]
  },
  {
   "cell_type": "code",
   "execution_count": 2,
   "metadata": {},
   "outputs": [],
   "source": [
    "driver = webdriver.Chrome(r\"D:\\Lalit\\new\\chromedriver_win32\\chromedriver.exe\")\n",
    "driver.maximize_window()"
   ]
  },
  {
   "cell_type": "code",
   "execution_count": 500,
   "metadata": {},
   "outputs": [],
   "source": [
    "driver.get(\"https://www.goibibo.com\")\n",
    "time.sleep(3)"
   ]
  },
  {
   "cell_type": "code",
   "execution_count": 501,
   "metadata": {},
   "outputs": [],
   "source": [
    "driver.find_element_by_xpath(\"//span[text()='Round trip']\").click()"
   ]
  },
  {
   "cell_type": "code",
   "execution_count": 502,
   "metadata": {},
   "outputs": [],
   "source": [
    "driver.find_element_by_id(\"gosuggest_inputSrc\").click()"
   ]
  },
  {
   "cell_type": "code",
   "execution_count": 503,
   "metadata": {},
   "outputs": [],
   "source": [
    "driver.find_element_by_id(\"gosuggest_inputSrc\").send_keys(\"Delhi\")\n",
    "time.sleep(2)"
   ]
  },
  {
   "cell_type": "code",
   "execution_count": 504,
   "metadata": {},
   "outputs": [],
   "source": [
    "driver.find_element_by_id(\"gosuggest_inputSrc\").send_keys(Keys.ARROW_DOWN)\n",
    "driver.find_element_by_id(\"gosuggest_inputSrc\").send_keys(Keys.ENTER)"
   ]
  },
  {
   "cell_type": "code",
   "execution_count": 505,
   "metadata": {},
   "outputs": [],
   "source": [
    "driver.find_element_by_id(\"gosuggest_inputDest\").click()"
   ]
  },
  {
   "cell_type": "code",
   "execution_count": 506,
   "metadata": {},
   "outputs": [],
   "source": [
    "driver.find_element_by_id(\"gosuggest_inputDest\").send_keys(\"Mumbai\")\n",
    "time.sleep(2)"
   ]
  },
  {
   "cell_type": "code",
   "execution_count": 507,
   "metadata": {},
   "outputs": [],
   "source": [
    "driver.find_element_by_id(\"gosuggest_inputDest\").send_keys(Keys.ARROW_DOWN)\n",
    "driver.find_element_by_id(\"gosuggest_inputDest\").send_keys(Keys.ENTER)"
   ]
  },
  {
   "cell_type": "code",
   "execution_count": 515,
   "metadata": {},
   "outputs": [],
   "source": [
    "driver.find_element_by_id(\"departureCalendar\").click()"
   ]
  },
  {
   "cell_type": "code",
   "execution_count": 516,
   "metadata": {},
   "outputs": [],
   "source": [
    "#driver.find_element_by_xpath(\"//span[@class='DayPicker-NavButton DayPicker-NavButton--next']\").click()"
   ]
  },
  {
   "cell_type": "code",
   "execution_count": 517,
   "metadata": {},
   "outputs": [
    {
     "name": "stdout",
     "output_type": "stream",
     "text": [
      "Enter number3\n"
     ]
    }
   ],
   "source": [
    "for i in range(int(input(\"Enter number\"))):\n",
    "    driver.find_element_by_xpath(\"//span[@class='DayPicker-NavButton DayPicker-NavButton--next']\").click()   "
   ]
  },
  {
   "cell_type": "code",
   "execution_count": 520,
   "metadata": {},
   "outputs": [],
   "source": [
    "driver.find_element_by_xpath(\"//div[@aria-label='Sun Apr 10 2022']\").click()"
   ]
  },
  {
   "cell_type": "code",
   "execution_count": 521,
   "metadata": {},
   "outputs": [],
   "source": [
    "driver.find_element_by_xpath(\"//div[@aria-label='Sat Apr 16 2022']\").click()"
   ]
  },
  {
   "cell_type": "code",
   "execution_count": 522,
   "metadata": {},
   "outputs": [],
   "source": [
    "driver.find_element_by_xpath(\"//button[@class='fb button orange large ht55 fltHpySrchBtn gr-search-btn']\").click()\n",
    "time.sleep(2)"
   ]
  },
  {
   "cell_type": "raw",
   "metadata": {},
   "source": [
    "Airline_name = []\n",
    "Date_of_Journey = []\n",
    "Source = []\n",
    "Destination = []\n",
    "Route = []\n",
    "Dep_Time = []\n",
    "Arrival_Time = []\n",
    "Duration = []\n",
    "Total_Stops = []\n",
    "Price = []"
   ]
  },
  {
   "cell_type": "code",
   "execution_count": 523,
   "metadata": {},
   "outputs": [],
   "source": [
    "name = driver.find_elements_by_xpath(\"//span[@class='font11 padR10 grey padT3']\")\n",
    "for i in name:\n",
    "    Airline_name.append(i.text)"
   ]
  },
  {
   "cell_type": "code",
   "execution_count": 524,
   "metadata": {},
   "outputs": [],
   "source": [
    "test = []\n",
    "name2 = driver.find_elements_by_xpath(\"//span[@class='font12 grey lh1 padB5']\")\n",
    "for i in name2:\n",
    "    Source.append(i.text)\n",
    "    test.append(i.text)"
   ]
  },
  {
   "cell_type": "code",
   "execution_count": 525,
   "metadata": {},
   "outputs": [],
   "source": [
    "desti = driver.find_elements_by_xpath(\"//span[@class='font12 grey padB5 lh1']\")\n",
    "for i in desti:\n",
    "    Destination.append(i.text)"
   ]
  },
  {
   "cell_type": "code",
   "execution_count": 526,
   "metadata": {},
   "outputs": [
    {
     "data": {
      "text/plain": [
       "[]"
      ]
     },
     "execution_count": 526,
     "metadata": {},
     "output_type": "execute_result"
    }
   ],
   "source": [
    "Route"
   ]
  },
  {
   "cell_type": "code",
   "execution_count": 527,
   "metadata": {},
   "outputs": [],
   "source": [
    "time1 = driver.find_elements_by_xpath(\"//div[@class='flexCol']//span[@class='fb dF alignItemsCenter font16 quicksand']\")\n",
    "for i in time1:\n",
    "    Dep_Time.append(i.text)"
   ]
  },
  {
   "cell_type": "code",
   "execution_count": 528,
   "metadata": {},
   "outputs": [],
   "source": [
    "time2 = driver.find_elements_by_xpath(\"//span[@class='db flexCol']//span[@class='fb dF alignItemsCenter font16 quicksand']\")\n",
    "for i in time2:\n",
    "    Arrival_Time.append(i.text.replace('\\n+1D',''))"
   ]
  },
  {
   "cell_type": "code",
   "execution_count": 529,
   "metadata": {},
   "outputs": [],
   "source": [
    "timer = driver.find_elements_by_xpath(\"//div[@class='TxtCenter drGrey font12 lh1 padB5']\")\n",
    "for i in timer:\n",
    "    Duration.append(i.text)"
   ]
  },
  {
   "cell_type": "code",
   "execution_count": 530,
   "metadata": {},
   "outputs": [],
   "source": [
    "stp = driver.find_elements_by_xpath(\"//div[@class='font12 drGrey TxtCenter lh1']\")\n",
    "for i in stp:\n",
    "        Total_Stops.append(i.text)"
   ]
  },
  {
   "cell_type": "code",
   "execution_count": 531,
   "metadata": {},
   "outputs": [],
   "source": [
    "fare = driver.find_elements_by_xpath(\"//span[@class='alignItemsCenter dF padT2 quicksand fb']//span[@class='font20']\")\n",
    "for i in fare:\n",
    "    Price.append(i.text)"
   ]
  },
  {
   "cell_type": "code",
   "execution_count": 532,
   "metadata": {},
   "outputs": [
    {
     "name": "stdout",
     "output_type": "stream",
     "text": [
      "641\n",
      "641\n",
      "641\n",
      "641\n",
      "641\n",
      "641\n",
      "641\n",
      "641\n",
      "Length of test is: 216\n"
     ]
    }
   ],
   "source": [
    "print(len(Airline_name))\n",
    "print(len(Source))\n",
    "print(len(Destination))          \n",
    "print(len(Dep_Time))\n",
    "print(len(Arrival_Time))\n",
    "print(len(Duration))\n",
    "print(len(Total_Stops))\n",
    "print(len(Price))\n",
    "print(\"Length of test is:\",len(test))"
   ]
  },
  {
   "cell_type": "code",
   "execution_count": 533,
   "metadata": {},
   "outputs": [
    {
     "data": {
      "text/plain": [
       "['DEL', 'DEL', 'DEL', 'DEL', 'DEL']"
      ]
     },
     "execution_count": 533,
     "metadata": {},
     "output_type": "execute_result"
    }
   ],
   "source": [
    "test[0:5]"
   ]
  },
  {
   "cell_type": "code",
   "execution_count": null,
   "metadata": {},
   "outputs": [],
   "source": [
    "wine"
   ]
  },
  {
   "cell_type": "code",
   "execution_count": 534,
   "metadata": {},
   "outputs": [],
   "source": [
    "for i in test:\n",
    "    if i == 'DEL':\n",
    "        Date_of_Journey.append(\"10/04/2022\")\n",
    "    else:\n",
    "        Date_of_Journey.append(\"16/04/2022\")"
   ]
  },
  {
   "cell_type": "code",
   "execution_count": 535,
   "metadata": {},
   "outputs": [
    {
     "name": "stdout",
     "output_type": "stream",
     "text": [
      "641\n"
     ]
    }
   ],
   "source": [
    "print(len(Date_of_Journey))"
   ]
  },
  {
   "cell_type": "code",
   "execution_count": 536,
   "metadata": {},
   "outputs": [],
   "source": [
    "Go_Ibibo = pd.DataFrame({})"
   ]
  },
  {
   "cell_type": "code",
   "execution_count": 537,
   "metadata": {},
   "outputs": [],
   "source": [
    "Go_Ibibo[\"Airline_Name\"] = Airline_name\n",
    "Go_Ibibo[\"Date_of_Journey\"] = Date_of_Journey\n",
    "Go_Ibibo[\"Source\"] = Source\n",
    "Go_Ibibo[\"Destination\"] = Destination\n",
    "Go_Ibibo[\"Dept_Time\"] = Dep_Time\n",
    "Go_Ibibo[\"Total_Stops\"] = Total_Stops\n",
    "Go_Ibibo[\"Duration_of_Flight\"] = Duration\n",
    "Go_Ibibo[\"Arr_Time\"] = Arrival_Time\n",
    "Go_Ibibo[\"Fare\"] = Price"
   ]
  },
  {
   "cell_type": "code",
   "execution_count": 538,
   "metadata": {},
   "outputs": [
    {
     "data": {
      "text/html": [
       "<div>\n",
       "<style scoped>\n",
       "    .dataframe tbody tr th:only-of-type {\n",
       "        vertical-align: middle;\n",
       "    }\n",
       "\n",
       "    .dataframe tbody tr th {\n",
       "        vertical-align: top;\n",
       "    }\n",
       "\n",
       "    .dataframe thead th {\n",
       "        text-align: right;\n",
       "    }\n",
       "</style>\n",
       "<table border=\"1\" class=\"dataframe\">\n",
       "  <thead>\n",
       "    <tr style=\"text-align: right;\">\n",
       "      <th></th>\n",
       "      <th>Airline_Name</th>\n",
       "      <th>Date_of_Journey</th>\n",
       "      <th>Source</th>\n",
       "      <th>Destination</th>\n",
       "      <th>Dept_Time</th>\n",
       "      <th>Total_Stops</th>\n",
       "      <th>Duration_of_Flight</th>\n",
       "      <th>Arr_Time</th>\n",
       "      <th>Fare</th>\n",
       "    </tr>\n",
       "  </thead>\n",
       "  <tbody>\n",
       "    <tr>\n",
       "      <th>0</th>\n",
       "      <td>IndiGo</td>\n",
       "      <td>05/04/2022</td>\n",
       "      <td>DEL</td>\n",
       "      <td>GAU</td>\n",
       "      <td>05:05</td>\n",
       "      <td>Non-Stop</td>\n",
       "      <td>2h 25m</td>\n",
       "      <td>07:30</td>\n",
       "      <td>2,900</td>\n",
       "    </tr>\n",
       "    <tr>\n",
       "      <th>1</th>\n",
       "      <td>AirAsia</td>\n",
       "      <td>05/04/2022</td>\n",
       "      <td>DEL</td>\n",
       "      <td>GAU</td>\n",
       "      <td>05:45</td>\n",
       "      <td>Non-Stop</td>\n",
       "      <td>2h 40m</td>\n",
       "      <td>08:25</td>\n",
       "      <td>2,900</td>\n",
       "    </tr>\n",
       "    <tr>\n",
       "      <th>2</th>\n",
       "      <td>AirAsia</td>\n",
       "      <td>05/04/2022</td>\n",
       "      <td>DEL</td>\n",
       "      <td>GAU</td>\n",
       "      <td>07:10</td>\n",
       "      <td>Non-Stop</td>\n",
       "      <td>2h 15m</td>\n",
       "      <td>09:25</td>\n",
       "      <td>2,900</td>\n",
       "    </tr>\n",
       "    <tr>\n",
       "      <th>3</th>\n",
       "      <td>IndiGo</td>\n",
       "      <td>05/04/2022</td>\n",
       "      <td>DEL</td>\n",
       "      <td>GAU</td>\n",
       "      <td>07:10</td>\n",
       "      <td>Non-Stop</td>\n",
       "      <td>2h 30m</td>\n",
       "      <td>09:40</td>\n",
       "      <td>2,900</td>\n",
       "    </tr>\n",
       "    <tr>\n",
       "      <th>4</th>\n",
       "      <td>Spicejet</td>\n",
       "      <td>05/04/2022</td>\n",
       "      <td>DEL</td>\n",
       "      <td>GAU</td>\n",
       "      <td>10:15</td>\n",
       "      <td>Non-Stop</td>\n",
       "      <td>2h 30m</td>\n",
       "      <td>12:45</td>\n",
       "      <td>2,900</td>\n",
       "    </tr>\n",
       "    <tr>\n",
       "      <th>...</th>\n",
       "      <td>...</td>\n",
       "      <td>...</td>\n",
       "      <td>...</td>\n",
       "      <td>...</td>\n",
       "      <td>...</td>\n",
       "      <td>...</td>\n",
       "      <td>...</td>\n",
       "      <td>...</td>\n",
       "      <td>...</td>\n",
       "    </tr>\n",
       "    <tr>\n",
       "      <th>636</th>\n",
       "      <td>Go First</td>\n",
       "      <td>16/04/2022</td>\n",
       "      <td>BOM</td>\n",
       "      <td>DEL</td>\n",
       "      <td>21:00</td>\n",
       "      <td>1 Stop</td>\n",
       "      <td>11h 05m</td>\n",
       "      <td>08:05</td>\n",
       "      <td>7,719</td>\n",
       "    </tr>\n",
       "    <tr>\n",
       "      <th>637</th>\n",
       "      <td>Go First</td>\n",
       "      <td>16/04/2022</td>\n",
       "      <td>BOM</td>\n",
       "      <td>DEL</td>\n",
       "      <td>12:00</td>\n",
       "      <td>1 Stop</td>\n",
       "      <td>7h 50m</td>\n",
       "      <td>19:50</td>\n",
       "      <td>8,271</td>\n",
       "    </tr>\n",
       "    <tr>\n",
       "      <th>638</th>\n",
       "      <td>Go First</td>\n",
       "      <td>16/04/2022</td>\n",
       "      <td>BOM</td>\n",
       "      <td>DEL</td>\n",
       "      <td>12:00</td>\n",
       "      <td>1 Stop</td>\n",
       "      <td>8h 50m</td>\n",
       "      <td>20:50</td>\n",
       "      <td>8,271</td>\n",
       "    </tr>\n",
       "    <tr>\n",
       "      <th>639</th>\n",
       "      <td>Go First</td>\n",
       "      <td>16/04/2022</td>\n",
       "      <td>BOM</td>\n",
       "      <td>DEL</td>\n",
       "      <td>05:00</td>\n",
       "      <td>1 Stop</td>\n",
       "      <td>11h 50m</td>\n",
       "      <td>16:50</td>\n",
       "      <td>8,467</td>\n",
       "    </tr>\n",
       "    <tr>\n",
       "      <th>640</th>\n",
       "      <td>Go First</td>\n",
       "      <td>16/04/2022</td>\n",
       "      <td>BOM</td>\n",
       "      <td>DEL</td>\n",
       "      <td>12:00</td>\n",
       "      <td>1 Stop</td>\n",
       "      <td>7h 20m</td>\n",
       "      <td>19:20</td>\n",
       "      <td>9,069</td>\n",
       "    </tr>\n",
       "  </tbody>\n",
       "</table>\n",
       "<p>641 rows × 9 columns</p>\n",
       "</div>"
      ],
      "text/plain": [
       "    Airline_Name Date_of_Journey Source Destination Dept_Time Total_Stops  \\\n",
       "0         IndiGo      05/04/2022    DEL         GAU     05:05    Non-Stop   \n",
       "1        AirAsia      05/04/2022    DEL         GAU     05:45    Non-Stop   \n",
       "2        AirAsia      05/04/2022    DEL         GAU     07:10    Non-Stop   \n",
       "3         IndiGo      05/04/2022    DEL         GAU     07:10    Non-Stop   \n",
       "4       Spicejet      05/04/2022    DEL         GAU     10:15    Non-Stop   \n",
       "..           ...             ...    ...         ...       ...         ...   \n",
       "636     Go First      16/04/2022    BOM         DEL     21:00      1 Stop   \n",
       "637     Go First      16/04/2022    BOM         DEL     12:00      1 Stop   \n",
       "638     Go First      16/04/2022    BOM         DEL     12:00      1 Stop   \n",
       "639     Go First      16/04/2022    BOM         DEL     05:00      1 Stop   \n",
       "640     Go First      16/04/2022    BOM         DEL     12:00      1 Stop   \n",
       "\n",
       "    Duration_of_Flight Arr_Time   Fare  \n",
       "0               2h 25m    07:30  2,900  \n",
       "1               2h 40m    08:25  2,900  \n",
       "2               2h 15m    09:25  2,900  \n",
       "3               2h 30m    09:40  2,900  \n",
       "4               2h 30m    12:45  2,900  \n",
       "..                 ...      ...    ...  \n",
       "636            11h 05m    08:05  7,719  \n",
       "637             7h 50m    19:50  8,271  \n",
       "638             8h 50m    20:50  8,271  \n",
       "639            11h 50m    16:50  8,467  \n",
       "640             7h 20m    19:20  9,069  \n",
       "\n",
       "[641 rows x 9 columns]"
      ]
     },
     "execution_count": 538,
     "metadata": {},
     "output_type": "execute_result"
    }
   ],
   "source": [
    "Go_Ibibo"
   ]
  },
  {
   "cell_type": "code",
   "execution_count": 539,
   "metadata": {},
   "outputs": [],
   "source": [
    "Go_Ibibo.to_csv(r'D:\\Internship\\Project flip robo\\Airline new data\\Go_ibibo.csv')"
   ]
  },
  {
   "cell_type": "code",
   "execution_count": 540,
   "metadata": {},
   "outputs": [],
   "source": [
    "driver.close()"
   ]
  },
  {
   "cell_type": "code",
   "execution_count": null,
   "metadata": {},
   "outputs": [],
   "source": []
  }
 ],
 "metadata": {
  "kernelspec": {
   "display_name": "Python 3",
   "language": "python",
   "name": "python3"
  },
  "language_info": {
   "codemirror_mode": {
    "name": "ipython",
    "version": 3
   },
   "file_extension": ".py",
   "mimetype": "text/x-python",
   "name": "python",
   "nbconvert_exporter": "python",
   "pygments_lexer": "ipython3",
   "version": "3.8.5"
  }
 },
 "nbformat": 4,
 "nbformat_minor": 4
}
