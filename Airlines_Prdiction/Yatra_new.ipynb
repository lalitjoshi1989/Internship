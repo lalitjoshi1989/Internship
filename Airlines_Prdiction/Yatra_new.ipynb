{
 "cells": [
  {
   "cell_type": "code",
   "execution_count": 1,
   "metadata": {},
   "outputs": [],
   "source": [
    "import pandas as pd\n",
    "import numpy as np\n",
    "from selenium import webdriver\n",
    "import time\n",
    "from selenium.common.exceptions import NoSuchElementException\n",
    "from selenium.webdriver.common.action_chains import ActionChains\n",
    "from selenium.webdriver.common.keys import Keys\n",
    "from selenium.webdriver.support.ui import WebDriverWait\n",
    "from selenium.webdriver.common.by import By\n",
    "from selenium.webdriver.support import expected_conditions as EC\n",
    "\n",
    "import warnings\n",
    "warnings.filterwarnings('ignore')"
   ]
  },
  {
   "cell_type": "code",
   "execution_count": 2,
   "metadata": {},
   "outputs": [],
   "source": [
    "driver = webdriver.Chrome(r\"D:\\Lalit\\new\\chromedriver_win32\\chromedriver.exe\")\n",
    "driver.maximize_window()"
   ]
  },
  {
   "cell_type": "code",
   "execution_count": 206,
   "metadata": {},
   "outputs": [],
   "source": [
    "driver.get(\"https://www.yatra.com/\")\n",
    "time.sleep(5)"
   ]
  },
  {
   "cell_type": "code",
   "execution_count": 207,
   "metadata": {},
   "outputs": [],
   "source": [
    "driver.find_element_by_id(\"BE_flight_origin_city\").click()"
   ]
  },
  {
   "cell_type": "code",
   "execution_count": 208,
   "metadata": {},
   "outputs": [],
   "source": [
    "driver.find_element_by_id(\"BE_flight_origin_city\").send_keys(\"Mumbai\")"
   ]
  },
  {
   "cell_type": "code",
   "execution_count": 209,
   "metadata": {},
   "outputs": [],
   "source": [
    "driver.find_element_by_id(\"BE_flight_origin_city\").send_keys(Keys.ARROW_DOWN)\n",
    "driver.find_element_by_id(\"BE_flight_origin_city\").send_keys(Keys.ENTER)\n",
    "time.sleep(2)"
   ]
  },
  {
   "cell_type": "code",
   "execution_count": 210,
   "metadata": {},
   "outputs": [],
   "source": [
    "driver.find_element_by_id(\"BE_flight_arrival_city\").click()"
   ]
  },
  {
   "cell_type": "code",
   "execution_count": 211,
   "metadata": {},
   "outputs": [],
   "source": [
    "driver.find_element_by_id(\"BE_flight_arrival_city\").send_keys(\"Chennai\")"
   ]
  },
  {
   "cell_type": "code",
   "execution_count": 212,
   "metadata": {},
   "outputs": [],
   "source": [
    "driver.find_element_by_id(\"BE_flight_arrival_city\").send_keys(Keys.ARROW_DOWN)\n",
    "driver.find_element_by_id(\"BE_flight_arrival_city\").send_keys(Keys.ENTER)\n",
    "time.sleep(2)"
   ]
  },
  {
   "cell_type": "code",
   "execution_count": 213,
   "metadata": {},
   "outputs": [],
   "source": [
    "driver.find_element_by_id(\"BE_flight_origin_date\").click()"
   ]
  },
  {
   "cell_type": "code",
   "execution_count": 214,
   "metadata": {},
   "outputs": [],
   "source": [
    "all_date = driver.find_elements_by_xpath(\"//div[@id='monthWrapper']//tbody//td[@class!='inActiveTD']\")\n",
    "for i in all_date:\n",
    "    if i.get_attribute(\"data-date\") == \"10/07/2022\":\n",
    "        i.click()\n",
    "        break;"
   ]
  },
  {
   "cell_type": "code",
   "execution_count": 215,
   "metadata": {},
   "outputs": [],
   "source": [
    "driver.find_element_by_id(\"BE_flight_flsearch_btn\").click()\n",
    "time.sleep(2)"
   ]
  },
  {
   "cell_type": "raw",
   "metadata": {},
   "source": [
    "Airline_name = []\n",
    "Date_of_Journey = []\n",
    "Source = []\n",
    "Destination = []\n",
    "Route = []\n",
    "Dep_Time = []\n",
    "Arrival_Time = []\n",
    "Duration = []\n",
    "Total_Stops = []\n",
    "Price = []"
   ]
  },
  {
   "cell_type": "code",
   "execution_count": 216,
   "metadata": {},
   "outputs": [],
   "source": [
    "name = driver.find_elements_by_xpath(\"//span[@class='i-b text ellipsis']\")\n",
    "for i in name:\n",
    "    Airline_name.append(i.text) "
   ]
  },
  {
   "cell_type": "code",
   "execution_count": 217,
   "metadata": {},
   "outputs": [],
   "source": [
    "test = []\n",
    "name2 = driver.find_elements_by_xpath(\"//div[@class='i-b col-4 no-wrap text-right dtime col-3']//p[@class='fs-10 font-lightgrey no-wrap city ellipsis']\")\n",
    "for i in name2:\n",
    "    Source.append(i.text)\n",
    "    test.append(i.text)"
   ]
  },
  {
   "cell_type": "code",
   "execution_count": 218,
   "metadata": {},
   "outputs": [],
   "source": [
    "dest = driver.find_elements_by_xpath(\"//div[@class='i-b pdd-0 text-left atime col-5']//p[@class='fs-10 font-lightgrey no-wrap city ellipsis']\")\n",
    "for i in dest:\n",
    "    Destination.append(i.text)"
   ]
  },
  {
   "cell_type": "code",
   "execution_count": 219,
   "metadata": {},
   "outputs": [],
   "source": [
    "time1 = driver.find_elements_by_xpath(\"//div[@class='fs-15 bold time']//div\")\n",
    "for i in time1:\n",
    "    Dep_Time.append(i.text.strip('\\n'))"
   ]
  },
  {
   "cell_type": "code",
   "execution_count": 220,
   "metadata": {},
   "outputs": [],
   "source": [
    "time2 = driver.find_elements_by_xpath(\"//p[@class='bold fs-15 mb-2 pr time']\")\n",
    "for i in time2:\n",
    "    Arrival_Time.append(i.text.replace('\\n+ 1 day',''))"
   ]
  },
  {
   "cell_type": "code",
   "execution_count": 221,
   "metadata": {},
   "outputs": [],
   "source": [
    "time3 = driver.find_elements_by_xpath(\"//p[@class='fs-12 bold du mb-2']\")\n",
    "for i in time3:\n",
    "    Duration.append(i.text)"
   ]
  },
  {
   "cell_type": "code",
   "execution_count": 222,
   "metadata": {},
   "outputs": [],
   "source": [
    "stp = driver.find_elements_by_xpath(\"//div[@class=' font-lightgrey fs-10 tipsy i-b fs-10']//span\")\n",
    "for i in stp:\n",
    "    Total_Stops.append(i.text)"
   ]
  },
  {
   "cell_type": "code",
   "execution_count": 223,
   "metadata": {},
   "outputs": [],
   "source": [
    "fare = driver.find_elements_by_xpath(\"//div[@class='i-b tipsy fare-summary-tooltip fs-18']\")\n",
    "for i in fare:\n",
    "    Price.append(i.text)"
   ]
  },
  {
   "cell_type": "code",
   "execution_count": 224,
   "metadata": {},
   "outputs": [
    {
     "name": "stdout",
     "output_type": "stream",
     "text": [
      "827\n",
      "827\n",
      "827\n"
     ]
    }
   ],
   "source": [
    "print(len(Price))\n",
    "print(len(Total_Stops))\n",
    "print(len(Arrival_Time))"
   ]
  },
  {
   "cell_type": "code",
   "execution_count": 225,
   "metadata": {},
   "outputs": [
    {
     "data": {
      "text/plain": [
       "['Mumbai', 'Mumbai', 'Mumbai', 'Mumbai', 'Mumbai']"
      ]
     },
     "execution_count": 225,
     "metadata": {},
     "output_type": "execute_result"
    }
   ],
   "source": [
    "test[0:5]"
   ]
  },
  {
   "cell_type": "code",
   "execution_count": null,
   "metadata": {},
   "outputs": [],
   "source": [
    "wine"
   ]
  },
  {
   "cell_type": "code",
   "execution_count": 226,
   "metadata": {},
   "outputs": [],
   "source": [
    "for i in test:\n",
    "    if i == 'Mumbai':\n",
    "        Date_of_Journey.append(\"10/07/2022\")     "
   ]
  },
  {
   "cell_type": "code",
   "execution_count": 227,
   "metadata": {},
   "outputs": [
    {
     "name": "stdout",
     "output_type": "stream",
     "text": [
      "827\n"
     ]
    }
   ],
   "source": [
    "print(len(Date_of_Journey))"
   ]
  },
  {
   "cell_type": "code",
   "execution_count": 228,
   "metadata": {},
   "outputs": [],
   "source": [
    "yatra = pd.DataFrame({})"
   ]
  },
  {
   "cell_type": "code",
   "execution_count": 229,
   "metadata": {},
   "outputs": [],
   "source": [
    "yatra[\"Airline_Name\"] = Airline_name\n",
    "yatra[\"Date_of_Journey\"] = Date_of_Journey\n",
    "yatra[\"Source\"] = Source\n",
    "yatra[\"Destination\"] = Destination\n",
    "yatra[\"Dept_Time\"] = Dep_Time\n",
    "yatra[\"Total_Stops\"] = Total_Stops\n",
    "yatra[\"Duration_of_Flight\"] = Duration\n",
    "yatra[\"Arr_Time\"] = Arrival_Time\n",
    "yatra[\"Fare\"] = Price"
   ]
  },
  {
   "cell_type": "code",
   "execution_count": 230,
   "metadata": {},
   "outputs": [
    {
     "data": {
      "text/html": [
       "<div>\n",
       "<style scoped>\n",
       "    .dataframe tbody tr th:only-of-type {\n",
       "        vertical-align: middle;\n",
       "    }\n",
       "\n",
       "    .dataframe tbody tr th {\n",
       "        vertical-align: top;\n",
       "    }\n",
       "\n",
       "    .dataframe thead th {\n",
       "        text-align: right;\n",
       "    }\n",
       "</style>\n",
       "<table border=\"1\" class=\"dataframe\">\n",
       "  <thead>\n",
       "    <tr style=\"text-align: right;\">\n",
       "      <th></th>\n",
       "      <th>Airline_Name</th>\n",
       "      <th>Date_of_Journey</th>\n",
       "      <th>Source</th>\n",
       "      <th>Destination</th>\n",
       "      <th>Dept_Time</th>\n",
       "      <th>Total_Stops</th>\n",
       "      <th>Duration_of_Flight</th>\n",
       "      <th>Arr_Time</th>\n",
       "      <th>Fare</th>\n",
       "    </tr>\n",
       "  </thead>\n",
       "  <tbody>\n",
       "    <tr>\n",
       "      <th>0</th>\n",
       "      <td>SpiceJet</td>\n",
       "      <td>15/03/2022</td>\n",
       "      <td>Kolkata</td>\n",
       "      <td>Mumbai</td>\n",
       "      <td>09:35</td>\n",
       "      <td>Non Stop</td>\n",
       "      <td>2h 45m</td>\n",
       "      <td>12:20</td>\n",
       "      <td>3,380</td>\n",
       "    </tr>\n",
       "    <tr>\n",
       "      <th>1</th>\n",
       "      <td>Go First</td>\n",
       "      <td>15/03/2022</td>\n",
       "      <td>Kolkata</td>\n",
       "      <td>Mumbai</td>\n",
       "      <td>04:55</td>\n",
       "      <td>Non Stop</td>\n",
       "      <td>2h 50m</td>\n",
       "      <td>07:45</td>\n",
       "      <td>3,380</td>\n",
       "    </tr>\n",
       "    <tr>\n",
       "      <th>2</th>\n",
       "      <td>Go First</td>\n",
       "      <td>15/03/2022</td>\n",
       "      <td>Kolkata</td>\n",
       "      <td>Mumbai</td>\n",
       "      <td>17:30</td>\n",
       "      <td>Non Stop</td>\n",
       "      <td>2h 50m</td>\n",
       "      <td>20:20</td>\n",
       "      <td>3,380</td>\n",
       "    </tr>\n",
       "    <tr>\n",
       "      <th>3</th>\n",
       "      <td>SpiceJet</td>\n",
       "      <td>15/03/2022</td>\n",
       "      <td>Kolkata</td>\n",
       "      <td>Mumbai</td>\n",
       "      <td>21:55</td>\n",
       "      <td>Non Stop</td>\n",
       "      <td>2h 50m</td>\n",
       "      <td>00:45</td>\n",
       "      <td>3,380</td>\n",
       "    </tr>\n",
       "    <tr>\n",
       "      <th>4</th>\n",
       "      <td>IndiGo</td>\n",
       "      <td>15/03/2022</td>\n",
       "      <td>Kolkata</td>\n",
       "      <td>Mumbai</td>\n",
       "      <td>11:55</td>\n",
       "      <td>1 Stop</td>\n",
       "      <td>4h 40m</td>\n",
       "      <td>16:35</td>\n",
       "      <td>3,380</td>\n",
       "    </tr>\n",
       "    <tr>\n",
       "      <th>...</th>\n",
       "      <td>...</td>\n",
       "      <td>...</td>\n",
       "      <td>...</td>\n",
       "      <td>...</td>\n",
       "      <td>...</td>\n",
       "      <td>...</td>\n",
       "      <td>...</td>\n",
       "      <td>...</td>\n",
       "      <td>...</td>\n",
       "    </tr>\n",
       "    <tr>\n",
       "      <th>822</th>\n",
       "      <td>Vistara</td>\n",
       "      <td>10/07/2022</td>\n",
       "      <td>Mumbai</td>\n",
       "      <td>Chennai</td>\n",
       "      <td>06:20</td>\n",
       "      <td>2 Stop(s)</td>\n",
       "      <td>13h 55m</td>\n",
       "      <td>20:15</td>\n",
       "      <td>15,192</td>\n",
       "    </tr>\n",
       "    <tr>\n",
       "      <th>823</th>\n",
       "      <td>Vistara</td>\n",
       "      <td>10/07/2022</td>\n",
       "      <td>Mumbai</td>\n",
       "      <td>Chennai</td>\n",
       "      <td>11:25</td>\n",
       "      <td>2 Stop(s)</td>\n",
       "      <td>11h 20m</td>\n",
       "      <td>22:45</td>\n",
       "      <td>16,442</td>\n",
       "    </tr>\n",
       "    <tr>\n",
       "      <th>824</th>\n",
       "      <td>Vistara</td>\n",
       "      <td>10/07/2022</td>\n",
       "      <td>Mumbai</td>\n",
       "      <td>Chennai</td>\n",
       "      <td>06:45</td>\n",
       "      <td>2 Stop(s)</td>\n",
       "      <td>13h 30m</td>\n",
       "      <td>20:15</td>\n",
       "      <td>16,442</td>\n",
       "    </tr>\n",
       "    <tr>\n",
       "      <th>825</th>\n",
       "      <td>Vistara</td>\n",
       "      <td>10/07/2022</td>\n",
       "      <td>Mumbai</td>\n",
       "      <td>Chennai</td>\n",
       "      <td>09:05</td>\n",
       "      <td>2 Stop(s)</td>\n",
       "      <td>11h 10m</td>\n",
       "      <td>20:15</td>\n",
       "      <td>17,282</td>\n",
       "    </tr>\n",
       "    <tr>\n",
       "      <th>826</th>\n",
       "      <td>Vistara</td>\n",
       "      <td>10/07/2022</td>\n",
       "      <td>Mumbai</td>\n",
       "      <td>Chennai</td>\n",
       "      <td>07:00</td>\n",
       "      <td>2 Stop(s)</td>\n",
       "      <td>13h 15m</td>\n",
       "      <td>20:15</td>\n",
       "      <td>17,282</td>\n",
       "    </tr>\n",
       "  </tbody>\n",
       "</table>\n",
       "<p>827 rows × 9 columns</p>\n",
       "</div>"
      ],
      "text/plain": [
       "    Airline_Name Date_of_Journey   Source Destination Dept_Time Total_Stops  \\\n",
       "0       SpiceJet      15/03/2022  Kolkata      Mumbai     09:35    Non Stop   \n",
       "1       Go First      15/03/2022  Kolkata      Mumbai     04:55    Non Stop   \n",
       "2       Go First      15/03/2022  Kolkata      Mumbai     17:30    Non Stop   \n",
       "3       SpiceJet      15/03/2022  Kolkata      Mumbai     21:55    Non Stop   \n",
       "4         IndiGo      15/03/2022  Kolkata      Mumbai     11:55      1 Stop   \n",
       "..           ...             ...      ...         ...       ...         ...   \n",
       "822      Vistara      10/07/2022   Mumbai     Chennai     06:20   2 Stop(s)   \n",
       "823      Vistara      10/07/2022   Mumbai     Chennai     11:25   2 Stop(s)   \n",
       "824      Vistara      10/07/2022   Mumbai     Chennai     06:45   2 Stop(s)   \n",
       "825      Vistara      10/07/2022   Mumbai     Chennai     09:05   2 Stop(s)   \n",
       "826      Vistara      10/07/2022   Mumbai     Chennai     07:00   2 Stop(s)   \n",
       "\n",
       "    Duration_of_Flight Arr_Time    Fare  \n",
       "0               2h 45m    12:20   3,380  \n",
       "1               2h 50m    07:45   3,380  \n",
       "2               2h 50m    20:20   3,380  \n",
       "3               2h 50m    00:45   3,380  \n",
       "4               4h 40m    16:35   3,380  \n",
       "..                 ...      ...     ...  \n",
       "822            13h 55m    20:15  15,192  \n",
       "823            11h 20m    22:45  16,442  \n",
       "824            13h 30m    20:15  16,442  \n",
       "825            11h 10m    20:15  17,282  \n",
       "826            13h 15m    20:15  17,282  \n",
       "\n",
       "[827 rows x 9 columns]"
      ]
     },
     "execution_count": 230,
     "metadata": {},
     "output_type": "execute_result"
    }
   ],
   "source": [
    "yatra"
   ]
  },
  {
   "cell_type": "code",
   "execution_count": 231,
   "metadata": {},
   "outputs": [],
   "source": [
    "yatra.to_csv(r'D:\\Internship\\Project flip robo\\Airline new data\\yatra_new.csv')"
   ]
  },
  {
   "cell_type": "code",
   "execution_count": 232,
   "metadata": {},
   "outputs": [],
   "source": [
    "driver.close()"
   ]
  },
  {
   "cell_type": "code",
   "execution_count": null,
   "metadata": {},
   "outputs": [],
   "source": []
  },
  {
   "cell_type": "code",
   "execution_count": null,
   "metadata": {},
   "outputs": [],
   "source": []
  },
  {
   "cell_type": "code",
   "execution_count": null,
   "metadata": {},
   "outputs": [],
   "source": []
  },
  {
   "cell_type": "code",
   "execution_count": null,
   "metadata": {},
   "outputs": [],
   "source": []
  },
  {
   "cell_type": "code",
   "execution_count": null,
   "metadata": {},
   "outputs": [],
   "source": []
  },
  {
   "cell_type": "code",
   "execution_count": null,
   "metadata": {},
   "outputs": [],
   "source": []
  },
  {
   "cell_type": "code",
   "execution_count": null,
   "metadata": {},
   "outputs": [],
   "source": []
  },
  {
   "cell_type": "code",
   "execution_count": null,
   "metadata": {},
   "outputs": [],
   "source": []
  },
  {
   "cell_type": "code",
   "execution_count": null,
   "metadata": {},
   "outputs": [],
   "source": []
  },
  {
   "cell_type": "code",
   "execution_count": null,
   "metadata": {},
   "outputs": [],
   "source": []
  },
  {
   "cell_type": "code",
   "execution_count": null,
   "metadata": {},
   "outputs": [],
   "source": []
  },
  {
   "cell_type": "code",
   "execution_count": null,
   "metadata": {},
   "outputs": [],
   "source": []
  },
  {
   "cell_type": "code",
   "execution_count": null,
   "metadata": {},
   "outputs": [],
   "source": []
  },
  {
   "cell_type": "code",
   "execution_count": null,
   "metadata": {},
   "outputs": [],
   "source": []
  },
  {
   "cell_type": "code",
   "execution_count": null,
   "metadata": {},
   "outputs": [],
   "source": []
  },
  {
   "cell_type": "code",
   "execution_count": null,
   "metadata": {},
   "outputs": [],
   "source": []
  },
  {
   "cell_type": "code",
   "execution_count": null,
   "metadata": {},
   "outputs": [],
   "source": []
  },
  {
   "cell_type": "code",
   "execution_count": null,
   "metadata": {},
   "outputs": [],
   "source": []
  },
  {
   "cell_type": "code",
   "execution_count": null,
   "metadata": {},
   "outputs": [],
   "source": []
  },
  {
   "cell_type": "code",
   "execution_count": null,
   "metadata": {},
   "outputs": [],
   "source": []
  },
  {
   "cell_type": "code",
   "execution_count": null,
   "metadata": {},
   "outputs": [],
   "source": []
  },
  {
   "cell_type": "code",
   "execution_count": null,
   "metadata": {},
   "outputs": [],
   "source": []
  },
  {
   "cell_type": "code",
   "execution_count": null,
   "metadata": {},
   "outputs": [],
   "source": []
  },
  {
   "cell_type": "code",
   "execution_count": null,
   "metadata": {},
   "outputs": [],
   "source": []
  },
  {
   "cell_type": "code",
   "execution_count": null,
   "metadata": {},
   "outputs": [],
   "source": []
  },
  {
   "cell_type": "code",
   "execution_count": null,
   "metadata": {},
   "outputs": [],
   "source": []
  },
  {
   "cell_type": "code",
   "execution_count": null,
   "metadata": {},
   "outputs": [],
   "source": []
  },
  {
   "cell_type": "code",
   "execution_count": null,
   "metadata": {},
   "outputs": [],
   "source": []
  },
  {
   "cell_type": "code",
   "execution_count": null,
   "metadata": {},
   "outputs": [],
   "source": []
  },
  {
   "cell_type": "code",
   "execution_count": null,
   "metadata": {},
   "outputs": [],
   "source": []
  },
  {
   "cell_type": "code",
   "execution_count": null,
   "metadata": {},
   "outputs": [],
   "source": []
  },
  {
   "cell_type": "code",
   "execution_count": null,
   "metadata": {},
   "outputs": [],
   "source": []
  },
  {
   "cell_type": "code",
   "execution_count": null,
   "metadata": {},
   "outputs": [],
   "source": []
  },
  {
   "cell_type": "code",
   "execution_count": null,
   "metadata": {},
   "outputs": [],
   "source": []
  },
  {
   "cell_type": "code",
   "execution_count": null,
   "metadata": {},
   "outputs": [],
   "source": []
  },
  {
   "cell_type": "code",
   "execution_count": null,
   "metadata": {},
   "outputs": [],
   "source": []
  },
  {
   "cell_type": "code",
   "execution_count": null,
   "metadata": {},
   "outputs": [],
   "source": []
  },
  {
   "cell_type": "code",
   "execution_count": null,
   "metadata": {},
   "outputs": [],
   "source": []
  },
  {
   "cell_type": "code",
   "execution_count": null,
   "metadata": {},
   "outputs": [],
   "source": []
  },
  {
   "cell_type": "code",
   "execution_count": null,
   "metadata": {},
   "outputs": [],
   "source": []
  },
  {
   "cell_type": "code",
   "execution_count": null,
   "metadata": {},
   "outputs": [],
   "source": []
  },
  {
   "cell_type": "code",
   "execution_count": null,
   "metadata": {},
   "outputs": [],
   "source": []
  },
  {
   "cell_type": "code",
   "execution_count": null,
   "metadata": {},
   "outputs": [],
   "source": []
  },
  {
   "cell_type": "code",
   "execution_count": null,
   "metadata": {},
   "outputs": [],
   "source": []
  },
  {
   "cell_type": "code",
   "execution_count": null,
   "metadata": {},
   "outputs": [],
   "source": []
  },
  {
   "cell_type": "code",
   "execution_count": null,
   "metadata": {},
   "outputs": [],
   "source": []
  },
  {
   "cell_type": "code",
   "execution_count": null,
   "metadata": {},
   "outputs": [],
   "source": []
  },
  {
   "cell_type": "code",
   "execution_count": null,
   "metadata": {},
   "outputs": [],
   "source": []
  },
  {
   "cell_type": "code",
   "execution_count": null,
   "metadata": {},
   "outputs": [],
   "source": []
  },
  {
   "cell_type": "code",
   "execution_count": null,
   "metadata": {},
   "outputs": [],
   "source": []
  },
  {
   "cell_type": "code",
   "execution_count": null,
   "metadata": {},
   "outputs": [],
   "source": []
  }
 ],
 "metadata": {
  "kernelspec": {
   "display_name": "Python 3",
   "language": "python",
   "name": "python3"
  },
  "language_info": {
   "codemirror_mode": {
    "name": "ipython",
    "version": 3
   },
   "file_extension": ".py",
   "mimetype": "text/x-python",
   "name": "python",
   "nbconvert_exporter": "python",
   "pygments_lexer": "ipython3",
   "version": "3.8.5"
  }
 },
 "nbformat": 4,
 "nbformat_minor": 4
}
