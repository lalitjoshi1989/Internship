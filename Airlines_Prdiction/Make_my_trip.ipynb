{
 "cells": [
  {
   "cell_type": "code",
   "execution_count": 1,
   "metadata": {},
   "outputs": [],
   "source": [
    "import pandas as pd\n",
    "import numpy as np\n",
    "from selenium import webdriver\n",
    "import time\n",
    "from selenium.common.exceptions import NoSuchElementException\n",
    "from selenium.webdriver.common.action_chains import ActionChains\n",
    "from selenium.webdriver.common.keys import Keys\n",
    "from selenium.webdriver.support.ui import WebDriverWait\n",
    "from selenium.webdriver.common.by import By\n",
    "from selenium.webdriver.support import expected_conditions as EC\n",
    "\n",
    "import warnings\n",
    "warnings.filterwarnings('ignore')"
   ]
  },
  {
   "cell_type": "code",
   "execution_count": 2,
   "metadata": {},
   "outputs": [],
   "source": [
    "driver = webdriver.Chrome(r\"D:\\Lalit\\new\\chromedriver_win32\\chromedriver.exe\")\n",
    "driver.maximize_window()"
   ]
  },
  {
   "cell_type": "code",
   "execution_count": 254,
   "metadata": {},
   "outputs": [],
   "source": [
    "driver.get(\"https://www.makemytrip.com/\")\n",
    "time.sleep(5)"
   ]
  },
  {
   "cell_type": "code",
   "execution_count": 177,
   "metadata": {},
   "outputs": [],
   "source": [
    "driver.find_element_by_xpath(\"//li[text()='OneWay']\").click()\n",
    "#driver.find_element_by_xpath(\"//li[text()='Round Trip']\").click()"
   ]
  },
  {
   "cell_type": "code",
   "execution_count": 255,
   "metadata": {},
   "outputs": [],
   "source": [
    "driver.find_element_by_xpath(\"//span[text()='From']\").click()"
   ]
  },
  {
   "cell_type": "code",
   "execution_count": 256,
   "metadata": {},
   "outputs": [],
   "source": [
    "driver.find_element_by_xpath(\"//div[@class='hsw_autocomplePopup autoSuggestPlugin ']/div/input\").send_keys(\"Mumbai\")\n",
    "time.sleep(2)"
   ]
  },
  {
   "cell_type": "code",
   "execution_count": 257,
   "metadata": {},
   "outputs": [],
   "source": [
    "driver.find_element_by_xpath(\"//div[@class='hsw_autocomplePopup autoSuggestPlugin ']/div/input\").send_keys(Keys.ARROW_DOWN)\n",
    "driver.find_element_by_xpath(\"//div[@class='hsw_autocomplePopup autoSuggestPlugin ']/div/input\").send_keys(Keys.ENTER)"
   ]
  },
  {
   "cell_type": "code",
   "execution_count": 258,
   "metadata": {},
   "outputs": [],
   "source": [
    "driver.find_element_by_xpath(\"//span[text()='To']\").click()\n",
    "time.sleep(2)"
   ]
  },
  {
   "cell_type": "code",
   "execution_count": 259,
   "metadata": {},
   "outputs": [],
   "source": [
    "driver.find_element_by_xpath(\"//input[@class='react-autosuggest__input react-autosuggest__input--open']\").send_keys(\"Chennai\")\n",
    "time.sleep(2)"
   ]
  },
  {
   "cell_type": "code",
   "execution_count": 260,
   "metadata": {},
   "outputs": [],
   "source": [
    "driver.find_element_by_xpath(\"//div[@class='hsw_autocomplePopup autoSuggestPlugin makeFlex column spaceBetween']/div/input\").send_keys(Keys.ARROW_DOWN)\n",
    "driver.find_element_by_xpath(\"//div[@class='hsw_autocomplePopup autoSuggestPlugin makeFlex column spaceBetween']/div/input\").send_keys(Keys.ENTER)"
   ]
  },
  {
   "cell_type": "code",
   "execution_count": 261,
   "metadata": {},
   "outputs": [],
   "source": [
    "driver.find_element_by_xpath(\"//span[text()='DEPARTURE']\").click()\n",
    "time.sleep(2)"
   ]
  },
  {
   "cell_type": "code",
   "execution_count": 262,
   "metadata": {},
   "outputs": [],
   "source": [
    "all_date = driver.find_elements_by_xpath(\"//div[@class='DayPicker-Body']/div/div[@aria-disabled='false']/div/p[1]\")"
   ]
  },
  {
   "cell_type": "code",
   "execution_count": 263,
   "metadata": {},
   "outputs": [],
   "source": [
    "for i in all_date:\n",
    "    if i.text == \"18\":\n",
    "        i.click()\n",
    "        time.sleep(2)\n",
    "        break;"
   ]
  },
  {
   "cell_type": "code",
   "execution_count": 150,
   "metadata": {},
   "outputs": [],
   "source": [
    "driver.find_element_by_xpath(\"//span[text()='Select return Date']\").click()"
   ]
  },
  {
   "cell_type": "code",
   "execution_count": 151,
   "metadata": {},
   "outputs": [],
   "source": [
    "rtn_date = driver.find_elements_by_xpath(\"//div[@class='DayPicker-Body']/div/div[@aria-disabled='false']/div/p[1]\")"
   ]
  },
  {
   "cell_type": "code",
   "execution_count": 152,
   "metadata": {},
   "outputs": [],
   "source": [
    "for i in rtn_date:\n",
    "    if i.text == \"7\":\n",
    "        i.click()\n",
    "        time.sleep(2)\n",
    "        break;"
   ]
  },
  {
   "cell_type": "code",
   "execution_count": 264,
   "metadata": {},
   "outputs": [],
   "source": [
    "driver.find_element_by_xpath(\"//span[text()='Traveller']\").click()"
   ]
  },
  {
   "cell_type": "code",
   "execution_count": 265,
   "metadata": {},
   "outputs": [],
   "source": [
    "driver.find_element_by_xpath('//button[@class=\"primaryBtn btnApply pushRight\"]').click()"
   ]
  },
  {
   "cell_type": "code",
   "execution_count": 266,
   "metadata": {},
   "outputs": [],
   "source": [
    "driver.find_element_by_xpath('//a[@class=\"primaryBtn font24 latoBold widgetSearchBtn \"]').click()\n",
    "time.sleep(2)"
   ]
  },
  {
   "cell_type": "raw",
   "metadata": {},
   "source": [
    "Airline_name = []\n",
    "Date_of_Journey = []\n",
    "Source = []\n",
    "Destination = []\n",
    "Route = []\n",
    "Dep_Time = []\n",
    "Arrival_Time = []\n",
    "Duration = []\n",
    "Total_Stops = []\n",
    "Price = []"
   ]
  },
  {
   "cell_type": "code",
   "execution_count": 267,
   "metadata": {},
   "outputs": [],
   "source": [
    "name = driver.find_elements_by_xpath(\"//span[@class='boldFont blackText airlineName']\")\n",
    "for i in name:\n",
    "    Airline_name.append(i.text)"
   ]
  },
  {
   "cell_type": "code",
   "execution_count": 268,
   "metadata": {},
   "outputs": [],
   "source": [
    "test = []\n",
    "name2 = driver.find_elements_by_xpath(\"//div[@class='flightTimeSection flexOne timeInfoLeft']/div/p[2]\")\n",
    "for i in name2:\n",
    "    Source.append(i.text)\n",
    "    test.append(i.text)"
   ]
  },
  {
   "cell_type": "code",
   "execution_count": 269,
   "metadata": {},
   "outputs": [],
   "source": [
    "desti = driver.find_elements_by_xpath(\"//div[@class='flightTimeSection flexOne timeInfoRight']/div/p[2]\")\n",
    "for i in desti:\n",
    "    Destination.append(i.text)"
   ]
  },
  {
   "cell_type": "code",
   "execution_count": 270,
   "metadata": {},
   "outputs": [
    {
     "data": {
      "text/plain": [
       "[]"
      ]
     },
     "execution_count": 270,
     "metadata": {},
     "output_type": "execute_result"
    }
   ],
   "source": [
    "Route"
   ]
  },
  {
   "cell_type": "code",
   "execution_count": 271,
   "metadata": {},
   "outputs": [],
   "source": [
    "time2 = driver.find_elements_by_xpath(\"//div[@class='flightTimeSection flexOne timeInfoLeft']/div/p[1]\")\n",
    "for i in time2:\n",
    "    Dep_Time.append(i.text.replace('\\n+1D',''))"
   ]
  },
  {
   "cell_type": "code",
   "execution_count": 272,
   "metadata": {},
   "outputs": [],
   "source": [
    "time1 = driver.find_elements_by_xpath(\"//div[@class='flightTimeSection flexOne timeInfoRight']/div/p/span\")\n",
    "for i in time1:\n",
    "    Arrival_Time.append((i.text).replace('\\n',''))"
   ]
  },
  {
   "cell_type": "code",
   "execution_count": 273,
   "metadata": {},
   "outputs": [],
   "source": [
    "time3 = driver.find_elements_by_xpath(\"//div[@class='stop-info flexOne']/p\")\n",
    "for i in time3:\n",
    "    Duration.append(i.text.strip('\\n'))"
   ]
  },
  {
   "cell_type": "code",
   "execution_count": 274,
   "metadata": {},
   "outputs": [
    {
     "data": {
      "text/plain": [
       "557"
      ]
     },
     "execution_count": 274,
     "metadata": {},
     "output_type": "execute_result"
    }
   ],
   "source": [
    "len(Duration)"
   ]
  },
  {
   "cell_type": "code",
   "execution_count": 275,
   "metadata": {},
   "outputs": [],
   "source": [
    "stp = driver.find_elements_by_xpath(\"//p[@class='flightsLayoverInfo']\")\n",
    "for i in stp:\n",
    "    Total_Stops.append(i.text.strip(' via '))"
   ]
  },
  {
   "cell_type": "code",
   "execution_count": 276,
   "metadata": {},
   "outputs": [
    {
     "data": {
      "text/plain": [
       "557"
      ]
     },
     "execution_count": 276,
     "metadata": {},
     "output_type": "execute_result"
    }
   ],
   "source": [
    "len(Total_Stops)"
   ]
  },
  {
   "cell_type": "code",
   "execution_count": 277,
   "metadata": {},
   "outputs": [],
   "source": [
    "fare = driver.find_elements_by_xpath(\"//p[@class='blackText fontSize18 blackFont white-space-no-wrap']\")\n",
    "for i in fare:\n",
    "    Price.append(i.text.lstrip('₹'))"
   ]
  },
  {
   "cell_type": "code",
   "execution_count": 278,
   "metadata": {},
   "outputs": [
    {
     "name": "stdout",
     "output_type": "stream",
     "text": [
      "557\n",
      "557\n",
      "557\n"
     ]
    }
   ],
   "source": [
    "print(len(Airline_name))\n",
    "print(len(Price))\n",
    "print(len(Source))"
   ]
  },
  {
   "cell_type": "code",
   "execution_count": 279,
   "metadata": {},
   "outputs": [
    {
     "name": "stdout",
     "output_type": "stream",
     "text": [
      "518\n"
     ]
    }
   ],
   "source": [
    "print(len(Date_of_Journey))"
   ]
  },
  {
   "cell_type": "code",
   "execution_count": 280,
   "metadata": {},
   "outputs": [
    {
     "data": {
      "text/plain": [
       "39"
      ]
     },
     "execution_count": 280,
     "metadata": {},
     "output_type": "execute_result"
    }
   ],
   "source": [
    "len(test)"
   ]
  },
  {
   "cell_type": "code",
   "execution_count": 281,
   "metadata": {},
   "outputs": [],
   "source": [
    "for i in test:\n",
    "    if i == 'Mumbai':\n",
    "        Date_of_Journey.append(\"18/02/2022\")"
   ]
  },
  {
   "cell_type": "code",
   "execution_count": 282,
   "metadata": {},
   "outputs": [
    {
     "data": {
      "text/plain": [
       "557"
      ]
     },
     "execution_count": 282,
     "metadata": {},
     "output_type": "execute_result"
    }
   ],
   "source": [
    "len(Date_of_Journey)"
   ]
  },
  {
   "cell_type": "raw",
   "metadata": {},
   "source": [
    "for i in range(0,4):\n",
    "    Date_of_Journey.append(\"NaN\")"
   ]
  },
  {
   "cell_type": "code",
   "execution_count": 283,
   "metadata": {},
   "outputs": [],
   "source": [
    "make_my_trip = pd.DataFrame({})"
   ]
  },
  {
   "cell_type": "code",
   "execution_count": 286,
   "metadata": {},
   "outputs": [],
   "source": [
    "make_my_trip[\"Airline_Name\"] = Airline_name\n",
    "make_my_trip[\"Date_of_Journey\"] = Date_of_Journey\n",
    "make_my_trip[\"Source\"] = Source\n",
    "make_my_trip[\"Destination\"] = Destination\n",
    "make_my_trip[\"Dept_Time\"] = Dep_Time\n",
    "make_my_trip[\"Total_Stops\"] = Total_Stops\n",
    "make_my_trip[\"Duration_of_Flight\"] = Duration\n",
    "make_my_trip[\"Arr_Time\"] = Arrival_Time\n",
    "make_my_trip[\"Fare\"] = Price"
   ]
  },
  {
   "cell_type": "code",
   "execution_count": 287,
   "metadata": {},
   "outputs": [
    {
     "data": {
      "text/html": [
       "<div>\n",
       "<style scoped>\n",
       "    .dataframe tbody tr th:only-of-type {\n",
       "        vertical-align: middle;\n",
       "    }\n",
       "\n",
       "    .dataframe tbody tr th {\n",
       "        vertical-align: top;\n",
       "    }\n",
       "\n",
       "    .dataframe thead th {\n",
       "        text-align: right;\n",
       "    }\n",
       "</style>\n",
       "<table border=\"1\" class=\"dataframe\">\n",
       "  <thead>\n",
       "    <tr style=\"text-align: right;\">\n",
       "      <th></th>\n",
       "      <th>Airline_Name</th>\n",
       "      <th>Date_of_Journey</th>\n",
       "      <th>Source</th>\n",
       "      <th>Destination</th>\n",
       "      <th>Dept_Time</th>\n",
       "      <th>Total_Stops</th>\n",
       "      <th>Duration_of_Flight</th>\n",
       "      <th>Arr_Time</th>\n",
       "      <th>Fare</th>\n",
       "    </tr>\n",
       "  </thead>\n",
       "  <tbody>\n",
       "    <tr>\n",
       "      <th>0</th>\n",
       "      <td>AirAsia</td>\n",
       "      <td>26/02/2022</td>\n",
       "      <td>Kolkata</td>\n",
       "      <td>Mumbai</td>\n",
       "      <td>13:30</td>\n",
       "      <td>1 stop via Bengaluru</td>\n",
       "      <td>07 h 05 m</td>\n",
       "      <td>20:35</td>\n",
       "      <td>3,379</td>\n",
       "    </tr>\n",
       "    <tr>\n",
       "      <th>1</th>\n",
       "      <td>AirAsia</td>\n",
       "      <td>26/02/2022</td>\n",
       "      <td>Kolkata</td>\n",
       "      <td>Mumbai</td>\n",
       "      <td>09:05</td>\n",
       "      <td>2 stop via Bagdogra,New Delh</td>\n",
       "      <td>13 h 10 m</td>\n",
       "      <td>22:15</td>\n",
       "      <td>3,379</td>\n",
       "    </tr>\n",
       "    <tr>\n",
       "      <th>2</th>\n",
       "      <td>AirAsia</td>\n",
       "      <td>26/02/2022</td>\n",
       "      <td>Kolkata</td>\n",
       "      <td>Mumbai</td>\n",
       "      <td>16:15</td>\n",
       "      <td>1 stop via Bengaluru</td>\n",
       "      <td>08 h 20 m</td>\n",
       "      <td>00:35</td>\n",
       "      <td>3,379</td>\n",
       "    </tr>\n",
       "    <tr>\n",
       "      <th>3</th>\n",
       "      <td>AirAsia</td>\n",
       "      <td>26/02/2022</td>\n",
       "      <td>Kolkata</td>\n",
       "      <td>Mumbai</td>\n",
       "      <td>23:40</td>\n",
       "      <td>1 stop via New Delh</td>\n",
       "      <td>06 h 55 m</td>\n",
       "      <td>06:35</td>\n",
       "      <td>3,379</td>\n",
       "    </tr>\n",
       "    <tr>\n",
       "      <th>4</th>\n",
       "      <td>AirAsia</td>\n",
       "      <td>26/02/2022</td>\n",
       "      <td>Kolkata</td>\n",
       "      <td>Mumbai</td>\n",
       "      <td>20:00</td>\n",
       "      <td>1 stop via New Delh</td>\n",
       "      <td>10 h 35 m</td>\n",
       "      <td>06:35</td>\n",
       "      <td>3,379</td>\n",
       "    </tr>\n",
       "    <tr>\n",
       "      <th>...</th>\n",
       "      <td>...</td>\n",
       "      <td>...</td>\n",
       "      <td>...</td>\n",
       "      <td>...</td>\n",
       "      <td>...</td>\n",
       "      <td>...</td>\n",
       "      <td>...</td>\n",
       "      <td>...</td>\n",
       "      <td>...</td>\n",
       "    </tr>\n",
       "    <tr>\n",
       "      <th>552</th>\n",
       "      <td>Vistara</td>\n",
       "      <td>18/02/2022</td>\n",
       "      <td>Mumbai</td>\n",
       "      <td>Chennai</td>\n",
       "      <td>10:25</td>\n",
       "      <td>1 stop via New Delh</td>\n",
       "      <td>05 h 55 m</td>\n",
       "      <td>16:20</td>\n",
       "      <td>4,674</td>\n",
       "    </tr>\n",
       "    <tr>\n",
       "      <th>553</th>\n",
       "      <td>Vistara</td>\n",
       "      <td>18/02/2022</td>\n",
       "      <td>Mumbai</td>\n",
       "      <td>Chennai</td>\n",
       "      <td>15:45</td>\n",
       "      <td>1 stop via New Delh</td>\n",
       "      <td>07 h</td>\n",
       "      <td>22:45</td>\n",
       "      <td>4,674</td>\n",
       "    </tr>\n",
       "    <tr>\n",
       "      <th>554</th>\n",
       "      <td>Air India</td>\n",
       "      <td>18/02/2022</td>\n",
       "      <td>Mumbai</td>\n",
       "      <td>Chennai</td>\n",
       "      <td>16:00</td>\n",
       "      <td>1 stop via New Delh</td>\n",
       "      <td>07 h 35 m</td>\n",
       "      <td>23:35</td>\n",
       "      <td>4,732</td>\n",
       "    </tr>\n",
       "    <tr>\n",
       "      <th>555</th>\n",
       "      <td>Air India</td>\n",
       "      <td>18/02/2022</td>\n",
       "      <td>Mumbai</td>\n",
       "      <td>Chennai</td>\n",
       "      <td>10:25</td>\n",
       "      <td>2 stop via Mangalore,Coimbatore</td>\n",
       "      <td>05 h 50 m</td>\n",
       "      <td>16:15</td>\n",
       "      <td>4,757</td>\n",
       "    </tr>\n",
       "    <tr>\n",
       "      <th>556</th>\n",
       "      <td>IndiGo</td>\n",
       "      <td>18/02/2022</td>\n",
       "      <td>Mumbai</td>\n",
       "      <td>Chennai</td>\n",
       "      <td>18:45</td>\n",
       "      <td>1 stop via Mangalore</td>\n",
       "      <td>05 h 05 m</td>\n",
       "      <td>23:50</td>\n",
       "      <td>4,757</td>\n",
       "    </tr>\n",
       "  </tbody>\n",
       "</table>\n",
       "<p>557 rows × 9 columns</p>\n",
       "</div>"
      ],
      "text/plain": [
       "    Airline_Name Date_of_Journey   Source Destination Dept_Time  \\\n",
       "0        AirAsia      26/02/2022  Kolkata      Mumbai     13:30   \n",
       "1        AirAsia      26/02/2022  Kolkata      Mumbai     09:05   \n",
       "2        AirAsia      26/02/2022  Kolkata      Mumbai     16:15   \n",
       "3        AirAsia      26/02/2022  Kolkata      Mumbai     23:40   \n",
       "4        AirAsia      26/02/2022  Kolkata      Mumbai     20:00   \n",
       "..           ...             ...      ...         ...       ...   \n",
       "552      Vistara      18/02/2022   Mumbai     Chennai     10:25   \n",
       "553      Vistara      18/02/2022   Mumbai     Chennai     15:45   \n",
       "554    Air India      18/02/2022   Mumbai     Chennai     16:00   \n",
       "555    Air India      18/02/2022   Mumbai     Chennai     10:25   \n",
       "556       IndiGo      18/02/2022   Mumbai     Chennai     18:45   \n",
       "\n",
       "                         Total_Stops Duration_of_Flight Arr_Time    Fare  \n",
       "0               1 stop via Bengaluru          07 h 05 m    20:35   3,379  \n",
       "1       2 stop via Bagdogra,New Delh          13 h 10 m    22:15   3,379  \n",
       "2               1 stop via Bengaluru          08 h 20 m    00:35   3,379  \n",
       "3                1 stop via New Delh          06 h 55 m    06:35   3,379  \n",
       "4                1 stop via New Delh          10 h 35 m    06:35   3,379  \n",
       "..                               ...                ...      ...     ...  \n",
       "552              1 stop via New Delh          05 h 55 m    16:20   4,674  \n",
       "553              1 stop via New Delh               07 h    22:45   4,674  \n",
       "554              1 stop via New Delh          07 h 35 m    23:35   4,732  \n",
       "555  2 stop via Mangalore,Coimbatore          05 h 50 m    16:15   4,757  \n",
       "556             1 stop via Mangalore          05 h 05 m    23:50   4,757  \n",
       "\n",
       "[557 rows x 9 columns]"
      ]
     },
     "execution_count": 287,
     "metadata": {},
     "output_type": "execute_result"
    }
   ],
   "source": [
    "make_my_trip"
   ]
  },
  {
   "cell_type": "code",
   "execution_count": 288,
   "metadata": {},
   "outputs": [],
   "source": [
    "make_my_trip.to_csv(r'D:\\Internship\\Project flip robo\\Airline new data\\make_my_trip.csv')"
   ]
  },
  {
   "cell_type": "code",
   "execution_count": 289,
   "metadata": {},
   "outputs": [],
   "source": [
    "driver.close()"
   ]
  },
  {
   "cell_type": "code",
   "execution_count": null,
   "metadata": {},
   "outputs": [],
   "source": []
  }
 ],
 "metadata": {
  "kernelspec": {
   "display_name": "Python 3",
   "language": "python",
   "name": "python3"
  },
  "language_info": {
   "codemirror_mode": {
    "name": "ipython",
    "version": 3
   },
   "file_extension": ".py",
   "mimetype": "text/x-python",
   "name": "python",
   "nbconvert_exporter": "python",
   "pygments_lexer": "ipython3",
   "version": "3.8.5"
  }
 },
 "nbformat": 4,
 "nbformat_minor": 4
}
