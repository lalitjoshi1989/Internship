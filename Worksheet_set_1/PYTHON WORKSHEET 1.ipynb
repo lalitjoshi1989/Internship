{
 "cells": [
  {
   "cell_type": "markdown",
   "metadata": {},
   "source": [
    "Write a python program to find the factorial of a number."
   ]
  },
  {
   "cell_type": "code",
   "execution_count": 3,
   "metadata": {},
   "outputs": [
    {
     "data": {
      "text/plain": [
       "5040"
      ]
     },
     "execution_count": 3,
     "metadata": {},
     "output_type": "execute_result"
    }
   ],
   "source": [
    "#Formula to calculate the factorial\n",
    "1 * 2 * 3 * 4 * 5 * 6 * 7"
   ]
  },
  {
   "cell_type": "code",
   "execution_count": 16,
   "metadata": {},
   "outputs": [
    {
     "name": "stdout",
     "output_type": "stream",
     "text": [
      "Enter the number to find the Factorial : 7\n",
      "7\n",
      "14\n",
      "42\n",
      "168\n",
      "840\n",
      "5040\n"
     ]
    }
   ],
   "source": [
    "n=int(input(\"Enter the number to find the Factorial : \"))\n",
    "for i in range(1,n):\n",
    "    n=n*i\n",
    "    i=i+1\n",
    "    print(n)"
   ]
  },
  {
   "cell_type": "markdown",
   "metadata": {},
   "source": [
    "Write a python program to find whether a number is prime or composite."
   ]
  },
  {
   "cell_type": "code",
   "execution_count": 43,
   "metadata": {},
   "outputs": [],
   "source": [
    "#Prime number: A number having exactly 2 factors. 1 and itself. Eg: 2,3,7 and so on..\n",
    "#Composite Number: A number having more than 2 factors. "
   ]
  },
  {
   "cell_type": "code",
   "execution_count": 79,
   "metadata": {},
   "outputs": [
    {
     "name": "stdout",
     "output_type": "stream",
     "text": [
      "Enter the number to check :31\n",
      "prime\n"
     ]
    }
   ],
   "source": [
    "num=int(input(\"Enter the number to check :\"))\n",
    "if num > 1:\n",
    "    for i in range(2,num):\n",
    "        if num%i==0:\n",
    "            print(\"Composite\")\n",
    "            break\n",
    "        else:\n",
    "            print(\"prime\")\n",
    "            break\n",
    "else:\n",
    "    print(\"not prime\")"
   ]
  },
  {
   "cell_type": "markdown",
   "metadata": {},
   "source": [
    "#Write a Python program to get the third side of right-angled triangle from two given sides"
   ]
  },
  {
   "cell_type": "code",
   "execution_count": 86,
   "metadata": {},
   "outputs": [],
   "source": [
    "# formula of roght angeled traingle: a**2 + b**2 = c**2"
   ]
  },
  {
   "cell_type": "code",
   "execution_count": 85,
   "metadata": {},
   "outputs": [
    {
     "name": "stdout",
     "output_type": "stream",
     "text": [
      "Enter first side :6\n",
      "Enter second side :8\n",
      "10\n"
     ]
    }
   ],
   "source": [
    "import math\n",
    "a=int(input(\"Enter first side :\"))\n",
    "b=int(input(\"Enter second side :\"))\n",
    "c = int(math.sqrt(a**2 + b**2))\n",
    "print(c)"
   ]
  },
  {
   "cell_type": "markdown",
   "metadata": {},
   "source": [
    "#Write a python program to check whether a given string is palindrome or not.\n",
    "#iTopiNonAvevanoNipoti"
   ]
  },
  {
   "cell_type": "code",
   "execution_count": 119,
   "metadata": {},
   "outputs": [
    {
     "name": "stdout",
     "output_type": "stream",
     "text": [
      "Enter the string :madam\n",
      "madam\n",
      "madam is palindrome\n"
     ]
    }
   ],
   "source": [
    "a = input(\"Enter the string :\")\n",
    "a1 = a.casefold()\n",
    "print(a1)\n",
    "len(a1)\n",
    "b=a1[::-1]\n",
    "if b==a1:\n",
    "    print(a1,\"is palindrome\")\n",
    "else:\n",
    "    print(a1,\"is not Palindrome\")"
   ]
  },
  {
   "cell_type": "markdown",
   "metadata": {},
   "source": [
    "Write a python program to print the frequency of each of the characters present in a given string"
   ]
  },
  {
   "cell_type": "code",
   "execution_count": 161,
   "metadata": {},
   "outputs": [
    {
     "name": "stdout",
     "output_type": "stream",
     "text": [
      "Enter String : lalit\n",
      "The string contains 5 letters and the frequency is {'l': 2, 'a': 1, 'i': 1, 't': 1}\n"
     ]
    }
   ],
   "source": [
    "d=input(\"Enter String : \")\n",
    "count={}\n",
    "for i in d:\n",
    "    if i in count:\n",
    "        count[i] += 1\n",
    "    else:\n",
    "        count[i] = 1\n",
    "print(\"The string contains\",len(d),\"letters and the frequency is\", str(count))"
   ]
  },
  {
   "cell_type": "code",
   "execution_count": null,
   "metadata": {},
   "outputs": [],
   "source": []
  }
 ],
 "metadata": {
  "kernelspec": {
   "display_name": "Python 3",
   "language": "python",
   "name": "python3"
  },
  "language_info": {
   "codemirror_mode": {
    "name": "ipython",
    "version": 3
   },
   "file_extension": ".py",
   "mimetype": "text/x-python",
   "name": "python",
   "nbconvert_exporter": "python",
   "pygments_lexer": "ipython3",
   "version": "3.8.5"
  }
 },
 "nbformat": 4,
 "nbformat_minor": 4
}
