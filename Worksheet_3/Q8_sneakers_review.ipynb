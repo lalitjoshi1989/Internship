{
 "cells": [
  {
   "cell_type": "markdown",
   "metadata": {},
   "source": [
    "# Q8: Scrape data for first 100 sneakers you find when you visit flipkart.com and search for “sneakers” in the search field.\n",
    "You have to scrape 4 attributes of each sneaker :\n",
    "1. Brand\n",
    "2. Product Description\n",
    "3. Price\n",
    "4. discount %\n",
    "As shown in the below image, you have to scrape the tick marked attributes."
   ]
  },
  {
   "cell_type": "code",
   "execution_count": 1,
   "metadata": {},
   "outputs": [],
   "source": [
    "import selenium\n",
    "import pandas as pd\n",
    "from selenium import webdriver\n",
    "import time"
   ]
  },
  {
   "cell_type": "code",
   "execution_count": 2,
   "metadata": {},
   "outputs": [],
   "source": [
    "driver = webdriver.Chrome(r\"C:\\Users\\User\\Documents\\chromedriver.exe\")\n",
    "driver.maximize_window()"
   ]
  },
  {
   "cell_type": "code",
   "execution_count": 3,
   "metadata": {},
   "outputs": [],
   "source": [
    "driver.get('https://www.flipkart.com/')"
   ]
  },
  {
   "cell_type": "code",
   "execution_count": 4,
   "metadata": {},
   "outputs": [],
   "source": [
    "time.sleep(5)\n",
    "close = driver.find_element_by_xpath(\"//button[@class='_2KpZ6l _2doB4z']\")\n",
    "close.click()"
   ]
  },
  {
   "cell_type": "code",
   "execution_count": 5,
   "metadata": {},
   "outputs": [],
   "source": [
    "search_prod = driver.find_element_by_name('q')\n",
    "search_prod.send_keys(\"sneakers\")"
   ]
  },
  {
   "cell_type": "code",
   "execution_count": 6,
   "metadata": {},
   "outputs": [],
   "source": [
    "search_button = driver.find_element_by_xpath(\"//button[@class='L0Z3Pu']\")\n",
    "search_button.click()"
   ]
  },
  {
   "cell_type": "code",
   "execution_count": 7,
   "metadata": {},
   "outputs": [],
   "source": [
    "time.sleep(3)\n",
    "\n",
    "brand = []\n",
    "brand = driver.find_elements_by_xpath(\"//div[@class='_2WkVRV']\")\n",
    "\n",
    "brand_name = []\n",
    "for i in brand:\n",
    "    brand_name.append(i.text)"
   ]
  },
  {
   "cell_type": "code",
   "execution_count": 8,
   "metadata": {},
   "outputs": [
    {
     "data": {
      "text/plain": [
       "40"
      ]
     },
     "execution_count": 8,
     "metadata": {},
     "output_type": "execute_result"
    }
   ],
   "source": [
    "len(brand_name)"
   ]
  },
  {
   "cell_type": "code",
   "execution_count": 9,
   "metadata": {},
   "outputs": [],
   "source": [
    "desc = []\n",
    "desc = driver.find_elements_by_xpath(\"//a[@class='IRpwTa']\")\n",
    "time.sleep(3)\n",
    "des = []\n",
    "for i in desc:\n",
    "    des.append(i.text)"
   ]
  },
  {
   "cell_type": "code",
   "execution_count": 26,
   "metadata": {},
   "outputs": [
    {
     "data": {
      "text/plain": [
       "77"
      ]
     },
     "execution_count": 26,
     "metadata": {},
     "output_type": "execute_result"
    }
   ],
   "source": [
    "len(des)"
   ]
  },
  {
   "cell_type": "code",
   "execution_count": 12,
   "metadata": {},
   "outputs": [],
   "source": [
    "paise = []\n",
    "paise = driver.find_elements_by_xpath(\"//div[@class='_30jeq3']\")\n",
    "time.sleep(3)\n",
    "price = []\n",
    "for i in paise:\n",
    "    price.append(i.text)"
   ]
  },
  {
   "cell_type": "code",
   "execution_count": 13,
   "metadata": {},
   "outputs": [
    {
     "data": {
      "text/plain": [
       "40"
      ]
     },
     "execution_count": 13,
     "metadata": {},
     "output_type": "execute_result"
    }
   ],
   "source": [
    "len(price)"
   ]
  },
  {
   "cell_type": "code",
   "execution_count": 14,
   "metadata": {},
   "outputs": [],
   "source": [
    "time.sleep(3)\n",
    "dis = []\n",
    "dis = driver.find_elements_by_xpath(\"//div[@class='_3Ay6Sb']/span\")\n",
    "disc = []\n",
    "for i in dis:\n",
    "    disc.append(i.text)"
   ]
  },
  {
   "cell_type": "code",
   "execution_count": 15,
   "metadata": {},
   "outputs": [
    {
     "name": "stdout",
     "output_type": "stream",
     "text": [
      "['₹699', '₹520', '₹359', '₹348', '₹472']\n",
      "[\"Men's Sneakers Walking Shoes - New Designed Luxury Bran...\", 'Modern Trendy Sneakers Shoes Sneakers For Men', \"Casual , Partywear Sneakers Shoes For Men's And Boys Wh...\", 'Combo Pack Of 4 Casual Shoes Loafer Shoes Sneakers For ...', 'Sneakers For Men']\n",
      "['Echor', 'RapidBox', 'BRUTON', 'D-SNEAKERZ', 'BRUTON']\n",
      "['58% off', '47% off', '72% off', '47% off', '88% off']\n"
     ]
    }
   ],
   "source": [
    "print(price[0:5])\n",
    "print(des[0:5])\n",
    "print(brand_name[0:5])\n",
    "print(disc[0:5])"
   ]
  },
  {
   "cell_type": "code",
   "execution_count": 16,
   "metadata": {},
   "outputs": [],
   "source": [
    "next_button = driver.find_element_by_xpath(\"//a[@class='_1LKTO3']\")\n",
    "next_button.click()"
   ]
  },
  {
   "cell_type": "code",
   "execution_count": 17,
   "metadata": {},
   "outputs": [],
   "source": [
    "time.sleep(3)\n",
    "brand2 = []\n",
    "brand2 = driver.find_elements_by_xpath(\"//div[@class='_2WkVRV']\")\n",
    "for i in brand2:\n",
    "    brand_name.append(i.text)"
   ]
  },
  {
   "cell_type": "code",
   "execution_count": 18,
   "metadata": {},
   "outputs": [
    {
     "data": {
      "text/plain": [
       "80"
      ]
     },
     "execution_count": 18,
     "metadata": {},
     "output_type": "execute_result"
    }
   ],
   "source": [
    "len(brand_name)"
   ]
  },
  {
   "cell_type": "code",
   "execution_count": 19,
   "metadata": {},
   "outputs": [],
   "source": [
    "time.sleep(3)\n",
    "desc2 = []\n",
    "desc2 = driver.find_elements_by_xpath(\"//a[@class='IRpwTa']\")\n",
    "for i in desc2:\n",
    "    des.append(i.text)"
   ]
  },
  {
   "cell_type": "code",
   "execution_count": 22,
   "metadata": {},
   "outputs": [],
   "source": [
    "time.sleep(3)\n",
    "paise2 = []\n",
    "paise2 = driver.find_elements_by_xpath(\"//div[@class='_30jeq3']\")\n",
    "for i in paise2:\n",
    "    price.append(i.text)"
   ]
  },
  {
   "cell_type": "code",
   "execution_count": 23,
   "metadata": {},
   "outputs": [
    {
     "data": {
      "text/plain": [
       "80"
      ]
     },
     "execution_count": 23,
     "metadata": {},
     "output_type": "execute_result"
    }
   ],
   "source": [
    "len(price)"
   ]
  },
  {
   "cell_type": "code",
   "execution_count": 24,
   "metadata": {},
   "outputs": [],
   "source": [
    "target_url = []\n",
    "url = driver.find_elements_by_xpath(\"//a[@class='_1LKTO3']\")\n",
    "for i in url:\n",
    "    target_url.append(i.get_attribute('href'))"
   ]
  },
  {
   "cell_type": "code",
   "execution_count": 25,
   "metadata": {},
   "outputs": [
    {
     "data": {
      "text/plain": [
       "['https://www.flipkart.com/search?q=sneakers&otracker=search&otracker1=search&marketplace=FLIPKART&as-show=on&as=off&page=1',\n",
       " 'https://www.flipkart.com/search?q=sneakers&otracker=search&otracker1=search&marketplace=FLIPKART&as-show=on&as=off&page=3']"
      ]
     },
     "execution_count": 25,
     "metadata": {},
     "output_type": "execute_result"
    }
   ],
   "source": [
    "target_url"
   ]
  },
  {
   "cell_type": "code",
   "execution_count": 27,
   "metadata": {},
   "outputs": [],
   "source": [
    "driver.get(target_url[1])"
   ]
  },
  {
   "cell_type": "code",
   "execution_count": 28,
   "metadata": {},
   "outputs": [],
   "source": [
    "time.sleep(3)\n",
    "brand3 = []\n",
    "brand3 = driver.find_elements_by_xpath(\"//div[@class='_2WkVRV']\")\n",
    "for i in brand3:\n",
    "    brand_name.append(i.text)"
   ]
  },
  {
   "cell_type": "code",
   "execution_count": 29,
   "metadata": {},
   "outputs": [],
   "source": [
    "time.sleep(3)\n",
    "paise3 = []\n",
    "paise3 = driver.find_elements_by_xpath(\"//div[@class='_30jeq3']\")\n",
    "for i in paise3:\n",
    "    price.append(i.text)"
   ]
  },
  {
   "cell_type": "code",
   "execution_count": 30,
   "metadata": {},
   "outputs": [],
   "source": [
    "time.sleep(3)\n",
    "dis3 = []\n",
    "dis3 = driver.find_elements_by_xpath(\"//div[@class='_3Ay6Sb']/span\")\n",
    "for i in dis3:\n",
    "    disc.append(i.text)"
   ]
  },
  {
   "cell_type": "code",
   "execution_count": 35,
   "metadata": {},
   "outputs": [],
   "source": [
    "for i in range(1,24):\n",
    "    disc.append(\" \")"
   ]
  },
  {
   "cell_type": "code",
   "execution_count": 31,
   "metadata": {},
   "outputs": [],
   "source": [
    "time.sleep(3)\n",
    "desc3 = []\n",
    "desc3 = driver.find_elements_by_xpath(\"//a[@class='IRpwTa']\")\n",
    "for i in desc3:\n",
    "    des.append(i.text)"
   ]
  },
  {
   "cell_type": "code",
   "execution_count": 36,
   "metadata": {},
   "outputs": [],
   "source": [
    "brand_name = brand_name[0:100]\n",
    "price= price[0:100]\n",
    "disc = disc[0:100]\n",
    "des = des[0:100]"
   ]
  },
  {
   "cell_type": "code",
   "execution_count": 37,
   "metadata": {},
   "outputs": [],
   "source": [
    "sneakers = pd.DataFrame({})\n",
    "sneakers['Brand'] = brand_name\n",
    "sneakers['Price'] = price\n",
    "sneakers['Discounts'] = disc\n",
    "sneakers['Description'] = des"
   ]
  },
  {
   "cell_type": "code",
   "execution_count": 43,
   "metadata": {},
   "outputs": [
    {
     "data": {
      "text/html": [
       "<div>\n",
       "<style scoped>\n",
       "    .dataframe tbody tr th:only-of-type {\n",
       "        vertical-align: middle;\n",
       "    }\n",
       "\n",
       "    .dataframe tbody tr th {\n",
       "        vertical-align: top;\n",
       "    }\n",
       "\n",
       "    .dataframe thead th {\n",
       "        text-align: right;\n",
       "    }\n",
       "</style>\n",
       "<table border=\"1\" class=\"dataframe\">\n",
       "  <thead>\n",
       "    <tr style=\"text-align: right;\">\n",
       "      <th></th>\n",
       "      <th>Brand</th>\n",
       "      <th>Price</th>\n",
       "      <th>Discounts</th>\n",
       "      <th>Description</th>\n",
       "    </tr>\n",
       "  </thead>\n",
       "  <tbody>\n",
       "    <tr>\n",
       "      <th>50</th>\n",
       "      <td>BIRDE</td>\n",
       "      <td>₹525</td>\n",
       "      <td>67% off</td>\n",
       "      <td>Relaxed Attractive Combo pack of 4 Sneakers Fo...</td>\n",
       "    </tr>\n",
       "    <tr>\n",
       "      <th>51</th>\n",
       "      <td>CALCADOS</td>\n",
       "      <td>₹689</td>\n",
       "      <td>60% off</td>\n",
       "      <td>White Sneaker For Men's/Boy's Sneakers For Men</td>\n",
       "    </tr>\n",
       "    <tr>\n",
       "      <th>52</th>\n",
       "      <td>Shoes Bank</td>\n",
       "      <td>₹348</td>\n",
       "      <td>81% off</td>\n",
       "      <td>Luxury Fashionable casual shoes Sneakers For Men</td>\n",
       "    </tr>\n",
       "    <tr>\n",
       "      <th>53</th>\n",
       "      <td>luxury fashion</td>\n",
       "      <td>₹449</td>\n",
       "      <td>78% off</td>\n",
       "      <td>Sneakers For Men</td>\n",
       "    </tr>\n",
       "    <tr>\n",
       "      <th>54</th>\n",
       "      <td>Robbie jones</td>\n",
       "      <td>₹499</td>\n",
       "      <td>58% off</td>\n",
       "      <td>Combo Pack of 2 Lattest Collection Stylish Cas...</td>\n",
       "    </tr>\n",
       "    <tr>\n",
       "      <th>55</th>\n",
       "      <td>BRUTON</td>\n",
       "      <td>₹526</td>\n",
       "      <td>20% off</td>\n",
       "      <td>Fashion Outdoor Canvas Casual Light Weight Lac...</td>\n",
       "    </tr>\n",
       "    <tr>\n",
       "      <th>56</th>\n",
       "      <td>RODDICK SHOES</td>\n",
       "      <td>₹474</td>\n",
       "      <td>69% off</td>\n",
       "      <td>Men White Sneakers Sneakers For Men</td>\n",
       "    </tr>\n",
       "    <tr>\n",
       "      <th>57</th>\n",
       "      <td>SPARX</td>\n",
       "      <td>₹666</td>\n",
       "      <td>43% off</td>\n",
       "      <td>shoe Sneakers For Men</td>\n",
       "    </tr>\n",
       "    <tr>\n",
       "      <th>58</th>\n",
       "      <td>Airland</td>\n",
       "      <td>₹257</td>\n",
       "      <td>44% off</td>\n",
       "      <td>Smash L Sneakers For Men</td>\n",
       "    </tr>\n",
       "    <tr>\n",
       "      <th>59</th>\n",
       "      <td>PUMA</td>\n",
       "      <td>₹1,799</td>\n",
       "      <td>76% off</td>\n",
       "      <td>Combo Pack of 2 Casual Shoes Sneakers For Men</td>\n",
       "    </tr>\n",
       "    <tr>\n",
       "      <th>60</th>\n",
       "      <td>BIRDE</td>\n",
       "      <td>₹525</td>\n",
       "      <td>30% off</td>\n",
       "      <td>171 Smart Tan Lace-Ups Casuals for Men Sneaker...</td>\n",
       "    </tr>\n",
       "    <tr>\n",
       "      <th>61</th>\n",
       "      <td>SPARX</td>\n",
       "      <td>₹737</td>\n",
       "      <td>61% off</td>\n",
       "      <td>Pacer Laser IDP Sneakers For Men</td>\n",
       "    </tr>\n",
       "    <tr>\n",
       "      <th>62</th>\n",
       "      <td>Chevit</td>\n",
       "      <td>₹249</td>\n",
       "      <td>25% off</td>\n",
       "      <td>Sneakers For Men</td>\n",
       "    </tr>\n",
       "    <tr>\n",
       "      <th>63</th>\n",
       "      <td>believe</td>\n",
       "      <td>₹449</td>\n",
       "      <td>18% off</td>\n",
       "      <td>Super Stylish &amp; Trendy Combo Pack of 02 Pairs ...</td>\n",
       "    </tr>\n",
       "    <tr>\n",
       "      <th>64</th>\n",
       "      <td>HOTSTYLE</td>\n",
       "      <td>₹198</td>\n",
       "      <td>78% off</td>\n",
       "      <td>Trinity IDP Sneakers For Men</td>\n",
       "    </tr>\n",
       "    <tr>\n",
       "      <th>65</th>\n",
       "      <td>PUMA</td>\n",
       "      <td>₹2,069</td>\n",
       "      <td>52% off</td>\n",
       "      <td>GAIMAN 2.O Sneakers For Men</td>\n",
       "    </tr>\n",
       "    <tr>\n",
       "      <th>66</th>\n",
       "      <td>Nilatin</td>\n",
       "      <td>₹439</td>\n",
       "      <td>24% off</td>\n",
       "      <td>Fashionable sneaker casual shoes Sneakers For Men</td>\n",
       "    </tr>\n",
       "    <tr>\n",
       "      <th>67</th>\n",
       "      <td>believe</td>\n",
       "      <td>₹449</td>\n",
       "      <td>65% off</td>\n",
       "      <td>Perforated Low IDP Sneakers For Men</td>\n",
       "    </tr>\n",
       "    <tr>\n",
       "      <th>68</th>\n",
       "      <td>Chevit</td>\n",
       "      <td>₹631</td>\n",
       "      <td>50% off</td>\n",
       "      <td>Luxury Fashionable Casual Sneakers shoes For M...</td>\n",
       "    </tr>\n",
       "    <tr>\n",
       "      <th>69</th>\n",
       "      <td>PUMA</td>\n",
       "      <td>₹1,609</td>\n",
       "      <td>45% off</td>\n",
       "      <td>Casual Sneakers Shoes For Men And Boys Sneaker...</td>\n",
       "    </tr>\n",
       "    <tr>\n",
       "      <th>70</th>\n",
       "      <td>Creer</td>\n",
       "      <td>₹398</td>\n",
       "      <td>69% off</td>\n",
       "      <td>Trinity IDP Sneakers For Men</td>\n",
       "    </tr>\n",
       "    <tr>\n",
       "      <th>71</th>\n",
       "      <td>PUMA</td>\n",
       "      <td>₹3,499</td>\n",
       "      <td>54% off</td>\n",
       "      <td>white Casual shoes,Sneakers for men's Sneakers...</td>\n",
       "    </tr>\n",
       "    <tr>\n",
       "      <th>72</th>\n",
       "      <td>U.S. POLO ASSN.</td>\n",
       "      <td>₹1,989</td>\n",
       "      <td>40% off</td>\n",
       "      <td></td>\n",
       "    </tr>\n",
       "    <tr>\n",
       "      <th>73</th>\n",
       "      <td>India hub</td>\n",
       "      <td>₹448</td>\n",
       "      <td>60% off</td>\n",
       "      <td></td>\n",
       "    </tr>\n",
       "    <tr>\n",
       "      <th>74</th>\n",
       "      <td>PUMA</td>\n",
       "      <td>₹2,306</td>\n",
       "      <td>38% off</td>\n",
       "      <td></td>\n",
       "    </tr>\n",
       "    <tr>\n",
       "      <th>75</th>\n",
       "      <td>bluemaker</td>\n",
       "      <td>₹499</td>\n",
       "      <td>45% off</td>\n",
       "      <td></td>\n",
       "    </tr>\n",
       "    <tr>\n",
       "      <th>76</th>\n",
       "      <td>HOC</td>\n",
       "      <td>₹419</td>\n",
       "      <td>50% off</td>\n",
       "      <td></td>\n",
       "    </tr>\n",
       "    <tr>\n",
       "      <th>77</th>\n",
       "      <td>Robbie jones</td>\n",
       "      <td>₹499</td>\n",
       "      <td></td>\n",
       "      <td>PANAL Sneakers For Men</td>\n",
       "    </tr>\n",
       "    <tr>\n",
       "      <th>78</th>\n",
       "      <td>PUMA</td>\n",
       "      <td>₹1,749</td>\n",
       "      <td></td>\n",
       "      <td>Rigel IDP Sneakers For Men</td>\n",
       "    </tr>\n",
       "    <tr>\n",
       "      <th>79</th>\n",
       "      <td>Xtoon</td>\n",
       "      <td>₹429</td>\n",
       "      <td></td>\n",
       "      <td>SM-482 Sneakers For Men</td>\n",
       "    </tr>\n",
       "    <tr>\n",
       "      <th>80</th>\n",
       "      <td>U.S. POLO ASSN.</td>\n",
       "      <td>₹2,099</td>\n",
       "      <td></td>\n",
       "      <td>Unique &amp; Perfect Collection Combo Pack of 02 S...</td>\n",
       "    </tr>\n",
       "    <tr>\n",
       "      <th>81</th>\n",
       "      <td>PUMA</td>\n",
       "      <td>₹1,289</td>\n",
       "      <td></td>\n",
       "      <td>Canvas Casual Partywear Outdoor Sneakers Shoes...</td>\n",
       "    </tr>\n",
       "    <tr>\n",
       "      <th>82</th>\n",
       "      <td>SPARX</td>\n",
       "      <td>₹959</td>\n",
       "      <td></td>\n",
       "      <td>Synthetic Leather Casual Partywear Wedding Sne...</td>\n",
       "    </tr>\n",
       "    <tr>\n",
       "      <th>83</th>\n",
       "      <td>RapidBox</td>\n",
       "      <td>₹520</td>\n",
       "      <td></td>\n",
       "      <td>Combo Pack of 5 Casual Shoes Sneakers For Men</td>\n",
       "    </tr>\n",
       "    <tr>\n",
       "      <th>84</th>\n",
       "      <td>Chevit</td>\n",
       "      <td>₹599</td>\n",
       "      <td></td>\n",
       "      <td>Speed Set of 5 Pairs Sneakers Outdoors Casuals...</td>\n",
       "    </tr>\n",
       "    <tr>\n",
       "      <th>85</th>\n",
       "      <td>SPARX</td>\n",
       "      <td>₹666</td>\n",
       "      <td></td>\n",
       "      <td>Latest Fashion Combo Pack of 2 Pairs Casual Ou...</td>\n",
       "    </tr>\n",
       "    <tr>\n",
       "      <th>86</th>\n",
       "      <td>T-ROCK</td>\n",
       "      <td>₹379</td>\n",
       "      <td></td>\n",
       "      <td>Combo Pack Of 4 Casual Sneaker Shoes For Men S...</td>\n",
       "    </tr>\n",
       "    <tr>\n",
       "      <th>87</th>\n",
       "      <td>RapidBox</td>\n",
       "      <td>₹640</td>\n",
       "      <td></td>\n",
       "      <td>Trendy Fashion Sneakers For Men</td>\n",
       "    </tr>\n",
       "    <tr>\n",
       "      <th>88</th>\n",
       "      <td>BIRDE</td>\n",
       "      <td>₹842</td>\n",
       "      <td></td>\n",
       "      <td>Men's Sneakers Walking Shoes - New Designed Lu...</td>\n",
       "    </tr>\n",
       "    <tr>\n",
       "      <th>89</th>\n",
       "      <td>RED TAPE</td>\n",
       "      <td>₹1,049</td>\n",
       "      <td></td>\n",
       "      <td>Birde Trendy Casual Shoes Sneakers For Men</td>\n",
       "    </tr>\n",
       "    <tr>\n",
       "      <th>90</th>\n",
       "      <td>Qtsy</td>\n",
       "      <td>₹395</td>\n",
       "      <td></td>\n",
       "      <td>Sneakers For Men</td>\n",
       "    </tr>\n",
       "    <tr>\n",
       "      <th>91</th>\n",
       "      <td>Chevit</td>\n",
       "      <td>₹799</td>\n",
       "      <td></td>\n",
       "      <td>Combo Pack of 3 Casual Sneakers Shoes Sneakers...</td>\n",
       "    </tr>\n",
       "    <tr>\n",
       "      <th>92</th>\n",
       "      <td>Chevit</td>\n",
       "      <td>₹599</td>\n",
       "      <td></td>\n",
       "      <td>LEBRON 2.0 Sneakers For Men</td>\n",
       "    </tr>\n",
       "    <tr>\n",
       "      <th>93</th>\n",
       "      <td>BRUTON</td>\n",
       "      <td>₹736</td>\n",
       "      <td></td>\n",
       "      <td>Puma Smash v2 L Sneakers For Men</td>\n",
       "    </tr>\n",
       "    <tr>\n",
       "      <th>94</th>\n",
       "      <td>BRUTON</td>\n",
       "      <td>₹284</td>\n",
       "      <td></td>\n",
       "      <td>Modern Trendy Combo Pack OF 2 Casual Shoes For...</td>\n",
       "    </tr>\n",
       "    <tr>\n",
       "      <th>95</th>\n",
       "      <td>Echor</td>\n",
       "      <td>₹699</td>\n",
       "      <td></td>\n",
       "      <td>PUMA X 1DER KL RAHUL Sneakers For Men</td>\n",
       "    </tr>\n",
       "    <tr>\n",
       "      <th>96</th>\n",
       "      <td>BIRDE</td>\n",
       "      <td>₹399</td>\n",
       "      <td></td>\n",
       "      <td>Venture Runner Sneakers For Men</td>\n",
       "    </tr>\n",
       "    <tr>\n",
       "      <th>97</th>\n",
       "      <td>Allen Solly</td>\n",
       "      <td>₹2,499</td>\n",
       "      <td></td>\n",
       "      <td>SM-162 Sneakers For Men</td>\n",
       "    </tr>\n",
       "    <tr>\n",
       "      <th>98</th>\n",
       "      <td>PEXLO</td>\n",
       "      <td>₹736</td>\n",
       "      <td></td>\n",
       "      <td>Fashionable casual sneaker shoes Sneakers For Men</td>\n",
       "    </tr>\n",
       "    <tr>\n",
       "      <th>99</th>\n",
       "      <td>U.S. POLO ASSN.</td>\n",
       "      <td>₹2,267</td>\n",
       "      <td></td>\n",
       "      <td>Sneakers For Men</td>\n",
       "    </tr>\n",
       "  </tbody>\n",
       "</table>\n",
       "</div>"
      ],
      "text/plain": [
       "              Brand   Price Discounts  \\\n",
       "50            BIRDE    ₹525   67% off   \n",
       "51         CALCADOS    ₹689   60% off   \n",
       "52       Shoes Bank    ₹348   81% off   \n",
       "53   luxury fashion    ₹449   78% off   \n",
       "54     Robbie jones    ₹499   58% off   \n",
       "55           BRUTON    ₹526   20% off   \n",
       "56    RODDICK SHOES    ₹474   69% off   \n",
       "57            SPARX    ₹666   43% off   \n",
       "58          Airland    ₹257   44% off   \n",
       "59             PUMA  ₹1,799   76% off   \n",
       "60            BIRDE    ₹525   30% off   \n",
       "61            SPARX    ₹737   61% off   \n",
       "62           Chevit    ₹249   25% off   \n",
       "63          believe    ₹449   18% off   \n",
       "64         HOTSTYLE    ₹198   78% off   \n",
       "65             PUMA  ₹2,069   52% off   \n",
       "66          Nilatin    ₹439   24% off   \n",
       "67          believe    ₹449   65% off   \n",
       "68           Chevit    ₹631   50% off   \n",
       "69             PUMA  ₹1,609   45% off   \n",
       "70            Creer    ₹398   69% off   \n",
       "71             PUMA  ₹3,499   54% off   \n",
       "72  U.S. POLO ASSN.  ₹1,989   40% off   \n",
       "73        India hub    ₹448   60% off   \n",
       "74             PUMA  ₹2,306   38% off   \n",
       "75        bluemaker    ₹499   45% off   \n",
       "76              HOC    ₹419   50% off   \n",
       "77     Robbie jones    ₹499             \n",
       "78             PUMA  ₹1,749             \n",
       "79            Xtoon    ₹429             \n",
       "80  U.S. POLO ASSN.  ₹2,099             \n",
       "81             PUMA  ₹1,289             \n",
       "82            SPARX    ₹959             \n",
       "83         RapidBox    ₹520             \n",
       "84           Chevit    ₹599             \n",
       "85            SPARX    ₹666             \n",
       "86           T-ROCK    ₹379             \n",
       "87         RapidBox    ₹640             \n",
       "88            BIRDE    ₹842             \n",
       "89         RED TAPE  ₹1,049             \n",
       "90             Qtsy    ₹395             \n",
       "91           Chevit    ₹799             \n",
       "92           Chevit    ₹599             \n",
       "93           BRUTON    ₹736             \n",
       "94           BRUTON    ₹284             \n",
       "95            Echor    ₹699             \n",
       "96            BIRDE    ₹399             \n",
       "97      Allen Solly  ₹2,499             \n",
       "98            PEXLO    ₹736             \n",
       "99  U.S. POLO ASSN.  ₹2,267             \n",
       "\n",
       "                                          Description  \n",
       "50  Relaxed Attractive Combo pack of 4 Sneakers Fo...  \n",
       "51     White Sneaker For Men's/Boy's Sneakers For Men  \n",
       "52   Luxury Fashionable casual shoes Sneakers For Men  \n",
       "53                                   Sneakers For Men  \n",
       "54  Combo Pack of 2 Lattest Collection Stylish Cas...  \n",
       "55  Fashion Outdoor Canvas Casual Light Weight Lac...  \n",
       "56                Men White Sneakers Sneakers For Men  \n",
       "57                              shoe Sneakers For Men  \n",
       "58                           Smash L Sneakers For Men  \n",
       "59      Combo Pack of 2 Casual Shoes Sneakers For Men  \n",
       "60  171 Smart Tan Lace-Ups Casuals for Men Sneaker...  \n",
       "61                   Pacer Laser IDP Sneakers For Men  \n",
       "62                                   Sneakers For Men  \n",
       "63  Super Stylish & Trendy Combo Pack of 02 Pairs ...  \n",
       "64                       Trinity IDP Sneakers For Men  \n",
       "65                        GAIMAN 2.O Sneakers For Men  \n",
       "66  Fashionable sneaker casual shoes Sneakers For Men  \n",
       "67                Perforated Low IDP Sneakers For Men  \n",
       "68  Luxury Fashionable Casual Sneakers shoes For M...  \n",
       "69  Casual Sneakers Shoes For Men And Boys Sneaker...  \n",
       "70                       Trinity IDP Sneakers For Men  \n",
       "71  white Casual shoes,Sneakers for men's Sneakers...  \n",
       "72                                                     \n",
       "73                                                     \n",
       "74                                                     \n",
       "75                                                     \n",
       "76                                                     \n",
       "77                             PANAL Sneakers For Men  \n",
       "78                         Rigel IDP Sneakers For Men  \n",
       "79                            SM-482 Sneakers For Men  \n",
       "80  Unique & Perfect Collection Combo Pack of 02 S...  \n",
       "81  Canvas Casual Partywear Outdoor Sneakers Shoes...  \n",
       "82  Synthetic Leather Casual Partywear Wedding Sne...  \n",
       "83      Combo Pack of 5 Casual Shoes Sneakers For Men  \n",
       "84  Speed Set of 5 Pairs Sneakers Outdoors Casuals...  \n",
       "85  Latest Fashion Combo Pack of 2 Pairs Casual Ou...  \n",
       "86  Combo Pack Of 4 Casual Sneaker Shoes For Men S...  \n",
       "87                    Trendy Fashion Sneakers For Men  \n",
       "88  Men's Sneakers Walking Shoes - New Designed Lu...  \n",
       "89         Birde Trendy Casual Shoes Sneakers For Men  \n",
       "90                                   Sneakers For Men  \n",
       "91  Combo Pack of 3 Casual Sneakers Shoes Sneakers...  \n",
       "92                        LEBRON 2.0 Sneakers For Men  \n",
       "93                   Puma Smash v2 L Sneakers For Men  \n",
       "94  Modern Trendy Combo Pack OF 2 Casual Shoes For...  \n",
       "95              PUMA X 1DER KL RAHUL Sneakers For Men  \n",
       "96                    Venture Runner Sneakers For Men  \n",
       "97                            SM-162 Sneakers For Men  \n",
       "98  Fashionable casual sneaker shoes Sneakers For Men  \n",
       "99                                   Sneakers For Men  "
      ]
     },
     "execution_count": 43,
     "metadata": {},
     "output_type": "execute_result"
    }
   ],
   "source": [
    "sneakers.tail(50)"
   ]
  },
  {
   "cell_type": "code",
   "execution_count": null,
   "metadata": {},
   "outputs": [],
   "source": []
  }
 ],
 "metadata": {
  "kernelspec": {
   "display_name": "Python 3",
   "language": "python",
   "name": "python3"
  },
  "language_info": {
   "codemirror_mode": {
    "name": "ipython",
    "version": 3
   },
   "file_extension": ".py",
   "mimetype": "text/x-python",
   "name": "python",
   "nbconvert_exporter": "python",
   "pygments_lexer": "ipython3",
   "version": "3.8.5"
  }
 },
 "nbformat": 4,
 "nbformat_minor": 4
}
