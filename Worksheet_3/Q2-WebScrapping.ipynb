{
 "cells": [
  {
   "cell_type": "markdown",
   "metadata": {},
   "source": [
    "# Q2: Write a python program to scrape data for “Data Scientist” Job position in “Bangalore” location. You have to scrape the job-title, job-location, company_name, full job-description. You have to scrape first 10 jobs data.\n",
    "\n",
    "This task will be done in following steps:\n",
    "1. first get the webpage https://www.naukri.com/\n",
    "2. Enter “Data Scientist” in “Skill,Designations,Companies” field and enter “Bangalore” in “enter the location” field.\n",
    "3. Then click the search button.\n",
    "4. Then scrape the data for the first 10 jobs results you get.\n",
    "5. Finally create a dataframe of the scraped data.\n",
    "\n",
    "Note- 1. All of the above steps have to be done in code. No step is to be done manually."
   ]
  },
  {
   "cell_type": "code",
   "execution_count": 1,
   "metadata": {},
   "outputs": [],
   "source": [
    "import selenium\n",
    "import pandas as pd\n",
    "from selenium import webdriver\n",
    "import time"
   ]
  },
  {
   "cell_type": "code",
   "execution_count": 4,
   "metadata": {},
   "outputs": [],
   "source": [
    "driver = webdriver.Chrome(r\"C:\\Users\\User\\Documents\\chromedriver.exe\")\n",
    "driver.maximize_window()"
   ]
  },
  {
   "cell_type": "code",
   "execution_count": 5,
   "metadata": {},
   "outputs": [],
   "source": [
    "driver.get('https://naukri.com/')\n",
    "time.sleep(5)"
   ]
  },
  {
   "cell_type": "code",
   "execution_count": 4,
   "metadata": {},
   "outputs": [],
   "source": [
    "search_job = driver.find_element_by_id('qsb-keyword-sugg')\n",
    "search_job.send_keys(\"Data Scientist\")\n",
    "\n",
    "search_loc = driver.find_element_by_xpath(\"//input[@id='qsb-location-sugg']\")\n",
    "search_loc.send_keys('Bangalore')\n",
    "\n",
    "search_button = driver.find_element_by_xpath(\"//div[@class='search-btn']/button\")\n",
    "search_button.click()\n",
    "time.sleep(8)"
   ]
  },
  {
   "cell_type": "code",
   "execution_count": 5,
   "metadata": {},
   "outputs": [],
   "source": [
    "job_opening_urls = []\n",
    "url= driver.find_elements_by_xpath('//a[@class= \"title fw500 ellipsis\"]')\n",
    "for i in url[0:10]:\n",
    "    job_opening_urls.append(i.get_attribute('href'))"
   ]
  },
  {
   "cell_type": "markdown",
   "metadata": {},
   "source": [
    "job_opening_urls = []\n",
    "target= driver.find_elements_by_xpath('//a[@class= \"title fw500 ellipsis\"]')\n",
    "for i in target[0:10]:\n",
    "    job_opening_urls.append(i.get_attribute('href'))"
   ]
  },
  {
   "cell_type": "markdown",
   "metadata": {},
   "source": [
    "titl = []\n",
    "for i in job_opening_urls:\n",
    "    head = driver.find_elements_by_xpath('//h1@class= \"jd-header-title\"]')\n",
    "     for i in head:       titl.append(i.text)"
   ]
  },
  {
   "cell_type": "code",
   "execution_count": 6,
   "metadata": {},
   "outputs": [
    {
     "data": {
      "text/plain": [
       "['https://www.naukri.com/job-listings-data-scientist-ai-ml-engineer-hitachi-ltd-bangalore-bengaluru-5-to-10-years-111021500424?src=jobsearchDesk&sid=16340811442247689&xp=1&px=1',\n",
       " 'https://www.naukri.com/job-listings-senior-data-scientist-go-jek-india-bangalore-bengaluru-5-to-10-years-111021502002?src=jobsearchDesk&sid=16340811442247689&xp=2&px=1',\n",
       " 'https://www.naukri.com/job-listings-senior-data-scientist-convergence-infotech-ltd-bangalore-bengaluru-8-to-12-years-111021004221?src=jobsearchDesk&sid=16340811442247689&xp=3&px=1',\n",
       " 'https://www.naukri.com/job-listings-senior-data-scientist-nlp-thomson-reuters-international-services-pvt-ltd-bangalore-bengaluru-8-to-10-years-111021001745?src=jobsearchDesk&sid=16340811442247689&xp=4&px=1',\n",
       " 'https://www.naukri.com/job-listings-lead-data-scientist-huawei-technologies-india-pvt-ltd-bangalore-bengaluru-4-to-9-years-121021907623?src=jobsearchDesk&sid=16340811442247689&xp=5&px=1',\n",
       " 'https://www.naukri.com/job-listings-data-scientist-bridgetree-research-services-private-limited-bangalore-bengaluru-4-to-5-years-111021005895?src=jobsearchDesk&sid=16340811442247689&xp=6&px=1',\n",
       " 'https://www.naukri.com/job-listings-data-scientist-flipkart-internet-private-limited-bangalore-bengaluru-3-to-6-years-081021906627?src=jobsearchDesk&sid=16340811442247689&xp=7&px=1',\n",
       " 'https://www.naukri.com/job-listings-data-scientist-advanced-analytics-ibm-india-pvt-limited-bangalore-bengaluru-5-to-10-years-051021909207?src=jobsearchDesk&sid=16340811442247689&xp=8&px=1',\n",
       " 'https://www.naukri.com/job-listings-data-scientist-ai-flagship-schneider-electric-india-pvt-ltd-bangalore-bengaluru-4-to-7-years-081021501357?src=jobsearchDesk&sid=16340811442247689&xp=9&px=1',\n",
       " 'https://www.naukri.com/job-listings-digital-enterprise-architect-data-scientist-mphasis-limited-bangalore-bengaluru-10-to-13-years-051021900146?src=jobsearchDesk&sid=16340811442247689&xp=10&px=1']"
      ]
     },
     "execution_count": 6,
     "metadata": {},
     "output_type": "execute_result"
    }
   ],
   "source": [
    "job_opening_urls"
   ]
  },
  {
   "cell_type": "code",
   "execution_count": 7,
   "metadata": {},
   "outputs": [],
   "source": [
    "head = []\n",
    "for i in job_opening_urls[0:10]:\n",
    "    driver.get(i)\n",
    "    titl = []\n",
    "    titl = driver.find_elements_by_xpath(\"//h1[@class='jd-header-title']\")\n",
    "    for j in titl:\n",
    "        head.append(j.text)"
   ]
  },
  {
   "cell_type": "code",
   "execution_count": 8,
   "metadata": {},
   "outputs": [],
   "source": [
    "comp = []\n",
    "for m in job_opening_urls[0:10]:\n",
    "    driver.get(m)\n",
    "    com = []\n",
    "    com = driver.find_elements_by_xpath(\"//div[@class='jd-top-head']/div/a[@class='pad-rt-8']\")\n",
    "    for n in com:\n",
    "        comp.append(n.text.strip())"
   ]
  },
  {
   "cell_type": "code",
   "execution_count": 100,
   "metadata": {},
   "outputs": [],
   "source": [
    "loca = []\n",
    "for a in job_opening_urls[0:10]:\n",
    "    driver.get(a)\n",
    "    loc = []\n",
    "    loc = driver.find_elements_by_xpath(\"//span[@class='location ']/a\") #//div[@class='loc']/span[1]/a[1]\n",
    "    for b in loc:\n",
    "        loca.append(b.text)"
   ]
  },
  {
   "cell_type": "code",
   "execution_count": 10,
   "metadata": {},
   "outputs": [],
   "source": [
    "desc = []\n",
    "for k in job_opening_urls[0:10]:\n",
    "    driver.get(k)\n",
    "    des = []\n",
    "    des = driver.find_elements_by_xpath(\"//div[@class='dang-inner-html']\")\n",
    "    for l in des:\n",
    "        desc.append(l.text)"
   ]
  },
  {
   "cell_type": "code",
   "execution_count": 101,
   "metadata": {},
   "outputs": [
    {
     "name": "stdout",
     "output_type": "stream",
     "text": [
      "5 5 5 5\n"
     ]
    }
   ],
   "source": [
    "print(len(head), len(comp),len(loca),len(desc))"
   ]
  },
  {
   "cell_type": "code",
   "execution_count": 102,
   "metadata": {},
   "outputs": [],
   "source": [
    "import pandas as pd\n",
    "job_details = pd.DataFrame({})\n",
    "job_details['Title'] = head\n",
    "job_details['Company Name'] = comp\n",
    "job_details['Job Location'] = loca\n",
    "job_details['Job Description'] = desc"
   ]
  },
  {
   "cell_type": "code",
   "execution_count": 103,
   "metadata": {},
   "outputs": [
    {
     "data": {
      "text/html": [
       "<div>\n",
       "<style scoped>\n",
       "    .dataframe tbody tr th:only-of-type {\n",
       "        vertical-align: middle;\n",
       "    }\n",
       "\n",
       "    .dataframe tbody tr th {\n",
       "        vertical-align: top;\n",
       "    }\n",
       "\n",
       "    .dataframe thead th {\n",
       "        text-align: right;\n",
       "    }\n",
       "</style>\n",
       "<table border=\"1\" class=\"dataframe\">\n",
       "  <thead>\n",
       "    <tr style=\"text-align: right;\">\n",
       "      <th></th>\n",
       "      <th>Title</th>\n",
       "      <th>Company Name</th>\n",
       "      <th>Job Location</th>\n",
       "      <th>Job Description</th>\n",
       "    </tr>\n",
       "  </thead>\n",
       "  <tbody>\n",
       "    <tr>\n",
       "      <th>0</th>\n",
       "      <td>Data Scientist / AI / ML Engineer</td>\n",
       "      <td>Hitachi Ltd.</td>\n",
       "      <td>Bangalore/Bengaluru</td>\n",
       "      <td>Duties and Responsibilities\\nImplement the app...</td>\n",
       "    </tr>\n",
       "    <tr>\n",
       "      <th>1</th>\n",
       "      <td>Senior Data Scientist</td>\n",
       "      <td>GO-JEK India</td>\n",
       "      <td>Bangalore/Bengaluru</td>\n",
       "      <td>What You Will Do\\nWork with Data Scientists, M...</td>\n",
       "    </tr>\n",
       "    <tr>\n",
       "      <th>2</th>\n",
       "      <td>Senior Data Scientist</td>\n",
       "      <td>Convergence Infotech Ltd</td>\n",
       "      <td>Bangalore/Bengaluru( Sadashiva Nagar )</td>\n",
       "      <td>Roles and Responsibilities\\nPhD in Statistics,...</td>\n",
       "    </tr>\n",
       "    <tr>\n",
       "      <th>3</th>\n",
       "      <td>Senior Data Scientist, NLP</td>\n",
       "      <td>Thomson Reuters</td>\n",
       "      <td>Bangalore/Bengaluru</td>\n",
       "      <td>Senior Data Scientist, NLP\\nAre you excited ab...</td>\n",
       "    </tr>\n",
       "    <tr>\n",
       "      <th>4</th>\n",
       "      <td>Lead Data Scientist</td>\n",
       "      <td>Huawei Technologies</td>\n",
       "      <td>Bangalore/Bengaluru</td>\n",
       "      <td>We are looking for a Lead data scientist who w...</td>\n",
       "    </tr>\n",
       "  </tbody>\n",
       "</table>\n",
       "</div>"
      ],
      "text/plain": [
       "                               Title              Company Name  \\\n",
       "0  Data Scientist / AI / ML Engineer              Hitachi Ltd.   \n",
       "1              Senior Data Scientist              GO-JEK India   \n",
       "2              Senior Data Scientist  Convergence Infotech Ltd   \n",
       "3         Senior Data Scientist, NLP           Thomson Reuters   \n",
       "4                Lead Data Scientist       Huawei Technologies   \n",
       "\n",
       "                             Job Location  \\\n",
       "0                     Bangalore/Bengaluru   \n",
       "1                     Bangalore/Bengaluru   \n",
       "2  Bangalore/Bengaluru( Sadashiva Nagar )   \n",
       "3                     Bangalore/Bengaluru   \n",
       "4                     Bangalore/Bengaluru   \n",
       "\n",
       "                                     Job Description  \n",
       "0  Duties and Responsibilities\\nImplement the app...  \n",
       "1  What You Will Do\\nWork with Data Scientists, M...  \n",
       "2  Roles and Responsibilities\\nPhD in Statistics,...  \n",
       "3  Senior Data Scientist, NLP\\nAre you excited ab...  \n",
       "4  We are looking for a Lead data scientist who w...  "
      ]
     },
     "execution_count": 103,
     "metadata": {},
     "output_type": "execute_result"
    }
   ],
   "source": [
    "job_details"
   ]
  },
  {
   "cell_type": "code",
   "execution_count": 6,
   "metadata": {},
   "outputs": [],
   "source": [
    "driver.close()"
   ]
  }
 ],
 "metadata": {
  "kernelspec": {
   "display_name": "Python 3",
   "language": "python",
   "name": "python3"
  },
  "language_info": {
   "codemirror_mode": {
    "name": "ipython",
    "version": 3
   },
   "file_extension": ".py",
   "mimetype": "text/x-python",
   "name": "python",
   "nbconvert_exporter": "python",
   "pygments_lexer": "ipython3",
   "version": "3.8.5"
  }
 },
 "nbformat": 4,
 "nbformat_minor": 4
}
