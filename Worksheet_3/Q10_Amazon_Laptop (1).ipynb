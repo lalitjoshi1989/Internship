{
 "cells": [
  {
   "cell_type": "markdown",
   "metadata": {},
   "source": [
    "# Q10: Go to webpage https://www.amazon.in/\n",
    "Enter “Laptop” in the search field and then click the search icon.\n",
    "Then set CPU Type filter to “Intel Core i7” and “Intel Core i9” as shown in the below image:\n",
    "After setting the filters scrape first 10 laptops data. You have to scrape 3 attributes for each laptop:\n",
    "1. title\n",
    "2. Ratings\n",
    "3. Price"
   ]
  },
  {
   "cell_type": "code",
   "execution_count": 1,
   "metadata": {},
   "outputs": [],
   "source": [
    "import pandas as pd\n",
    "import selenium\n",
    "from selenium import webdriver\n",
    "import time"
   ]
  },
  {
   "cell_type": "code",
   "execution_count": 2,
   "metadata": {},
   "outputs": [],
   "source": [
    "driver = webdriver.Chrome(r\"C:\\Users\\User\\Documents\\chromedriver.exe\")\n",
    "driver.maximize_window()\n",
    "time.sleep(5)"
   ]
  },
  {
   "cell_type": "code",
   "execution_count": 3,
   "metadata": {},
   "outputs": [],
   "source": [
    "driver.get('https://www.amazon.in/')\n",
    "time.sleep(10)"
   ]
  },
  {
   "cell_type": "code",
   "execution_count": 4,
   "metadata": {},
   "outputs": [],
   "source": [
    "#search_lap = driver.find_element_by_xpath('//div[@class=\"nav-search-field \"]')\n",
    "search_lap = driver.find_element_by_id('twotabsearchtextbox')\n",
    "search_lap.send_keys(\"laptop\")"
   ]
  },
  {
   "cell_type": "code",
   "execution_count": 5,
   "metadata": {},
   "outputs": [],
   "source": [
    "search_button = driver.find_element_by_id('nav-search-submit-button')\n",
    "search_button.click()"
   ]
  },
  {
   "cell_type": "code",
   "execution_count": 6,
   "metadata": {},
   "outputs": [],
   "source": [
    "time.sleep(5)\n",
    "search_i7 = driver.find_elements_by_xpath(\"//a[@class='a-link-normal s-navigation-item']\")\n",
    "for i in search_i7:\n",
    "    if i.text == 'Intel Core i7':\n",
    "        i.click()\n",
    "        break"
   ]
  },
  {
   "cell_type": "code",
   "execution_count": 7,
   "metadata": {},
   "outputs": [],
   "source": [
    "time.sleep(5)\n",
    "search_i9 = driver.find_elements_by_xpath(\"//a[@class='a-link-normal s-navigation-item']\")\n",
    "for i in search_i9:\n",
    "    if i.text == 'Intel Core i9':\n",
    "        i.click()\n",
    "        break"
   ]
  },
  {
   "cell_type": "markdown",
   "metadata": {},
   "source": [
    "After setting the filters scrape first 10 laptops data. You have to scrape 3 attributes for each laptop:\n",
    "\n",
    "1. title\n",
    "2. Ratings\n",
    "3. Price"
   ]
  },
  {
   "cell_type": "code",
   "execution_count": 8,
   "metadata": {},
   "outputs": [],
   "source": [
    "title = []\n",
    "rating = []\n",
    "price = []"
   ]
  },
  {
   "cell_type": "code",
   "execution_count": 9,
   "metadata": {},
   "outputs": [],
   "source": [
    "head = []\n",
    "head = driver.find_elements_by_xpath(\"//span[@class='a-size-medium a-color-base a-text-normal']\")"
   ]
  },
  {
   "cell_type": "code",
   "execution_count": 10,
   "metadata": {},
   "outputs": [],
   "source": [
    "for i in head:\n",
    "    title.append(i.text)"
   ]
  },
  {
   "cell_type": "code",
   "execution_count": 11,
   "metadata": {},
   "outputs": [],
   "source": [
    "rate = []\n",
    "rate = driver.find_elements_by_xpath(\"//span[@class='a-icon-alt']\")\n",
    "for i in rate:\n",
    "    rating.append(i.text)"
   ]
  },
  {
   "cell_type": "code",
   "execution_count": 1,
   "metadata": {},
   "outputs": [
    {
     "ename": "NameError",
     "evalue": "name 'rating' is not defined",
     "output_type": "error",
     "traceback": [
      "\u001b[1;31m---------------------------------------------------------------------------\u001b[0m",
      "\u001b[1;31mNameError\u001b[0m                                 Traceback (most recent call last)",
      "\u001b[1;32m<ipython-input-1-b49f423998b0>\u001b[0m in \u001b[0;36m<module>\u001b[1;34m\u001b[0m\n\u001b[1;32m----> 1\u001b[1;33m \u001b[0mlen\u001b[0m\u001b[1;33m(\u001b[0m\u001b[0mrating\u001b[0m\u001b[1;33m)\u001b[0m\u001b[1;33m\u001b[0m\u001b[1;33m\u001b[0m\u001b[0m\n\u001b[0m",
      "\u001b[1;31mNameError\u001b[0m: name 'rating' is not defined"
     ]
    }
   ],
   "source": [
    "len(rating)"
   ]
  },
  {
   "cell_type": "code",
   "execution_count": 14,
   "metadata": {},
   "outputs": [],
   "source": [
    "paise = []\n",
    "paise = driver.find_elements_by_xpath(\"//span[@class='a-price-whole']\")\n",
    "for i in paise:\n",
    "    price.append(i.text)"
   ]
  },
  {
   "cell_type": "code",
   "execution_count": 15,
   "metadata": {},
   "outputs": [],
   "source": [
    "page2 = driver.find_element_by_xpath(\"//li[@class='a-last']\")\n",
    "page2.click()"
   ]
  },
  {
   "cell_type": "markdown",
   "metadata": {},
   "source": [
    "target_url = []\n",
    "url = driver.find_elements_by_xpath(\"//a[@class='_1LKTO3']\")\n",
    "for i in url:\n",
    "    target_url.append(i.get_attribute('href'))"
   ]
  },
  {
   "cell_type": "code",
   "execution_count": 16,
   "metadata": {},
   "outputs": [],
   "source": [
    "head2 = []\n",
    "head2 = driver.find_elements_by_xpath(\"//span[@class='a-size-medium a-color-base a-text-normal']\")\n",
    "for i in head2:\n",
    "    title.append(i.text)"
   ]
  },
  {
   "cell_type": "code",
   "execution_count": 17,
   "metadata": {},
   "outputs": [],
   "source": [
    "rate2 = []\n",
    "rate2 = driver.find_elements_by_xpath(\"//span[@class='a-icon-alt']\")\n",
    "for i in rate2:\n",
    "    rating.append(i.text)"
   ]
  },
  {
   "cell_type": "code",
   "execution_count": 18,
   "metadata": {},
   "outputs": [],
   "source": [
    "paise2 = []\n",
    "paise2 = driver.find_elements_by_xpath(\"//span[@class='a-price-whole']\")\n",
    "for i in paise2:\n",
    "    price.append(i.text)"
   ]
  },
  {
   "cell_type": "code",
   "execution_count": 19,
   "metadata": {},
   "outputs": [
    {
     "name": "stdout",
     "output_type": "stream",
     "text": [
      "30 37 30\n"
     ]
    }
   ],
   "source": [
    "print(len(price), len(rating),len(title))"
   ]
  },
  {
   "cell_type": "code",
   "execution_count": 23,
   "metadata": {},
   "outputs": [],
   "source": [
    "price = price[0:30]\n",
    "title = title[0:30]\n",
    "rating = rating[0:30]"
   ]
  },
  {
   "cell_type": "code",
   "execution_count": 24,
   "metadata": {},
   "outputs": [
    {
     "data": {
      "text/html": [
       "<div>\n",
       "<style scoped>\n",
       "    .dataframe tbody tr th:only-of-type {\n",
       "        vertical-align: middle;\n",
       "    }\n",
       "\n",
       "    .dataframe tbody tr th {\n",
       "        vertical-align: top;\n",
       "    }\n",
       "\n",
       "    .dataframe thead th {\n",
       "        text-align: right;\n",
       "    }\n",
       "</style>\n",
       "<table border=\"1\" class=\"dataframe\">\n",
       "  <thead>\n",
       "    <tr style=\"text-align: right;\">\n",
       "      <th></th>\n",
       "      <th>Laptop Name</th>\n",
       "      <th>Price</th>\n",
       "      <th>Ratings</th>\n",
       "    </tr>\n",
       "  </thead>\n",
       "  <tbody>\n",
       "    <tr>\n",
       "      <th>0</th>\n",
       "      <td>LG Gram Ultra-Light 11th Gen Core i7,16 GB RAM...</td>\n",
       "      <td>92,290</td>\n",
       "      <td></td>\n",
       "    </tr>\n",
       "    <tr>\n",
       "      <th>1</th>\n",
       "      <td>Lenovo ThinkBook 15 Intel 11th Gen Core i7 15....</td>\n",
       "      <td>84,990</td>\n",
       "      <td></td>\n",
       "    </tr>\n",
       "    <tr>\n",
       "      <th>2</th>\n",
       "      <td>Life Digital Laptop 15.6-inch (39.62 cms) (Int...</td>\n",
       "      <td>24,990</td>\n",
       "      <td></td>\n",
       "    </tr>\n",
       "    <tr>\n",
       "      <th>3</th>\n",
       "      <td>HP Pavilion (2021) Intel 11th Gen Core i7 14 i...</td>\n",
       "      <td>84,990</td>\n",
       "      <td></td>\n",
       "    </tr>\n",
       "    <tr>\n",
       "      <th>4</th>\n",
       "      <td>Acer Nitro 5 11th Gen Intel Core i7-11800H 15....</td>\n",
       "      <td>89,990</td>\n",
       "      <td></td>\n",
       "    </tr>\n",
       "    <tr>\n",
       "      <th>5</th>\n",
       "      <td>Mi Notebook Horizon Edition 14 Intel Core i7-1...</td>\n",
       "      <td>53,990</td>\n",
       "      <td></td>\n",
       "    </tr>\n",
       "    <tr>\n",
       "      <th>6</th>\n",
       "      <td>Lenovo IdeaPad S540 11th Gen Intel Core i7 13....</td>\n",
       "      <td>76,990</td>\n",
       "      <td></td>\n",
       "    </tr>\n",
       "    <tr>\n",
       "      <th>7</th>\n",
       "      <td>Lenovo ThinkBook 15 Intel 11th Gen Core i7 15....</td>\n",
       "      <td>84,990</td>\n",
       "      <td></td>\n",
       "    </tr>\n",
       "    <tr>\n",
       "      <th>8</th>\n",
       "      <td>HP Pavilion 13(2021) 11th Gen Intel Core i7 La...</td>\n",
       "      <td>91,990</td>\n",
       "      <td></td>\n",
       "    </tr>\n",
       "    <tr>\n",
       "      <th>9</th>\n",
       "      <td>Fujitsu UH-X 11th Gen Intel i7 Core 13.3” (33....</td>\n",
       "      <td>89,990</td>\n",
       "      <td></td>\n",
       "    </tr>\n",
       "    <tr>\n",
       "      <th>10</th>\n",
       "      <td>Dell 14 (2021) i7-1195G7 2in1 Touch Screen Lap...</td>\n",
       "      <td>89,990</td>\n",
       "      <td></td>\n",
       "    </tr>\n",
       "    <tr>\n",
       "      <th>11</th>\n",
       "      <td>ASUS TUF Dash F15 (2021) 15.6-inch (39.62 cms)...</td>\n",
       "      <td>79,990</td>\n",
       "      <td></td>\n",
       "    </tr>\n",
       "    <tr>\n",
       "      <th>12</th>\n",
       "      <td>Fujitsu UH-X 11th Gen Intel Core i7 13.3 inche...</td>\n",
       "      <td>1,02,990</td>\n",
       "      <td></td>\n",
       "    </tr>\n",
       "    <tr>\n",
       "      <th>13</th>\n",
       "      <td>Lenovo Legion 5 10th Gen Intel Core i7-10750H ...</td>\n",
       "      <td>81,990</td>\n",
       "      <td></td>\n",
       "    </tr>\n",
       "    <tr>\n",
       "      <th>14</th>\n",
       "      <td>ASUS VivoBook S S15 (2021) Intel Core i7-1165G...</td>\n",
       "      <td>91,900</td>\n",
       "      <td></td>\n",
       "    </tr>\n",
       "    <tr>\n",
       "      <th>15</th>\n",
       "      <td>LG Gram Ultra-Light 11th Gen Core i7,16 GB RAM...</td>\n",
       "      <td>95,490</td>\n",
       "      <td></td>\n",
       "    </tr>\n",
       "    <tr>\n",
       "      <th>16</th>\n",
       "      <td>MSI GF75 Thin, Intel i7-10750H, 17.3\" (43.9 cm...</td>\n",
       "      <td>74,990</td>\n",
       "      <td></td>\n",
       "    </tr>\n",
       "    <tr>\n",
       "      <th>17</th>\n",
       "      <td>ASUS TUF Dash F15 (2021), 15.6-inch (39.62 cms...</td>\n",
       "      <td>80,990</td>\n",
       "      <td></td>\n",
       "    </tr>\n",
       "    <tr>\n",
       "      <th>18</th>\n",
       "      <td>HP Pavilion Gaming 11th Gen Intel Core i7 15.6...</td>\n",
       "      <td>89,990</td>\n",
       "      <td></td>\n",
       "    </tr>\n",
       "    <tr>\n",
       "      <th>19</th>\n",
       "      <td>ASUS TUF Dash F15 (2021) 15.6\" (39.62 cm) FHD ...</td>\n",
       "      <td>1,19,990</td>\n",
       "      <td></td>\n",
       "    </tr>\n",
       "    <tr>\n",
       "      <th>20</th>\n",
       "      <td>Dell 15 (2021) i7-10870H Gaming Laptop, 16GB D...</td>\n",
       "      <td>94,990</td>\n",
       "      <td></td>\n",
       "    </tr>\n",
       "    <tr>\n",
       "      <th>21</th>\n",
       "      <td>Lenovo Legion 5 11th Gen Intel Core i7 15.6\"(3...</td>\n",
       "      <td>1,04,990</td>\n",
       "      <td></td>\n",
       "    </tr>\n",
       "    <tr>\n",
       "      <th>22</th>\n",
       "      <td>Lenovo IdeaPad Gaming 3 11th Gen Intel Core i7...</td>\n",
       "      <td>88,990</td>\n",
       "      <td></td>\n",
       "    </tr>\n",
       "    <tr>\n",
       "      <th>23</th>\n",
       "      <td>ASUS TUF Gaming F15 (2021) 15.6-inch (39.62 cm...</td>\n",
       "      <td>91,990</td>\n",
       "      <td></td>\n",
       "    </tr>\n",
       "    <tr>\n",
       "      <th>24</th>\n",
       "      <td>Lenovo Yoga Slim 7 11th gen Intel Core i7 14\" ...</td>\n",
       "      <td>99,990</td>\n",
       "      <td></td>\n",
       "    </tr>\n",
       "    <tr>\n",
       "      <th>25</th>\n",
       "      <td>Lenovo Yoga 7 i7 11th Gen 14\" FHD IPS 2-in-1 L...</td>\n",
       "      <td>98,589</td>\n",
       "      <td></td>\n",
       "    </tr>\n",
       "    <tr>\n",
       "      <th>26</th>\n",
       "      <td>ASUS TUF Dash F15 (2021), 15.6-inch (39.62 cms...</td>\n",
       "      <td>82,990</td>\n",
       "      <td></td>\n",
       "    </tr>\n",
       "    <tr>\n",
       "      <th>27</th>\n",
       "      <td>ASUS ZenBook 13 OLED 2021 Intel Core i7-1165G7...</td>\n",
       "      <td>1,02,900</td>\n",
       "      <td></td>\n",
       "    </tr>\n",
       "    <tr>\n",
       "      <th>28</th>\n",
       "      <td>Mi Notebook Horizon Edition 14 Intel Core i7-1...</td>\n",
       "      <td>53,990</td>\n",
       "      <td></td>\n",
       "    </tr>\n",
       "    <tr>\n",
       "      <th>29</th>\n",
       "      <td>HP Envy Intel 11th Gen Core i7 Processor 13.3 ...</td>\n",
       "      <td>1,28,800</td>\n",
       "      <td></td>\n",
       "    </tr>\n",
       "  </tbody>\n",
       "</table>\n",
       "</div>"
      ],
      "text/plain": [
       "                                          Laptop Name     Price Ratings\n",
       "0   LG Gram Ultra-Light 11th Gen Core i7,16 GB RAM...    92,290        \n",
       "1   Lenovo ThinkBook 15 Intel 11th Gen Core i7 15....    84,990        \n",
       "2   Life Digital Laptop 15.6-inch (39.62 cms) (Int...    24,990        \n",
       "3   HP Pavilion (2021) Intel 11th Gen Core i7 14 i...    84,990        \n",
       "4   Acer Nitro 5 11th Gen Intel Core i7-11800H 15....    89,990        \n",
       "5   Mi Notebook Horizon Edition 14 Intel Core i7-1...    53,990        \n",
       "6   Lenovo IdeaPad S540 11th Gen Intel Core i7 13....    76,990        \n",
       "7   Lenovo ThinkBook 15 Intel 11th Gen Core i7 15....    84,990        \n",
       "8   HP Pavilion 13(2021) 11th Gen Intel Core i7 La...    91,990        \n",
       "9   Fujitsu UH-X 11th Gen Intel i7 Core 13.3” (33....    89,990        \n",
       "10  Dell 14 (2021) i7-1195G7 2in1 Touch Screen Lap...    89,990        \n",
       "11  ASUS TUF Dash F15 (2021) 15.6-inch (39.62 cms)...    79,990        \n",
       "12  Fujitsu UH-X 11th Gen Intel Core i7 13.3 inche...  1,02,990        \n",
       "13  Lenovo Legion 5 10th Gen Intel Core i7-10750H ...    81,990        \n",
       "14  ASUS VivoBook S S15 (2021) Intel Core i7-1165G...    91,900        \n",
       "15  LG Gram Ultra-Light 11th Gen Core i7,16 GB RAM...    95,490        \n",
       "16  MSI GF75 Thin, Intel i7-10750H, 17.3\" (43.9 cm...    74,990        \n",
       "17  ASUS TUF Dash F15 (2021), 15.6-inch (39.62 cms...    80,990        \n",
       "18  HP Pavilion Gaming 11th Gen Intel Core i7 15.6...    89,990        \n",
       "19  ASUS TUF Dash F15 (2021) 15.6\" (39.62 cm) FHD ...  1,19,990        \n",
       "20  Dell 15 (2021) i7-10870H Gaming Laptop, 16GB D...    94,990        \n",
       "21  Lenovo Legion 5 11th Gen Intel Core i7 15.6\"(3...  1,04,990        \n",
       "22  Lenovo IdeaPad Gaming 3 11th Gen Intel Core i7...    88,990        \n",
       "23  ASUS TUF Gaming F15 (2021) 15.6-inch (39.62 cm...    91,990        \n",
       "24  Lenovo Yoga Slim 7 11th gen Intel Core i7 14\" ...    99,990        \n",
       "25  Lenovo Yoga 7 i7 11th Gen 14\" FHD IPS 2-in-1 L...    98,589        \n",
       "26  ASUS TUF Dash F15 (2021), 15.6-inch (39.62 cms...    82,990        \n",
       "27  ASUS ZenBook 13 OLED 2021 Intel Core i7-1165G7...  1,02,900        \n",
       "28  Mi Notebook Horizon Edition 14 Intel Core i7-1...    53,990        \n",
       "29  HP Envy Intel 11th Gen Core i7 Processor 13.3 ...  1,28,800        "
      ]
     },
     "execution_count": 24,
     "metadata": {},
     "output_type": "execute_result"
    }
   ],
   "source": [
    "laptop_details = pd.DataFrame({})\n",
    "laptop_details['Laptop Name'] = title\n",
    "laptop_details['Price'] = price\n",
    "laptop_details['Ratings'] = rating\n",
    "\n",
    "laptop_details"
   ]
  },
  {
   "cell_type": "code",
   "execution_count": null,
   "metadata": {},
   "outputs": [],
   "source": []
  }
 ],
 "metadata": {
  "kernelspec": {
   "display_name": "Python 3",
   "language": "python",
   "name": "python3"
  },
  "language_info": {
   "codemirror_mode": {
    "name": "ipython",
    "version": 3
   },
   "file_extension": ".py",
   "mimetype": "text/x-python",
   "name": "python",
   "nbconvert_exporter": "python",
   "pygments_lexer": "ipython3",
   "version": "3.8.5"
  }
 },
 "nbformat": 4,
 "nbformat_minor": 4
}
