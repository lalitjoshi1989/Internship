{
 "cells": [
  {
   "cell_type": "markdown",
   "metadata": {},
   "source": [
    "# Q4: Write a python program to scrape data for first 10 job results for Data scientist Designation in Noida location. You have to scrape company_name, No. of days ago when job was posted, Rating of the company.\n",
    "This task will be done in following steps:\n",
    "1. first get the webpage https://www.glassdoor.co.in/index.htm\n",
    "2. Enter “Data Scientist” in “Job Title,Keyword,Company” field and enter “Noida” in “location” field.\n",
    "3. Then click the search button. You will land up in the below page:\n",
    "4. Then scrape the data for the first 10 jobs results you get in the above shown page.\n",
    "5. Finally create a dataframe of the scraped data.\n",
    "Note- All of the above steps have to be done in code. No step is to be done manually."
   ]
  },
  {
   "cell_type": "code",
   "execution_count": 1,
   "metadata": {},
   "outputs": [],
   "source": [
    "import pandas as pd\n",
    "import selenium\n",
    "from selenium import webdriver\n",
    "import time"
   ]
  },
  {
   "cell_type": "code",
   "execution_count": 39,
   "metadata": {},
   "outputs": [],
   "source": [
    "driver = webdriver.Chrome(r\"C:\\Users\\User\\Documents\\chromedriver.exe\")\n",
    "driver.maximize_window()\n",
    "time.sleep(5)"
   ]
  },
  {
   "cell_type": "code",
   "execution_count": 3,
   "metadata": {},
   "outputs": [],
   "source": [
    "driver.get('https://www.glassdoor.co.in/member/home/index.htm')\n",
    "time.sleep(8)"
   ]
  },
  {
   "cell_type": "code",
   "execution_count": 4,
   "metadata": {},
   "outputs": [],
   "source": [
    "company_name = []\n",
    "days = []\n",
    "rating_comp = []"
   ]
  },
  {
   "cell_type": "code",
   "execution_count": 6,
   "metadata": {},
   "outputs": [],
   "source": [
    "search_job = driver.find_element_by_id(\"sc.keyword\")\n",
    "search_job.send_keys(\"Data Scientist\")"
   ]
  },
  {
   "cell_type": "code",
   "execution_count": 7,
   "metadata": {},
   "outputs": [],
   "source": [
    "search_loc = driver.find_element_by_id(\"sc.location\")\n",
    "search_loc.send_keys(\"Noida\")"
   ]
  },
  {
   "cell_type": "code",
   "execution_count": 8,
   "metadata": {},
   "outputs": [],
   "source": [
    "search = driver.find_element_by_xpath(\"//button[@class='gd-ui-button ml-std col-auto search__SearchStyles__newSearchButton css-1dqvyh7']\")\n",
    "search.click()\n",
    "time.sleep(10)"
   ]
  },
  {
   "cell_type": "code",
   "execution_count": 9,
   "metadata": {},
   "outputs": [],
   "source": [
    "comp = []\n",
    "comp = driver.find_elements_by_xpath(\"//div[@class='d-flex justify-content-between align-items-start']\")\n",
    "for i in comp:\n",
    "    company_name.append(i.text)"
   ]
  },
  {
   "cell_type": "code",
   "execution_count": 10,
   "metadata": {},
   "outputs": [
    {
     "data": {
      "text/plain": [
       "30"
      ]
     },
     "execution_count": 10,
     "metadata": {},
     "output_type": "execute_result"
    }
   ],
   "source": [
    "len(company_name)"
   ]
  },
  {
   "cell_type": "code",
   "execution_count": 11,
   "metadata": {},
   "outputs": [],
   "source": [
    "day = []\n",
    "day = driver.find_elements_by_xpath(\"//div[@class='d-flex align-items-end pl-std css-17n8uzw']\")\n",
    "for i in day:\n",
    "    days.append(i.text)"
   ]
  },
  {
   "cell_type": "code",
   "execution_count": 12,
   "metadata": {},
   "outputs": [
    {
     "data": {
      "text/plain": [
       "30"
      ]
     },
     "execution_count": 12,
     "metadata": {},
     "output_type": "execute_result"
    }
   ],
   "source": [
    "len(days)"
   ]
  },
  {
   "cell_type": "code",
   "execution_count": 13,
   "metadata": {},
   "outputs": [],
   "source": [
    "rating = []\n",
    "rating = driver.find_elements_by_xpath(\"//div[@class='d-flex flex-column job-search-key-1pzmdmc e1rrn5ka1']\")\n",
    "for i in rating:\n",
    "    try:\n",
    "        rating_comp.append(i.text)\n",
    "    except:\n",
    "        rating_comp.append(\"NA\")"
   ]
  },
  {
   "cell_type": "code",
   "execution_count": 14,
   "metadata": {},
   "outputs": [
    {
     "data": {
      "text/plain": [
       "30"
      ]
     },
     "execution_count": 14,
     "metadata": {},
     "output_type": "execute_result"
    }
   ],
   "source": [
    "len(rating_comp)"
   ]
  },
  {
   "cell_type": "code",
   "execution_count": 15,
   "metadata": {},
   "outputs": [],
   "source": [
    "job_detail = pd.DataFrame({})\n",
    "job_detail[\"Company Name\"] = company_name\n",
    "job_detail[\"Job Posted\"] = days\n",
    "job_detail[\"Company Rating\"] = rating_comp"
   ]
  },
  {
   "cell_type": "code",
   "execution_count": 16,
   "metadata": {},
   "outputs": [
    {
     "data": {
      "text/html": [
       "<div>\n",
       "<style scoped>\n",
       "    .dataframe tbody tr th:only-of-type {\n",
       "        vertical-align: middle;\n",
       "    }\n",
       "\n",
       "    .dataframe tbody tr th {\n",
       "        vertical-align: top;\n",
       "    }\n",
       "\n",
       "    .dataframe thead th {\n",
       "        text-align: right;\n",
       "    }\n",
       "</style>\n",
       "<table border=\"1\" class=\"dataframe\">\n",
       "  <thead>\n",
       "    <tr style=\"text-align: right;\">\n",
       "      <th></th>\n",
       "      <th>Company Name</th>\n",
       "      <th>Job Posted</th>\n",
       "      <th>Company Rating</th>\n",
       "    </tr>\n",
       "  </thead>\n",
       "  <tbody>\n",
       "    <tr>\n",
       "      <th>0</th>\n",
       "      <td>Instrovate Technologies</td>\n",
       "      <td>30d+</td>\n",
       "      <td></td>\n",
       "    </tr>\n",
       "    <tr>\n",
       "      <th>1</th>\n",
       "      <td>2COMS Consulting Private Limited</td>\n",
       "      <td>17d</td>\n",
       "      <td>3.8</td>\n",
       "    </tr>\n",
       "    <tr>\n",
       "      <th>2</th>\n",
       "      <td>Pixel Vision</td>\n",
       "      <td>6d</td>\n",
       "      <td></td>\n",
       "    </tr>\n",
       "    <tr>\n",
       "      <th>3</th>\n",
       "      <td>UnitedHealth Group</td>\n",
       "      <td>9d</td>\n",
       "      <td>3.7</td>\n",
       "    </tr>\n",
       "    <tr>\n",
       "      <th>4</th>\n",
       "      <td>HDFC Bank</td>\n",
       "      <td>6d</td>\n",
       "      <td></td>\n",
       "    </tr>\n",
       "    <tr>\n",
       "      <th>5</th>\n",
       "      <td>Crowe</td>\n",
       "      <td>16d</td>\n",
       "      <td>3.8</td>\n",
       "    </tr>\n",
       "    <tr>\n",
       "      <th>6</th>\n",
       "      <td>Innovacer</td>\n",
       "      <td>5d</td>\n",
       "      <td>3.8</td>\n",
       "    </tr>\n",
       "    <tr>\n",
       "      <th>7</th>\n",
       "      <td>Salasar New Age Technologies</td>\n",
       "      <td>30d+</td>\n",
       "      <td></td>\n",
       "    </tr>\n",
       "    <tr>\n",
       "      <th>8</th>\n",
       "      <td>AlgoScale Technologies Private Limited</td>\n",
       "      <td>30d+</td>\n",
       "      <td>4.0</td>\n",
       "    </tr>\n",
       "    <tr>\n",
       "      <th>9</th>\n",
       "      <td>Optum - India</td>\n",
       "      <td>24d</td>\n",
       "      <td>4.0</td>\n",
       "    </tr>\n",
       "    <tr>\n",
       "      <th>10</th>\n",
       "      <td>Techlive</td>\n",
       "      <td>30d+</td>\n",
       "      <td>5.0</td>\n",
       "    </tr>\n",
       "    <tr>\n",
       "      <th>11</th>\n",
       "      <td>Liberin Technologies Private Limited</td>\n",
       "      <td>30d+</td>\n",
       "      <td></td>\n",
       "    </tr>\n",
       "    <tr>\n",
       "      <th>12</th>\n",
       "      <td>RannLab Technologies</td>\n",
       "      <td>2d</td>\n",
       "      <td>3.6</td>\n",
       "    </tr>\n",
       "    <tr>\n",
       "      <th>13</th>\n",
       "      <td>AIIMS, Delhi</td>\n",
       "      <td>4d</td>\n",
       "      <td>4.5</td>\n",
       "    </tr>\n",
       "    <tr>\n",
       "      <th>14</th>\n",
       "      <td>CODEC Networks Pvt ltd</td>\n",
       "      <td>19d</td>\n",
       "      <td>3.1</td>\n",
       "    </tr>\n",
       "    <tr>\n",
       "      <th>15</th>\n",
       "      <td>NEC Opportunities</td>\n",
       "      <td>17d</td>\n",
       "      <td></td>\n",
       "    </tr>\n",
       "    <tr>\n",
       "      <th>16</th>\n",
       "      <td>Iraitech Innovations &amp; Tehcnologies Pvt.Ltd</td>\n",
       "      <td>9d</td>\n",
       "      <td></td>\n",
       "    </tr>\n",
       "    <tr>\n",
       "      <th>17</th>\n",
       "      <td>Biz2Credit Inc</td>\n",
       "      <td>30d+</td>\n",
       "      <td>4.3</td>\n",
       "    </tr>\n",
       "    <tr>\n",
       "      <th>18</th>\n",
       "      <td>Emerging India Group</td>\n",
       "      <td>30d+</td>\n",
       "      <td>2.4</td>\n",
       "    </tr>\n",
       "    <tr>\n",
       "      <th>19</th>\n",
       "      <td>Salasar New Age Technologies</td>\n",
       "      <td>30d+</td>\n",
       "      <td></td>\n",
       "    </tr>\n",
       "    <tr>\n",
       "      <th>20</th>\n",
       "      <td>dunnhumby</td>\n",
       "      <td>3d</td>\n",
       "      <td>4.1</td>\n",
       "    </tr>\n",
       "    <tr>\n",
       "      <th>21</th>\n",
       "      <td>UnitedHealth Group</td>\n",
       "      <td>24d</td>\n",
       "      <td>3.7</td>\n",
       "    </tr>\n",
       "    <tr>\n",
       "      <th>22</th>\n",
       "      <td>R Systems</td>\n",
       "      <td>16d</td>\n",
       "      <td>3.6</td>\n",
       "    </tr>\n",
       "    <tr>\n",
       "      <th>23</th>\n",
       "      <td>Kline &amp; Company</td>\n",
       "      <td>4d</td>\n",
       "      <td></td>\n",
       "    </tr>\n",
       "    <tr>\n",
       "      <th>24</th>\n",
       "      <td>Newgen Software</td>\n",
       "      <td>30d+</td>\n",
       "      <td>3.3</td>\n",
       "    </tr>\n",
       "    <tr>\n",
       "      <th>25</th>\n",
       "      <td>UnitedHealth Group</td>\n",
       "      <td>30d+</td>\n",
       "      <td>3.7</td>\n",
       "    </tr>\n",
       "    <tr>\n",
       "      <th>26</th>\n",
       "      <td>TransOrg Analytics</td>\n",
       "      <td>11d</td>\n",
       "      <td>2.7</td>\n",
       "    </tr>\n",
       "    <tr>\n",
       "      <th>27</th>\n",
       "      <td>Airtel India</td>\n",
       "      <td>30d+</td>\n",
       "      <td>3.8</td>\n",
       "    </tr>\n",
       "    <tr>\n",
       "      <th>28</th>\n",
       "      <td>Crypto Mize</td>\n",
       "      <td>30d+</td>\n",
       "      <td>5.0</td>\n",
       "    </tr>\n",
       "    <tr>\n",
       "      <th>29</th>\n",
       "      <td>TransOrg Analytics</td>\n",
       "      <td>11d</td>\n",
       "      <td>2.7</td>\n",
       "    </tr>\n",
       "  </tbody>\n",
       "</table>\n",
       "</div>"
      ],
      "text/plain": [
       "                                   Company Name Job Posted Company Rating\n",
       "0                       Instrovate Technologies       30d+               \n",
       "1              2COMS Consulting Private Limited        17d            3.8\n",
       "2                                  Pixel Vision         6d               \n",
       "3                            UnitedHealth Group         9d            3.7\n",
       "4                                     HDFC Bank         6d               \n",
       "5                                         Crowe        16d            3.8\n",
       "6                                     Innovacer         5d            3.8\n",
       "7                  Salasar New Age Technologies       30d+               \n",
       "8        AlgoScale Technologies Private Limited       30d+            4.0\n",
       "9                                 Optum - India        24d            4.0\n",
       "10                                     Techlive       30d+            5.0\n",
       "11         Liberin Technologies Private Limited       30d+               \n",
       "12                         RannLab Technologies         2d            3.6\n",
       "13                                 AIIMS, Delhi         4d            4.5\n",
       "14                       CODEC Networks Pvt ltd        19d            3.1\n",
       "15                            NEC Opportunities        17d               \n",
       "16  Iraitech Innovations & Tehcnologies Pvt.Ltd         9d               \n",
       "17                               Biz2Credit Inc       30d+            4.3\n",
       "18                         Emerging India Group       30d+            2.4\n",
       "19                 Salasar New Age Technologies       30d+               \n",
       "20                                    dunnhumby         3d            4.1\n",
       "21                           UnitedHealth Group        24d            3.7\n",
       "22                                    R Systems        16d            3.6\n",
       "23                              Kline & Company         4d               \n",
       "24                              Newgen Software       30d+            3.3\n",
       "25                           UnitedHealth Group       30d+            3.7\n",
       "26                           TransOrg Analytics        11d            2.7\n",
       "27                                 Airtel India       30d+            3.8\n",
       "28                                  Crypto Mize       30d+            5.0\n",
       "29                           TransOrg Analytics        11d            2.7"
      ]
     },
     "execution_count": 16,
     "metadata": {},
     "output_type": "execute_result"
    }
   ],
   "source": [
    "job_detail"
   ]
  },
  {
   "cell_type": "code",
   "execution_count": 145,
   "metadata": {},
   "outputs": [],
   "source": [
    "driver = webdriver.Chrome(r\"C:\\Users\\User\\Documents\\chromedriver.exe\")\n",
    "driver.maximize_window()\n",
    "time.sleep(5)"
   ]
  },
  {
   "cell_type": "code",
   "execution_count": 170,
   "metadata": {},
   "outputs": [],
   "source": [
    "driver.get('https://www.glassdoor.co.in/Salaries/index.htm')\n",
    "time.sleep(8)"
   ]
  },
  {
   "cell_type": "code",
   "execution_count": 171,
   "metadata": {},
   "outputs": [],
   "source": [
    "job2 = driver.find_element_by_id(\"KeywordSearch\")\n",
    "job2.send_keys(\"Data Scientist\")"
   ]
  },
  {
   "cell_type": "code",
   "execution_count": 172,
   "metadata": {},
   "outputs": [],
   "source": [
    "search_loc = driver.find_element_by_id(\"LocationSearch\")\n",
    "search_loc.send_keys(\"Noida\")"
   ]
  },
  {
   "cell_type": "code",
   "execution_count": 173,
   "metadata": {},
   "outputs": [],
   "source": [
    "button = driver.find_element_by_xpath(\"//button[@class='gd-btn-mkt']\")\n",
    "button.click()\n",
    "time.sleep(10)"
   ]
  },
  {
   "cell_type": "code",
   "execution_count": 174,
   "metadata": {},
   "outputs": [],
   "source": [
    "company_name = []\n",
    "no_sal = []\n",
    "avg_sal = []\n",
    "min_sal = []\n",
    "max_sal = []"
   ]
  },
  {
   "cell_type": "code",
   "execution_count": 175,
   "metadata": {},
   "outputs": [],
   "source": [
    "comp = []\n",
    "comp = driver.find_elements_by_xpath(\"//a[@class='css-f3vw95 e1aj7ssy3']\")\n",
    "for i in comp:\n",
    "    company_name.append(i.text)"
   ]
  },
  {
   "cell_type": "code",
   "execution_count": 176,
   "metadata": {},
   "outputs": [
    {
     "data": {
      "text/plain": [
       "['Tata Consultancy Services',\n",
       " 'IBM',\n",
       " 'Accenture',\n",
       " 'Ericsson-Worldwide',\n",
       " 'UnitedHealth Group',\n",
       " 'Delhivery',\n",
       " 'EXL Service',\n",
       " 'Optum',\n",
       " 'ZS Associates',\n",
       " 'Optum Global Solutions',\n",
       " 'dunnhumby',\n",
       " 'Valiance Solutions',\n",
       " 'Cognizant Technology Solutions',\n",
       " 'Amazon',\n",
       " 'Nagarro',\n",
       " 'Innovaccer',\n",
       " 'Fresher',\n",
       " 'OYO',\n",
       " 'HCL Technologies',\n",
       " 'Genpact']"
      ]
     },
     "execution_count": 176,
     "metadata": {},
     "output_type": "execute_result"
    }
   ],
   "source": [
    "company_name"
   ]
  },
  {
   "cell_type": "code",
   "execution_count": 177,
   "metadata": {},
   "outputs": [],
   "source": [
    "sal1 = []\n",
    "sal1 = driver.find_elements_by_xpath(\"//div[@class='col-12 col-lg-auto']//span[@class='m-0 css-1b6bxoo']\")\n",
    "for i in sal1:\n",
    "    no_sal.append(i.text)"
   ]
  },
  {
   "cell_type": "code",
   "execution_count": 178,
   "metadata": {},
   "outputs": [
    {
     "data": {
      "text/plain": [
       "20"
      ]
     },
     "execution_count": 178,
     "metadata": {},
     "output_type": "execute_result"
    }
   ],
   "source": [
    "len(no_sal)"
   ]
  },
  {
   "cell_type": "code",
   "execution_count": 179,
   "metadata": {},
   "outputs": [],
   "source": [
    "sal2 = []\n",
    "sal2 = driver.find_elements_by_xpath(\"//div[@class='col-12 col-lg-4 px-lg-0 d-flex align-items-baseline']\")\n",
    "for i in sal2:\n",
    "    avg_sal.append(i.text.replace(\"\\n\",\" \"))"
   ]
  },
  {
   "cell_type": "code",
   "execution_count": 180,
   "metadata": {},
   "outputs": [
    {
     "data": {
      "text/plain": [
       "['₹6,36,785  /yr',\n",
       " '₹9,24,624  /yr',\n",
       " '₹12,24,104  /yr',\n",
       " '₹7,68,525  /yr',\n",
       " '₹12,82,880  /yr',\n",
       " '₹12,60,805  /yr',\n",
       " '₹12,53,544  /yr',\n",
       " '₹12,70,000  /yr',\n",
       " '₹11,82,266  /yr',\n",
       " '₹14,62,558  /yr',\n",
       " '₹11,45,202  /yr',\n",
       " '₹8,93,926  /yr',\n",
       " '₹9,66,328  /yr',\n",
       " '₹20,82,095  /yr',\n",
       " '₹11,11,592  /yr',\n",
       " '₹12,51,280  /yr',\n",
       " '₹50,000  /mo',\n",
       " '₹14,64,785  /yr',\n",
       " '₹6,96,665  /yr',\n",
       " '₹5,96,566  /yr']"
      ]
     },
     "execution_count": 180,
     "metadata": {},
     "output_type": "execute_result"
    }
   ],
   "source": [
    "avg_sal"
   ]
  },
  {
   "cell_type": "code",
   "execution_count": 181,
   "metadata": {},
   "outputs": [],
   "source": [
    "#min_sal = []\n",
    "sal3 = []\n",
    "sal3 = driver.find_elements_by_xpath(\"//div[@class='d-flex mt-xxsm css-79elbk epuxyqn0']/p[1]\")\n",
    "for i in sal3:\n",
    "    min_sal.append(i.text)"
   ]
  },
  {
   "cell_type": "code",
   "execution_count": 182,
   "metadata": {},
   "outputs": [
    {
     "data": {
      "text/plain": [
       "['₹4L',\n",
       " '₹6L',\n",
       " '₹6L',\n",
       " '₹4L',\n",
       " '₹8L',\n",
       " '₹5L',\n",
       " '₹6L',\n",
       " '₹8L',\n",
       " '₹2L',\n",
       " '₹11L',\n",
       " '₹6L',\n",
       " '₹5L',\n",
       " '₹4L',\n",
       " '₹10L',\n",
       " '₹4L',\n",
       " '₹6L',\n",
       " '₹25T',\n",
       " '₹10L',\n",
       " '₹4L',\n",
       " '₹2L']"
      ]
     },
     "execution_count": 182,
     "metadata": {},
     "output_type": "execute_result"
    }
   ],
   "source": [
    "min_sal"
   ]
  },
  {
   "cell_type": "code",
   "execution_count": 183,
   "metadata": {},
   "outputs": [],
   "source": [
    "#min_sal = []\n",
    "sal4 = []\n",
    "sal4 = driver.find_elements_by_xpath(\"//div[@class='d-flex mt-xxsm css-79elbk epuxyqn0']/p[2]\")\n",
    "for i in sal4:\n",
    "    max_sal.append(i.text)"
   ]
  },
  {
   "cell_type": "code",
   "execution_count": 184,
   "metadata": {},
   "outputs": [
    {
     "data": {
      "text/plain": [
       "['₹13L',\n",
       " '₹26L',\n",
       " '₹23L',\n",
       " '₹17L',\n",
       " '₹16L',\n",
       " '₹1Cr',\n",
       " '₹20L',\n",
       " '₹21L',\n",
       " '₹22L',\n",
       " '₹18L',\n",
       " '₹21L',\n",
       " '₹15L',\n",
       " '₹13L',\n",
       " '₹46L',\n",
       " '₹21L',\n",
       " '₹18L',\n",
       " '₹1L',\n",
       " '₹21L',\n",
       " '₹15L',\n",
       " '₹23L']"
      ]
     },
     "execution_count": 184,
     "metadata": {},
     "output_type": "execute_result"
    }
   ],
   "source": [
    "max_sal"
   ]
  },
  {
   "cell_type": "code",
   "execution_count": 185,
   "metadata": {},
   "outputs": [],
   "source": [
    "sal_details= pd.DataFrame({})\n",
    "sal_details[\"Company Name\"] = company_name\n",
    "sal_details[\"Number of Salaries\"] = no_sal\n",
    "sal_details[\"Average Salary\"] = avg_sal\n",
    "sal_details[\"Minimum Salary\"] = min_sal\n",
    "sal_details[\"Maximum Salary\"] = max_sal"
   ]
  },
  {
   "cell_type": "code",
   "execution_count": 186,
   "metadata": {},
   "outputs": [
    {
     "data": {
      "text/html": [
       "<div>\n",
       "<style scoped>\n",
       "    .dataframe tbody tr th:only-of-type {\n",
       "        vertical-align: middle;\n",
       "    }\n",
       "\n",
       "    .dataframe tbody tr th {\n",
       "        vertical-align: top;\n",
       "    }\n",
       "\n",
       "    .dataframe thead th {\n",
       "        text-align: right;\n",
       "    }\n",
       "</style>\n",
       "<table border=\"1\" class=\"dataframe\">\n",
       "  <thead>\n",
       "    <tr style=\"text-align: right;\">\n",
       "      <th></th>\n",
       "      <th>Company Name</th>\n",
       "      <th>Number of Salaries</th>\n",
       "      <th>Average Salary</th>\n",
       "      <th>Minimum Salary</th>\n",
       "      <th>Maximum Salary</th>\n",
       "    </tr>\n",
       "  </thead>\n",
       "  <tbody>\n",
       "    <tr>\n",
       "      <th>0</th>\n",
       "      <td>Tata Consultancy Services</td>\n",
       "      <td>25 salaries</td>\n",
       "      <td>₹6,36,785  /yr</td>\n",
       "      <td>₹4L</td>\n",
       "      <td>₹13L</td>\n",
       "    </tr>\n",
       "    <tr>\n",
       "      <th>1</th>\n",
       "      <td>IBM</td>\n",
       "      <td>21 salaries</td>\n",
       "      <td>₹9,24,624  /yr</td>\n",
       "      <td>₹6L</td>\n",
       "      <td>₹26L</td>\n",
       "    </tr>\n",
       "    <tr>\n",
       "      <th>2</th>\n",
       "      <td>Accenture</td>\n",
       "      <td>16 salaries</td>\n",
       "      <td>₹12,24,104  /yr</td>\n",
       "      <td>₹6L</td>\n",
       "      <td>₹23L</td>\n",
       "    </tr>\n",
       "    <tr>\n",
       "      <th>3</th>\n",
       "      <td>Ericsson-Worldwide</td>\n",
       "      <td>15 salaries</td>\n",
       "      <td>₹7,68,525  /yr</td>\n",
       "      <td>₹4L</td>\n",
       "      <td>₹17L</td>\n",
       "    </tr>\n",
       "    <tr>\n",
       "      <th>4</th>\n",
       "      <td>UnitedHealth Group</td>\n",
       "      <td>15 salaries</td>\n",
       "      <td>₹12,82,880  /yr</td>\n",
       "      <td>₹8L</td>\n",
       "      <td>₹16L</td>\n",
       "    </tr>\n",
       "    <tr>\n",
       "      <th>5</th>\n",
       "      <td>Delhivery</td>\n",
       "      <td>15 salaries</td>\n",
       "      <td>₹12,60,805  /yr</td>\n",
       "      <td>₹5L</td>\n",
       "      <td>₹1Cr</td>\n",
       "    </tr>\n",
       "    <tr>\n",
       "      <th>6</th>\n",
       "      <td>EXL Service</td>\n",
       "      <td>11 salaries</td>\n",
       "      <td>₹12,53,544  /yr</td>\n",
       "      <td>₹6L</td>\n",
       "      <td>₹20L</td>\n",
       "    </tr>\n",
       "    <tr>\n",
       "      <th>7</th>\n",
       "      <td>Optum</td>\n",
       "      <td>11 salaries</td>\n",
       "      <td>₹12,70,000  /yr</td>\n",
       "      <td>₹8L</td>\n",
       "      <td>₹21L</td>\n",
       "    </tr>\n",
       "    <tr>\n",
       "      <th>8</th>\n",
       "      <td>ZS Associates</td>\n",
       "      <td>10 salaries</td>\n",
       "      <td>₹11,82,266  /yr</td>\n",
       "      <td>₹2L</td>\n",
       "      <td>₹22L</td>\n",
       "    </tr>\n",
       "    <tr>\n",
       "      <th>9</th>\n",
       "      <td>Optum Global Solutions</td>\n",
       "      <td>10 salaries</td>\n",
       "      <td>₹14,62,558  /yr</td>\n",
       "      <td>₹11L</td>\n",
       "      <td>₹18L</td>\n",
       "    </tr>\n",
       "    <tr>\n",
       "      <th>10</th>\n",
       "      <td>dunnhumby</td>\n",
       "      <td>10 salaries</td>\n",
       "      <td>₹11,45,202  /yr</td>\n",
       "      <td>₹6L</td>\n",
       "      <td>₹21L</td>\n",
       "    </tr>\n",
       "    <tr>\n",
       "      <th>11</th>\n",
       "      <td>Valiance Solutions</td>\n",
       "      <td>10 salaries</td>\n",
       "      <td>₹8,93,926  /yr</td>\n",
       "      <td>₹5L</td>\n",
       "      <td>₹15L</td>\n",
       "    </tr>\n",
       "    <tr>\n",
       "      <th>12</th>\n",
       "      <td>Cognizant Technology Solutions</td>\n",
       "      <td>8 salaries</td>\n",
       "      <td>₹9,66,328  /yr</td>\n",
       "      <td>₹4L</td>\n",
       "      <td>₹13L</td>\n",
       "    </tr>\n",
       "    <tr>\n",
       "      <th>13</th>\n",
       "      <td>Amazon</td>\n",
       "      <td>8 salaries</td>\n",
       "      <td>₹20,82,095  /yr</td>\n",
       "      <td>₹10L</td>\n",
       "      <td>₹46L</td>\n",
       "    </tr>\n",
       "    <tr>\n",
       "      <th>14</th>\n",
       "      <td>Nagarro</td>\n",
       "      <td>8 salaries</td>\n",
       "      <td>₹11,11,592  /yr</td>\n",
       "      <td>₹4L</td>\n",
       "      <td>₹21L</td>\n",
       "    </tr>\n",
       "    <tr>\n",
       "      <th>15</th>\n",
       "      <td>Innovaccer</td>\n",
       "      <td>8 salaries</td>\n",
       "      <td>₹12,51,280  /yr</td>\n",
       "      <td>₹6L</td>\n",
       "      <td>₹18L</td>\n",
       "    </tr>\n",
       "    <tr>\n",
       "      <th>16</th>\n",
       "      <td>Fresher</td>\n",
       "      <td>7 salaries</td>\n",
       "      <td>₹50,000  /mo</td>\n",
       "      <td>₹25T</td>\n",
       "      <td>₹1L</td>\n",
       "    </tr>\n",
       "    <tr>\n",
       "      <th>17</th>\n",
       "      <td>OYO</td>\n",
       "      <td>7 salaries</td>\n",
       "      <td>₹14,64,785  /yr</td>\n",
       "      <td>₹10L</td>\n",
       "      <td>₹21L</td>\n",
       "    </tr>\n",
       "    <tr>\n",
       "      <th>18</th>\n",
       "      <td>HCL Technologies</td>\n",
       "      <td>6 salaries</td>\n",
       "      <td>₹6,96,665  /yr</td>\n",
       "      <td>₹4L</td>\n",
       "      <td>₹15L</td>\n",
       "    </tr>\n",
       "    <tr>\n",
       "      <th>19</th>\n",
       "      <td>Genpact</td>\n",
       "      <td>6 salaries</td>\n",
       "      <td>₹5,96,566  /yr</td>\n",
       "      <td>₹2L</td>\n",
       "      <td>₹23L</td>\n",
       "    </tr>\n",
       "  </tbody>\n",
       "</table>\n",
       "</div>"
      ],
      "text/plain": [
       "                      Company Name Number of Salaries   Average Salary  \\\n",
       "0        Tata Consultancy Services        25 salaries   ₹6,36,785  /yr   \n",
       "1                              IBM        21 salaries   ₹9,24,624  /yr   \n",
       "2                        Accenture        16 salaries  ₹12,24,104  /yr   \n",
       "3               Ericsson-Worldwide        15 salaries   ₹7,68,525  /yr   \n",
       "4               UnitedHealth Group        15 salaries  ₹12,82,880  /yr   \n",
       "5                        Delhivery        15 salaries  ₹12,60,805  /yr   \n",
       "6                      EXL Service        11 salaries  ₹12,53,544  /yr   \n",
       "7                            Optum        11 salaries  ₹12,70,000  /yr   \n",
       "8                    ZS Associates        10 salaries  ₹11,82,266  /yr   \n",
       "9           Optum Global Solutions        10 salaries  ₹14,62,558  /yr   \n",
       "10                       dunnhumby        10 salaries  ₹11,45,202  /yr   \n",
       "11              Valiance Solutions        10 salaries   ₹8,93,926  /yr   \n",
       "12  Cognizant Technology Solutions         8 salaries   ₹9,66,328  /yr   \n",
       "13                          Amazon         8 salaries  ₹20,82,095  /yr   \n",
       "14                         Nagarro         8 salaries  ₹11,11,592  /yr   \n",
       "15                      Innovaccer         8 salaries  ₹12,51,280  /yr   \n",
       "16                         Fresher         7 salaries     ₹50,000  /mo   \n",
       "17                             OYO         7 salaries  ₹14,64,785  /yr   \n",
       "18                HCL Technologies         6 salaries   ₹6,96,665  /yr   \n",
       "19                         Genpact         6 salaries   ₹5,96,566  /yr   \n",
       "\n",
       "   Minimum Salary Maximum Salary  \n",
       "0             ₹4L           ₹13L  \n",
       "1             ₹6L           ₹26L  \n",
       "2             ₹6L           ₹23L  \n",
       "3             ₹4L           ₹17L  \n",
       "4             ₹8L           ₹16L  \n",
       "5             ₹5L           ₹1Cr  \n",
       "6             ₹6L           ₹20L  \n",
       "7             ₹8L           ₹21L  \n",
       "8             ₹2L           ₹22L  \n",
       "9            ₹11L           ₹18L  \n",
       "10            ₹6L           ₹21L  \n",
       "11            ₹5L           ₹15L  \n",
       "12            ₹4L           ₹13L  \n",
       "13           ₹10L           ₹46L  \n",
       "14            ₹4L           ₹21L  \n",
       "15            ₹6L           ₹18L  \n",
       "16           ₹25T            ₹1L  \n",
       "17           ₹10L           ₹21L  \n",
       "18            ₹4L           ₹15L  \n",
       "19            ₹2L           ₹23L  "
      ]
     },
     "execution_count": 186,
     "metadata": {},
     "output_type": "execute_result"
    }
   ],
   "source": [
    "sal_details"
   ]
  },
  {
   "cell_type": "code",
   "execution_count": 187,
   "metadata": {},
   "outputs": [],
   "source": [
    "driver.close()"
   ]
  },
  {
   "cell_type": "code",
   "execution_count": null,
   "metadata": {},
   "outputs": [],
   "source": []
  }
 ],
 "metadata": {
  "kernelspec": {
   "display_name": "Python 3",
   "language": "python",
   "name": "python3"
  },
  "language_info": {
   "codemirror_mode": {
    "name": "ipython",
    "version": 3
   },
   "file_extension": ".py",
   "mimetype": "text/x-python",
   "name": "python",
   "nbconvert_exporter": "python",
   "pygments_lexer": "ipython3",
   "version": "3.8.5"
  }
 },
 "nbformat": 4,
 "nbformat_minor": 4
}
