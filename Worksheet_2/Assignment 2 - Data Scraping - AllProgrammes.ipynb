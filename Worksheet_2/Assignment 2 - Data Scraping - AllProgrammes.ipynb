{
 "cells": [
  {
   "cell_type": "markdown",
   "metadata": {},
   "source": [
    "# Write a python program to display all the header tags from ‘en.wikipedia.org/wiki/Main_Page’."
   ]
  },
  {
   "cell_type": "code",
   "execution_count": 1,
   "metadata": {},
   "outputs": [],
   "source": [
    "from bs4 import BeautifulSoup\n",
    "import requests"
   ]
  },
  {
   "cell_type": "code",
   "execution_count": 2,
   "metadata": {},
   "outputs": [
    {
     "data": {
      "text/plain": [
       "<Response [200]>"
      ]
     },
     "execution_count": 2,
     "metadata": {},
     "output_type": "execute_result"
    }
   ],
   "source": [
    "page = requests.get(\"https://en.wikipedia.org/wiki/Main_Page\")\n",
    "page"
   ]
  },
  {
   "cell_type": "code",
   "execution_count": 3,
   "metadata": {},
   "outputs": [],
   "source": [
    "#page.content"
   ]
  },
  {
   "cell_type": "code",
   "execution_count": 4,
   "metadata": {},
   "outputs": [],
   "source": [
    "target_wiki = BeautifulSoup(page.content)"
   ]
  },
  {
   "cell_type": "code",
   "execution_count": 5,
   "metadata": {},
   "outputs": [],
   "source": [
    "#print(target_wiki.prettify())"
   ]
  },
  {
   "cell_type": "code",
   "execution_count": 6,
   "metadata": {},
   "outputs": [
    {
     "data": {
      "text/plain": [
       "[<span class=\"mw-headline\" id=\"From_today's_featured_article\">From today's featured article</span>,\n",
       " <span class=\"mw-headline\" id=\"Did_you_know_...\">Did you know ...</span>,\n",
       " <span class=\"mw-headline\" id=\"In_the_news\">In the news</span>,\n",
       " <span class=\"mw-headline\" id=\"On_this_day\">On this day</span>,\n",
       " <span class=\"mw-headline\" id=\"Today's_featured_picture\">Today's featured picture</span>,\n",
       " <span class=\"mw-headline\" id=\"Other_areas_of_Wikipedia\">Other areas of Wikipedia</span>,\n",
       " <span class=\"mw-headline\" id=\"Wikipedia's_sister_projects\">Wikipedia's sister projects</span>,\n",
       " <span class=\"mw-headline\" id=\"Wikipedia_languages\">Wikipedia languages</span>]"
      ]
     },
     "execution_count": 6,
     "metadata": {},
     "output_type": "execute_result"
    }
   ],
   "source": [
    "headers = target_wiki.find_all(class_=\"mw-headline\")\n",
    "headers"
   ]
  },
  {
   "cell_type": "code",
   "execution_count": 7,
   "metadata": {},
   "outputs": [],
   "source": [
    "header = []\n",
    "for i in headers:\n",
    "    header.append(i.text.replace(\"\",\"\"))"
   ]
  },
  {
   "cell_type": "code",
   "execution_count": 8,
   "metadata": {},
   "outputs": [
    {
     "data": {
      "text/plain": [
       "[\"From today's featured article\",\n",
       " 'Did you know\\xa0...',\n",
       " 'In the news',\n",
       " 'On this day',\n",
       " \"Today's featured picture\",\n",
       " 'Other areas of Wikipedia',\n",
       " \"Wikipedia's sister projects\",\n",
       " 'Wikipedia languages']"
      ]
     },
     "execution_count": 8,
     "metadata": {},
     "output_type": "execute_result"
    }
   ],
   "source": [
    "header"
   ]
  },
  {
   "cell_type": "code",
   "execution_count": 9,
   "metadata": {},
   "outputs": [],
   "source": [
    "import pandas as pd\n",
    "new_header = pd.DataFrame({})\n",
    "new_header[\"Title\"] = header"
   ]
  },
  {
   "cell_type": "code",
   "execution_count": 10,
   "metadata": {},
   "outputs": [
    {
     "data": {
      "text/html": [
       "<div>\n",
       "<style scoped>\n",
       "    .dataframe tbody tr th:only-of-type {\n",
       "        vertical-align: middle;\n",
       "    }\n",
       "\n",
       "    .dataframe tbody tr th {\n",
       "        vertical-align: top;\n",
       "    }\n",
       "\n",
       "    .dataframe thead th {\n",
       "        text-align: right;\n",
       "    }\n",
       "</style>\n",
       "<table border=\"1\" class=\"dataframe\">\n",
       "  <thead>\n",
       "    <tr style=\"text-align: right;\">\n",
       "      <th></th>\n",
       "      <th>Title</th>\n",
       "    </tr>\n",
       "  </thead>\n",
       "  <tbody>\n",
       "    <tr>\n",
       "      <th>0</th>\n",
       "      <td>From today's featured article</td>\n",
       "    </tr>\n",
       "    <tr>\n",
       "      <th>1</th>\n",
       "      <td>Did you know ...</td>\n",
       "    </tr>\n",
       "    <tr>\n",
       "      <th>2</th>\n",
       "      <td>In the news</td>\n",
       "    </tr>\n",
       "    <tr>\n",
       "      <th>3</th>\n",
       "      <td>On this day</td>\n",
       "    </tr>\n",
       "    <tr>\n",
       "      <th>4</th>\n",
       "      <td>Today's featured picture</td>\n",
       "    </tr>\n",
       "    <tr>\n",
       "      <th>5</th>\n",
       "      <td>Other areas of Wikipedia</td>\n",
       "    </tr>\n",
       "    <tr>\n",
       "      <th>6</th>\n",
       "      <td>Wikipedia's sister projects</td>\n",
       "    </tr>\n",
       "    <tr>\n",
       "      <th>7</th>\n",
       "      <td>Wikipedia languages</td>\n",
       "    </tr>\n",
       "  </tbody>\n",
       "</table>\n",
       "</div>"
      ],
      "text/plain": [
       "                           Title\n",
       "0  From today's featured article\n",
       "1               Did you know ...\n",
       "2                    In the news\n",
       "3                    On this day\n",
       "4       Today's featured picture\n",
       "5       Other areas of Wikipedia\n",
       "6    Wikipedia's sister projects\n",
       "7            Wikipedia languages"
      ]
     },
     "execution_count": 10,
     "metadata": {},
     "output_type": "execute_result"
    }
   ],
   "source": [
    "new_header"
   ]
  },
  {
   "cell_type": "markdown",
   "metadata": {},
   "source": [
    "# Write a python program to display IMDB’s Top rated 100 movies’ data (i.e. Name, IMDB rating, Year of release)."
   ]
  },
  {
   "cell_type": "code",
   "execution_count": 11,
   "metadata": {},
   "outputs": [
    {
     "data": {
      "text/plain": [
       "<Response [200]>"
      ]
     },
     "execution_count": 11,
     "metadata": {},
     "output_type": "execute_result"
    }
   ],
   "source": [
    "page = requests.get(\"https://www.imdb.com/chart/top/?ref_=nv_mv_250\")\n",
    "page"
   ]
  },
  {
   "cell_type": "code",
   "execution_count": 12,
   "metadata": {},
   "outputs": [],
   "source": [
    "#page.content"
   ]
  },
  {
   "cell_type": "code",
   "execution_count": 13,
   "metadata": {},
   "outputs": [],
   "source": [
    "target_imdb = BeautifulSoup(page.content)"
   ]
  },
  {
   "cell_type": "code",
   "execution_count": 14,
   "metadata": {},
   "outputs": [],
   "source": [
    "#print(target_imdb.prettify())"
   ]
  },
  {
   "cell_type": "code",
   "execution_count": 15,
   "metadata": {},
   "outputs": [
    {
     "data": {
      "text/plain": [
       "'<td class=\"titleColumn\">\\n      1.\\n      <a href=\"/title/tt0111161/\" title=\"Frank Darabont (dir.), Tim Robbins, Morgan Freeman\">The Shawshank Redemption</a>\\n<span class=\"secondaryInfo\">(1994)</span>\\n</td>'"
      ]
     },
     "execution_count": 15,
     "metadata": {},
     "output_type": "execute_result"
    }
   ],
   "source": [
    "name_new = str(target_imdb.find('td',class_=\"titleColumn\"))\n",
    "name_new"
   ]
  },
  {
   "cell_type": "code",
   "execution_count": 16,
   "metadata": {},
   "outputs": [
    {
     "data": {
      "text/plain": [
       "str"
      ]
     },
     "execution_count": 16,
     "metadata": {},
     "output_type": "execute_result"
    }
   ],
   "source": [
    "type(name_new)"
   ]
  },
  {
   "cell_type": "code",
   "execution_count": 17,
   "metadata": {},
   "outputs": [
    {
     "data": {
      "text/plain": [
       "['<td',\n",
       " 'class=\"titleColumn\">',\n",
       " '1.',\n",
       " '<a',\n",
       " 'href=\"/title/tt0111161/\"',\n",
       " 'title=\"Frank',\n",
       " 'Darabont',\n",
       " '(dir.),',\n",
       " 'Tim',\n",
       " 'Robbins,',\n",
       " 'Morgan',\n",
       " 'Freeman\">The',\n",
       " 'Shawshank',\n",
       " 'Redemption</a>',\n",
       " '<span',\n",
       " 'class=\"secondaryInfo\">(1994)</span>',\n",
       " '</td>']"
      ]
     },
     "execution_count": 17,
     "metadata": {},
     "output_type": "execute_result"
    }
   ],
   "source": [
    "name_new.split()"
   ]
  },
  {
   "cell_type": "code",
   "execution_count": 18,
   "metadata": {},
   "outputs": [],
   "source": [
    "name = target_imdb.find_all('td',class_=\"titleColumn\")"
   ]
  },
  {
   "cell_type": "code",
   "execution_count": 19,
   "metadata": {},
   "outputs": [],
   "source": [
    "#name"
   ]
  },
  {
   "cell_type": "code",
   "execution_count": 20,
   "metadata": {},
   "outputs": [],
   "source": [
    "#extracting movies Name\n",
    "movie_name = []\n",
    "for i in name:\n",
    "    movie_name.append(i.text.replace('\\n',''))"
   ]
  },
  {
   "cell_type": "code",
   "execution_count": 21,
   "metadata": {},
   "outputs": [],
   "source": [
    "#movie_name"
   ]
  },
  {
   "cell_type": "code",
   "execution_count": 22,
   "metadata": {},
   "outputs": [
    {
     "data": {
      "text/plain": [
       "250"
      ]
     },
     "execution_count": 22,
     "metadata": {},
     "output_type": "execute_result"
    }
   ],
   "source": [
    "len(movie_name)"
   ]
  },
  {
   "cell_type": "code",
   "execution_count": 23,
   "metadata": {},
   "outputs": [
    {
     "data": {
      "text/plain": [
       "['      1.      The Shawshank Redemption(1994)',\n",
       " '      2.      The Godfather(1972)',\n",
       " '      3.      The Godfather: Part II(1974)',\n",
       " '      4.      The Dark Knight(2008)',\n",
       " '      5.      12 Angry Men(1957)',\n",
       " \"      6.      Schindler's List(1993)\",\n",
       " '      7.      The Lord of the Rings: The Return of the King(2003)',\n",
       " '      8.      Pulp Fiction(1994)',\n",
       " '      9.      Il buono, il brutto, il cattivo(1966)',\n",
       " '      10.      The Lord of the Rings: The Fellowship of the Ring(2001)',\n",
       " '      11.      Fight Club(1999)',\n",
       " '      12.      Forrest Gump(1994)',\n",
       " '      13.      Inception(2010)',\n",
       " '      14.      The Lord of the Rings: The Two Towers(2002)',\n",
       " '      15.      Star Wars: Episode V - The Empire Strikes Back(1980)',\n",
       " '      16.      The Matrix(1999)',\n",
       " '      17.      Goodfellas(1990)',\n",
       " \"      18.      One Flew Over the Cuckoo's Nest(1975)\",\n",
       " '      19.      Shichinin no samurai(1954)',\n",
       " '      20.      Se7en(1995)',\n",
       " '      21.      The Silence of the Lambs(1991)',\n",
       " '      22.      Cidade de Deus(2002)',\n",
       " '      23.      La vita è bella(1997)',\n",
       " \"      24.      It's a Wonderful Life(1946)\",\n",
       " '      25.      Star Wars(1977)',\n",
       " '      26.      Saving Private Ryan(1998)',\n",
       " '      27.      Interstellar(2014)',\n",
       " '      28.      Sen to Chihiro no kamikakushi(2001)',\n",
       " '      29.      The Green Mile(1999)',\n",
       " '      30.      Gisaengchung(2019)',\n",
       " '      31.      Léon(1994)',\n",
       " '      32.      Seppuku(1962)',\n",
       " '      33.      The Pianist(2002)',\n",
       " '      34.      The Usual Suspects(1995)',\n",
       " '      35.      Terminator 2: Judgment Day(1991)',\n",
       " '      36.      Back to the Future(1985)',\n",
       " '      37.      Psycho(1960)',\n",
       " '      38.      The Lion King(1994)',\n",
       " '      39.      Modern Times(1936)',\n",
       " '      40.      American History X(1998)',\n",
       " '      41.      City Lights(1931)',\n",
       " '      42.      Hotaru no haka(1988)',\n",
       " '      43.      Whiplash(2014)',\n",
       " '      44.      Gladiator(2000)',\n",
       " '      45.      The Departed(2006)',\n",
       " '      46.      The Intouchables(2011)',\n",
       " '      47.      The Prestige(2006)',\n",
       " '      48.      Casablanca(1942)',\n",
       " '      49.      Once Upon a Time in the West(1968)',\n",
       " '      50.      Rear Window(1954)',\n",
       " '      51.      Nuovo Cinema Paradiso(1988)',\n",
       " '      52.      Alien(1979)',\n",
       " '      53.      Apocalypse Now(1979)',\n",
       " '      54.      Memento(2000)',\n",
       " '      55.      Raiders of the Lost Ark(1981)',\n",
       " '      56.      The Great Dictator(1940)',\n",
       " '      57.      The Lives of Others(2006)',\n",
       " '      58.      Django Unchained(2012)',\n",
       " '      59.      Paths of Glory(1957)',\n",
       " '      60.      Sunset Blvd.(1950)',\n",
       " '      61.      WALL·E(2008)',\n",
       " '      62.      Avengers: Infinity War(2018)',\n",
       " '      63.      The Shining(1980)',\n",
       " '      64.      Witness for the Prosecution(1957)',\n",
       " '      65.      Spider-Man: Into the Spider-Verse(2018)',\n",
       " '      66.      Dr. Strangelove or: How I Learned to Stop Worrying and Love the Bomb(1964)',\n",
       " '      67.      Joker(2019)',\n",
       " '      68.      Mononoke-hime(1997)',\n",
       " '      69.      Oldeuboi(2003)',\n",
       " '      70.      Kimi no na wa.(2016)',\n",
       " '      71.      The Dark Knight Rises(2012)',\n",
       " '      72.      Once Upon a Time in America(1984)',\n",
       " '      73.      Coco(2017)',\n",
       " '      74.      Aliens(1986)',\n",
       " '      75.      Capharnaüm(2018)',\n",
       " '      76.      Avengers: Endgame(2019)',\n",
       " '      77.      Das Boot(1981)',\n",
       " '      78.      Hamilton(2020)',\n",
       " '      79.      Tengoku to jigoku(1963)',\n",
       " '      80.      American Beauty(1999)',\n",
       " '      81.      Toy Story(1995)',\n",
       " '      82.      3 Idiots(2009)',\n",
       " '      83.      Amadeus(1984)',\n",
       " '      84.      Braveheart(1995)',\n",
       " '      85.      Inglourious Basterds(2009)',\n",
       " '      86.      Good Will Hunting(1997)',\n",
       " '      87.      Star Wars: Episode VI - Return of the Jedi(1983)',\n",
       " '      88.      2001: A Space Odyssey(1968)',\n",
       " '      89.      Reservoir Dogs(1992)',\n",
       " '      90.      M - Eine Stadt sucht einen Mörder(1931)',\n",
       " '      91.      Taare Zameen Par(2007)',\n",
       " '      92.      Vertigo(1958)',\n",
       " '      93.      Citizen Kane(1941)',\n",
       " '      94.      Idi i smotri(1985)',\n",
       " '      95.      Jagten(2012)',\n",
       " '      96.      Requiem for a Dream(2000)',\n",
       " \"      97.      Singin' in the Rain(1952)\",\n",
       " '      98.      North by Northwest(1959)',\n",
       " '      99.      Eternal Sunshine of the Spotless Mind(2004)',\n",
       " '      100.      Ladri di biciclette(1948)']"
      ]
     },
     "execution_count": 23,
     "metadata": {},
     "output_type": "execute_result"
    }
   ],
   "source": [
    "final_movie_name = movie_name[0:100]\n",
    "final_movie_name"
   ]
  },
  {
   "cell_type": "markdown",
   "metadata": {},
   "source": [
    "IMDB rating"
   ]
  },
  {
   "cell_type": "code",
   "execution_count": 24,
   "metadata": {},
   "outputs": [],
   "source": [
    "name = target_imdb.find_all('td',class_=\"ratingColumn imdbRating\")"
   ]
  },
  {
   "cell_type": "code",
   "execution_count": 25,
   "metadata": {},
   "outputs": [],
   "source": [
    "#name"
   ]
  },
  {
   "cell_type": "code",
   "execution_count": 26,
   "metadata": {},
   "outputs": [],
   "source": [
    "rating = []\n",
    "for i in name:\n",
    "    rating.append(i.text.replace('\\n',''))"
   ]
  },
  {
   "cell_type": "code",
   "execution_count": 27,
   "metadata": {},
   "outputs": [],
   "source": [
    "#rating"
   ]
  },
  {
   "cell_type": "code",
   "execution_count": 28,
   "metadata": {},
   "outputs": [],
   "source": [
    "final_rating = rating[0:100]\n",
    "#final_rating"
   ]
  },
  {
   "cell_type": "code",
   "execution_count": 29,
   "metadata": {},
   "outputs": [
    {
     "data": {
      "text/plain": [
       "100"
      ]
     },
     "execution_count": 29,
     "metadata": {},
     "output_type": "execute_result"
    }
   ],
   "source": [
    "len(final_rating)"
   ]
  },
  {
   "cell_type": "markdown",
   "metadata": {},
   "source": [
    "Year of release"
   ]
  },
  {
   "cell_type": "code",
   "execution_count": 30,
   "metadata": {},
   "outputs": [],
   "source": [
    "year = target_imdb.find_all('span',class_=\"secondaryInfo\")\n",
    "#year"
   ]
  },
  {
   "cell_type": "code",
   "execution_count": 31,
   "metadata": {},
   "outputs": [],
   "source": [
    "#extracting movies Year\n",
    "movie_year = []\n",
    "for i in year:\n",
    "    movie_year.append(i.text.replace('\\n',''))"
   ]
  },
  {
   "cell_type": "code",
   "execution_count": 32,
   "metadata": {},
   "outputs": [],
   "source": [
    "#movie_year"
   ]
  },
  {
   "cell_type": "code",
   "execution_count": 33,
   "metadata": {},
   "outputs": [
    {
     "data": {
      "text/plain": [
       "250"
      ]
     },
     "execution_count": 33,
     "metadata": {},
     "output_type": "execute_result"
    }
   ],
   "source": [
    "len(movie_year)"
   ]
  },
  {
   "cell_type": "code",
   "execution_count": 34,
   "metadata": {},
   "outputs": [],
   "source": [
    "final_movie_year = movie_year[0:100]\n",
    "#final_movie_year"
   ]
  },
  {
   "cell_type": "code",
   "execution_count": 35,
   "metadata": {},
   "outputs": [
    {
     "name": "stdout",
     "output_type": "stream",
     "text": [
      "100 100 100\n"
     ]
    }
   ],
   "source": [
    "print(len(final_movie_year),len(final_rating),len(final_movie_name))"
   ]
  },
  {
   "cell_type": "code",
   "execution_count": 36,
   "metadata": {},
   "outputs": [],
   "source": [
    "imdb_rating = pd.DataFrame({})\n",
    "imdb_rating['Movie Name'] = final_movie_name\n",
    "imdb_rating['Year Of Release'] = final_movie_year\n",
    "imdb_rating['IMDB Ratings'] = final_rating"
   ]
  },
  {
   "cell_type": "code",
   "execution_count": 37,
   "metadata": {},
   "outputs": [
    {
     "data": {
      "text/html": [
       "<div>\n",
       "<style scoped>\n",
       "    .dataframe tbody tr th:only-of-type {\n",
       "        vertical-align: middle;\n",
       "    }\n",
       "\n",
       "    .dataframe tbody tr th {\n",
       "        vertical-align: top;\n",
       "    }\n",
       "\n",
       "    .dataframe thead th {\n",
       "        text-align: right;\n",
       "    }\n",
       "</style>\n",
       "<table border=\"1\" class=\"dataframe\">\n",
       "  <thead>\n",
       "    <tr style=\"text-align: right;\">\n",
       "      <th></th>\n",
       "      <th>Movie Name</th>\n",
       "      <th>Year Of Release</th>\n",
       "      <th>IMDB Ratings</th>\n",
       "    </tr>\n",
       "  </thead>\n",
       "  <tbody>\n",
       "    <tr>\n",
       "      <th>0</th>\n",
       "      <td>1.      The Shawshank Redemption(1994)</td>\n",
       "      <td>(1994)</td>\n",
       "      <td>9.2</td>\n",
       "    </tr>\n",
       "    <tr>\n",
       "      <th>1</th>\n",
       "      <td>2.      The Godfather(1972)</td>\n",
       "      <td>(1972)</td>\n",
       "      <td>9.1</td>\n",
       "    </tr>\n",
       "    <tr>\n",
       "      <th>2</th>\n",
       "      <td>3.      The Godfather: Part II(1974)</td>\n",
       "      <td>(1974)</td>\n",
       "      <td>9.0</td>\n",
       "    </tr>\n",
       "    <tr>\n",
       "      <th>3</th>\n",
       "      <td>4.      The Dark Knight(2008)</td>\n",
       "      <td>(2008)</td>\n",
       "      <td>9.0</td>\n",
       "    </tr>\n",
       "    <tr>\n",
       "      <th>4</th>\n",
       "      <td>5.      12 Angry Men(1957)</td>\n",
       "      <td>(1957)</td>\n",
       "      <td>8.9</td>\n",
       "    </tr>\n",
       "    <tr>\n",
       "      <th>5</th>\n",
       "      <td>6.      Schindler's List(1993)</td>\n",
       "      <td>(1993)</td>\n",
       "      <td>8.9</td>\n",
       "    </tr>\n",
       "    <tr>\n",
       "      <th>6</th>\n",
       "      <td>7.      The Lord of the Rings: The Retur...</td>\n",
       "      <td>(2003)</td>\n",
       "      <td>8.9</td>\n",
       "    </tr>\n",
       "    <tr>\n",
       "      <th>7</th>\n",
       "      <td>8.      Pulp Fiction(1994)</td>\n",
       "      <td>(1994)</td>\n",
       "      <td>8.8</td>\n",
       "    </tr>\n",
       "    <tr>\n",
       "      <th>8</th>\n",
       "      <td>9.      Il buono, il brutto, il cattivo(...</td>\n",
       "      <td>(1966)</td>\n",
       "      <td>8.8</td>\n",
       "    </tr>\n",
       "    <tr>\n",
       "      <th>9</th>\n",
       "      <td>10.      The Lord of the Rings: The Fell...</td>\n",
       "      <td>(2001)</td>\n",
       "      <td>8.8</td>\n",
       "    </tr>\n",
       "  </tbody>\n",
       "</table>\n",
       "</div>"
      ],
      "text/plain": [
       "                                          Movie Name Year Of Release  \\\n",
       "0             1.      The Shawshank Redemption(1994)          (1994)   \n",
       "1                        2.      The Godfather(1972)          (1972)   \n",
       "2               3.      The Godfather: Part II(1974)          (1974)   \n",
       "3                      4.      The Dark Knight(2008)          (2008)   \n",
       "4                         5.      12 Angry Men(1957)          (1957)   \n",
       "5                     6.      Schindler's List(1993)          (1993)   \n",
       "6        7.      The Lord of the Rings: The Retur...          (2003)   \n",
       "7                         8.      Pulp Fiction(1994)          (1994)   \n",
       "8        9.      Il buono, il brutto, il cattivo(...          (1966)   \n",
       "9        10.      The Lord of the Rings: The Fell...          (2001)   \n",
       "\n",
       "  IMDB Ratings  \n",
       "0          9.2  \n",
       "1          9.1  \n",
       "2          9.0  \n",
       "3          9.0  \n",
       "4          8.9  \n",
       "5          8.9  \n",
       "6          8.9  \n",
       "7          8.8  \n",
       "8          8.8  \n",
       "9          8.8  "
      ]
     },
     "execution_count": 37,
     "metadata": {},
     "output_type": "execute_result"
    }
   ],
   "source": [
    "imdb_rating.head(10)"
   ]
  },
  {
   "cell_type": "markdown",
   "metadata": {},
   "source": [
    "# Write a python program to scrap book name, author name, genre and book review of any 5 books from ‘www.bookpage.com’"
   ]
  },
  {
   "cell_type": "markdown",
   "metadata": {},
   "source": [
    "#List of books\n",
    "\n",
    "#A Calling for Charlie Barnes : https://bookpage.com/reviews/26658-joshua-ferris-calling-charlie-barnes-fiction#.YVTCp7gzZPY\n",
    "\n",
    "#Playing the Cards You’re Dealt : https://bookpage.com/reviews/26703-varian-johnson-playing-cards-youre-dealt-childrens#.YVTCpLgzZPY\n",
    "\n",
    "#Horseman : https://bookpage.com/reviews/26686-christina-henry-horseman-science-fiction-fantasy#.YVTCn7gzZPY\n",
    "\n",
    "#Cloud Cuckoo Land : https://bookpage.com/reviews/26660-anthony-doerr-cloud-cuckoo-land-fiction#.YVTCnLgzZPY\n",
    "\n",
    "#From the Tops of the Trees : https://bookpage.com/reviews/26676-kao-kalia-yang-from-tops-trees-childrens#.YVTClrgzZPY"
   ]
  },
  {
   "cell_type": "code",
   "execution_count": 38,
   "metadata": {},
   "outputs": [
    {
     "name": "stdout",
     "output_type": "stream",
     "text": [
      "<Response [200]>\n",
      "<Response [200]>\n",
      "<Response [200]>\n",
      "<Response [200]>\n",
      "<Response [200]>\n"
     ]
    }
   ],
   "source": [
    "page1 = requests.get('https://bookpage.com/reviews/26658-joshua-ferris-calling-charlie-barnes-fiction#.YVTCp7gzZPY')\n",
    "print(page1)\n",
    "page2 = requests.get('https://bookpage.com/reviews/26703-varian-johnson-playing-cards-youre-dealt-childrens#.YVTCpLgzZPY')\n",
    "print(page2)\n",
    "page3 = requests.get('https://bookpage.com/reviews/26686-christina-henry-horseman-science-fiction-fantasy#.YVTCn7gzZPY')\n",
    "print(page3)\n",
    "page4 = requests.get('https://bookpage.com/reviews/26660-anthony-doerr-cloud-cuckoo-land-fiction#.YVTCnLgzZPY')\n",
    "print(page4)\n",
    "page5 = requests.get('https://bookpage.com/reviews/26676-kao-kalia-yang-from-tops-trees-childrens#.YVTClrgzZPY')\n",
    "print(page5)"
   ]
  },
  {
   "cell_type": "code",
   "execution_count": 39,
   "metadata": {},
   "outputs": [],
   "source": [
    "target1 = BeautifulSoup(page1.content)\n",
    "target2 = BeautifulSoup(page2.content)\n",
    "target3 = BeautifulSoup(page3.content)\n",
    "target4 = BeautifulSoup(page4.content)\n",
    "target5 = BeautifulSoup(page5.content)"
   ]
  },
  {
   "cell_type": "code",
   "execution_count": 40,
   "metadata": {},
   "outputs": [],
   "source": [
    "target = [target1,target2,target3,target4,target5]\n",
    "book_na = []\n",
    "for i in range(0,5):\n",
    "    book_na.append(target[i].find(class_=\"italic\").text.strip())"
   ]
  },
  {
   "cell_type": "code",
   "execution_count": 41,
   "metadata": {},
   "outputs": [
    {
     "data": {
      "text/plain": [
       "['★ A Calling for Charlie Barnes',\n",
       " \"Playing the Cards You're Dealt\",\n",
       " 'Horseman',\n",
       " '★ Cloud Cuckoo Land',\n",
       " 'From the Tops of the Trees']"
      ]
     },
     "execution_count": 41,
     "metadata": {},
     "output_type": "execute_result"
    }
   ],
   "source": [
    "book_name = book_na[0:5]\n",
    "book_name"
   ]
  },
  {
   "cell_type": "code",
   "execution_count": 42,
   "metadata": {},
   "outputs": [],
   "source": [
    "auth_name = []\n",
    "for i in range(0,5):\n",
    "    auth_name.append(target[i].find('h4',class_=\"sans\").text.strip())"
   ]
  },
  {
   "cell_type": "code",
   "execution_count": 43,
   "metadata": {},
   "outputs": [
    {
     "data": {
      "text/plain": [
       "['Joshua Ferris',\n",
       " 'Varian Johnson',\n",
       " 'Christina Henry',\n",
       " 'Anthony Doerr',\n",
       " 'Kao Kalia Yang, Rachel Wada']"
      ]
     },
     "execution_count": 43,
     "metadata": {},
     "output_type": "execute_result"
    }
   ],
   "source": [
    "auth_name"
   ]
  },
  {
   "cell_type": "code",
   "execution_count": 44,
   "metadata": {},
   "outputs": [],
   "source": [
    "genre = []\n",
    "for i in range(0,5):\n",
    "    genre.append(target[i].find('p',class_=\"genre-links\").text.replace('\\n',\"\"))"
   ]
  },
  {
   "cell_type": "code",
   "execution_count": 45,
   "metadata": {},
   "outputs": [
    {
     "data": {
      "text/plain": [
       "['Fiction / Family Drama',\n",
       " \"Children's / Middle Grade\",\n",
       " 'Science Fiction & Fantasy / Fantasy / Historical Fantasy',\n",
       " 'Fiction / Literary Fiction',\n",
       " \"Children's / Picture Book\"]"
      ]
     },
     "execution_count": 45,
     "metadata": {},
     "output_type": "execute_result"
    }
   ],
   "source": [
    "genre"
   ]
  },
  {
   "cell_type": "code",
   "execution_count": 46,
   "metadata": {},
   "outputs": [],
   "source": [
    "reveiw = []\n",
    "for i in range(0,5):\n",
    "    reveiw.append(target[i].find('div',class_=\"article-body\").text)"
   ]
  },
  {
   "cell_type": "code",
   "execution_count": 47,
   "metadata": {},
   "outputs": [
    {
     "data": {
      "text/html": [
       "<div>\n",
       "<style scoped>\n",
       "    .dataframe tbody tr th:only-of-type {\n",
       "        vertical-align: middle;\n",
       "    }\n",
       "\n",
       "    .dataframe tbody tr th {\n",
       "        vertical-align: top;\n",
       "    }\n",
       "\n",
       "    .dataframe thead th {\n",
       "        text-align: right;\n",
       "    }\n",
       "</style>\n",
       "<table border=\"1\" class=\"dataframe\">\n",
       "  <thead>\n",
       "    <tr style=\"text-align: right;\">\n",
       "      <th></th>\n",
       "      <th>Book Name</th>\n",
       "      <th>Author Name</th>\n",
       "      <th>Book Genre</th>\n",
       "      <th>Book Review</th>\n",
       "    </tr>\n",
       "  </thead>\n",
       "  <tbody>\n",
       "    <tr>\n",
       "      <th>0</th>\n",
       "      <td>★ A Calling for Charlie Barnes</td>\n",
       "      <td>Joshua Ferris</td>\n",
       "      <td>Fiction / Family Drama</td>\n",
       "      <td>\\n\\nHow does one sum up the arc of a long life...</td>\n",
       "    </tr>\n",
       "    <tr>\n",
       "      <th>1</th>\n",
       "      <td>Playing the Cards You're Dealt</td>\n",
       "      <td>Varian Johnson</td>\n",
       "      <td>Children's / Middle Grade</td>\n",
       "      <td>\\n\\nIt’s day one of fifth grade, and Anthony “...</td>\n",
       "    </tr>\n",
       "    <tr>\n",
       "      <th>2</th>\n",
       "      <td>Horseman</td>\n",
       "      <td>Christina Henry</td>\n",
       "      <td>Science Fiction &amp; Fantasy / Fantasy / Historic...</td>\n",
       "      <td>\\n\\nChristina Henry’s Horseman is an atmospher...</td>\n",
       "    </tr>\n",
       "    <tr>\n",
       "      <th>3</th>\n",
       "      <td>★ Cloud Cuckoo Land</td>\n",
       "      <td>Anthony Doerr</td>\n",
       "      <td>Fiction / Literary Fiction</td>\n",
       "      <td>\\n\\nFans of Anthony Doerr’s Pulitzer Prize-win...</td>\n",
       "    </tr>\n",
       "    <tr>\n",
       "      <th>4</th>\n",
       "      <td>From the Tops of the Trees</td>\n",
       "      <td>Kao Kalia Yang, Rachel Wada</td>\n",
       "      <td>Children's / Picture Book</td>\n",
       "      <td>\\n\\nWith realism and a strong thread of empowe...</td>\n",
       "    </tr>\n",
       "  </tbody>\n",
       "</table>\n",
       "</div>"
      ],
      "text/plain": [
       "                        Book Name                  Author Name  \\\n",
       "0  ★ A Calling for Charlie Barnes                Joshua Ferris   \n",
       "1  Playing the Cards You're Dealt               Varian Johnson   \n",
       "2                        Horseman              Christina Henry   \n",
       "3             ★ Cloud Cuckoo Land                Anthony Doerr   \n",
       "4      From the Tops of the Trees  Kao Kalia Yang, Rachel Wada   \n",
       "\n",
       "                                          Book Genre  \\\n",
       "0                             Fiction / Family Drama   \n",
       "1                          Children's / Middle Grade   \n",
       "2  Science Fiction & Fantasy / Fantasy / Historic...   \n",
       "3                         Fiction / Literary Fiction   \n",
       "4                          Children's / Picture Book   \n",
       "\n",
       "                                         Book Review  \n",
       "0  \\n\\nHow does one sum up the arc of a long life...  \n",
       "1  \\n\\nIt’s day one of fifth grade, and Anthony “...  \n",
       "2  \\n\\nChristina Henry’s Horseman is an atmospher...  \n",
       "3  \\n\\nFans of Anthony Doerr’s Pulitzer Prize-win...  \n",
       "4  \\n\\nWith realism and a strong thread of empowe...  "
      ]
     },
     "execution_count": 47,
     "metadata": {},
     "output_type": "execute_result"
    }
   ],
   "source": [
    "import pandas as pd\n",
    "book_reveiw = pd.DataFrame({})\n",
    "book_reveiw['Book Name'] = book_name\n",
    "book_reveiw['Author Name'] = auth_name\n",
    "book_reveiw[\"Book Genre\"] = genre\n",
    "book_reveiw[\"Book Review\"] = reveiw\n",
    "\n",
    "book_reveiw"
   ]
  },
  {
   "cell_type": "markdown",
   "metadata": {},
   "source": [
    "# Write a python program to scrape cricket rankings from ‘www.icc-cricket.com’. You have to scrape: i) Top 10 ODI teams in men’s cricket along with the records for matches, points and rating. ii) Top 10 ODI Batsmen in men along with the records of their team and rating. iii) Top 10 ODI bowlers along with the records of their team and rating."
   ]
  },
  {
   "cell_type": "code",
   "execution_count": 48,
   "metadata": {},
   "outputs": [
    {
     "data": {
      "text/plain": [
       "<Response [200]>"
      ]
     },
     "execution_count": 48,
     "metadata": {},
     "output_type": "execute_result"
    }
   ],
   "source": [
    "page = requests.get(\"https://www.icc-cricket.com/rankings/mens/team-rankings/odi\")\n",
    "page"
   ]
  },
  {
   "cell_type": "code",
   "execution_count": 49,
   "metadata": {},
   "outputs": [],
   "source": [
    "target_cricket = BeautifulSoup(page.content)"
   ]
  },
  {
   "cell_type": "code",
   "execution_count": 50,
   "metadata": {},
   "outputs": [],
   "source": [
    "title_first = target_cricket.find_all('span',class_='u-hide-phablet')"
   ]
  },
  {
   "cell_type": "code",
   "execution_count": 51,
   "metadata": {},
   "outputs": [],
   "source": [
    "team = []\n",
    "for i in title_first:\n",
    "    team.append(i.text)"
   ]
  },
  {
   "cell_type": "code",
   "execution_count": 52,
   "metadata": {},
   "outputs": [
    {
     "data": {
      "text/plain": [
       "['New Zealand',\n",
       " 'England',\n",
       " 'Australia',\n",
       " 'India',\n",
       " 'South Africa',\n",
       " 'Pakistan',\n",
       " 'Bangladesh',\n",
       " 'West Indies',\n",
       " 'Sri Lanka',\n",
       " 'Afghanistan']"
      ]
     },
     "execution_count": 52,
     "metadata": {},
     "output_type": "execute_result"
    }
   ],
   "source": [
    "team_name = team[0:10]\n",
    "team_name"
   ]
  },
  {
   "cell_type": "code",
   "execution_count": 53,
   "metadata": {},
   "outputs": [
    {
     "data": {
      "text/plain": [
       "10"
      ]
     },
     "execution_count": 53,
     "metadata": {},
     "output_type": "execute_result"
    }
   ],
   "source": [
    "len(team_name)"
   ]
  },
  {
   "cell_type": "code",
   "execution_count": 54,
   "metadata": {},
   "outputs": [],
   "source": [
    "match1 = target_cricket.find('td',class_='rankings-block__banner--matches')\n",
    "points1 = target_cricket.find('td',class_='rankings-block__banner--points')\n",
    "rating1 = target_cricket.find('td',class_=\"rankings-block__banner--rating u-text-right\".strip())"
   ]
  },
  {
   "cell_type": "code",
   "execution_count": 55,
   "metadata": {},
   "outputs": [
    {
     "name": "stdout",
     "output_type": "stream",
     "text": [
      "17\n",
      "2,054\n",
      "\n",
      "                            121\n",
      "                            \n",
      "\n",
      "\n"
     ]
    }
   ],
   "source": [
    "print(match1.text)\n",
    "print(points1.text)\n",
    "print(rating1.text)"
   ]
  },
  {
   "cell_type": "code",
   "execution_count": 56,
   "metadata": {},
   "outputs": [
    {
     "data": {
      "text/plain": [
       "[<td class=\"table-body__cell u-center-text\">32</td>,\n",
       " <td class=\"table-body__cell u-center-text\">3,793</td>,\n",
       " <td class=\"table-body__cell u-center-text\">28</td>,\n",
       " <td class=\"table-body__cell u-center-text\">3,244</td>,\n",
       " <td class=\"table-body__cell u-center-text\">32</td>,\n",
       " <td class=\"table-body__cell u-center-text\">3,624</td>,\n",
       " <td class=\"table-body__cell u-center-text\">25</td>,\n",
       " <td class=\"table-body__cell u-center-text\">2,459</td>,\n",
       " <td class=\"table-body__cell u-center-text\">27</td>,\n",
       " <td class=\"table-body__cell u-center-text\">2,524</td>,\n",
       " <td class=\"table-body__cell u-center-text\">30</td>,\n",
       " <td class=\"table-body__cell u-center-text\">2,740</td>,\n",
       " <td class=\"table-body__cell u-center-text\">30</td>,\n",
       " <td class=\"table-body__cell u-center-text\">2,523</td>,\n",
       " <td class=\"table-body__cell u-center-text\">32</td>,\n",
       " <td class=\"table-body__cell u-center-text\">2,657</td>,\n",
       " <td class=\"table-body__cell u-center-text\">17</td>,\n",
       " <td class=\"table-body__cell u-center-text\">1,054</td>]"
      ]
     },
     "execution_count": 56,
     "metadata": {},
     "output_type": "execute_result"
    }
   ],
   "source": [
    "match = target_cricket.find_all('td',class_='table-body__cell u-center-text')\n",
    "match[0:18]"
   ]
  },
  {
   "cell_type": "code",
   "execution_count": 57,
   "metadata": {},
   "outputs": [
    {
     "data": {
      "text/plain": [
       "38"
      ]
     },
     "execution_count": 57,
     "metadata": {},
     "output_type": "execute_result"
    }
   ],
   "source": [
    "len(match)"
   ]
  },
  {
   "cell_type": "code",
   "execution_count": 58,
   "metadata": {},
   "outputs": [
    {
     "data": {
      "text/plain": [
       "[<td class=\"table-body__cell u-center-text\">32</td>,\n",
       " <td class=\"table-body__cell u-center-text\">28</td>,\n",
       " <td class=\"table-body__cell u-center-text\">32</td>,\n",
       " <td class=\"table-body__cell u-center-text\">25</td>,\n",
       " <td class=\"table-body__cell u-center-text\">27</td>,\n",
       " <td class=\"table-body__cell u-center-text\">30</td>,\n",
       " <td class=\"table-body__cell u-center-text\">30</td>,\n",
       " <td class=\"table-body__cell u-center-text\">32</td>,\n",
       " <td class=\"table-body__cell u-center-text\">17</td>]"
      ]
     },
     "execution_count": 58,
     "metadata": {},
     "output_type": "execute_result"
    }
   ],
   "source": [
    "matches = match[0:18:2]\n",
    "matches"
   ]
  },
  {
   "cell_type": "code",
   "execution_count": 59,
   "metadata": {},
   "outputs": [
    {
     "data": {
      "text/plain": [
       "[<td class=\"table-body__cell u-center-text\">3,793</td>,\n",
       " <td class=\"table-body__cell u-center-text\">3,244</td>,\n",
       " <td class=\"table-body__cell u-center-text\">3,624</td>,\n",
       " <td class=\"table-body__cell u-center-text\">2,459</td>,\n",
       " <td class=\"table-body__cell u-center-text\">2,524</td>,\n",
       " <td class=\"table-body__cell u-center-text\">2,740</td>,\n",
       " <td class=\"table-body__cell u-center-text\">2,523</td>,\n",
       " <td class=\"table-body__cell u-center-text\">2,657</td>,\n",
       " <td class=\"table-body__cell u-center-text\">1,054</td>]"
      ]
     },
     "execution_count": 59,
     "metadata": {},
     "output_type": "execute_result"
    }
   ],
   "source": [
    "points = match[1:18:2]\n",
    "points"
   ]
  },
  {
   "cell_type": "code",
   "execution_count": 60,
   "metadata": {},
   "outputs": [
    {
     "data": {
      "text/plain": [
       "[<td class=\"table-body__cell u-text-right rating\">119</td>,\n",
       " <td class=\"table-body__cell u-text-right rating\">116</td>,\n",
       " <td class=\"table-body__cell u-text-right rating\">113</td>,\n",
       " <td class=\"table-body__cell u-text-right rating\">98</td>,\n",
       " <td class=\"table-body__cell u-text-right rating\">93</td>,\n",
       " <td class=\"table-body__cell u-text-right rating\">91</td>,\n",
       " <td class=\"table-body__cell u-text-right rating\">84</td>,\n",
       " <td class=\"table-body__cell u-text-right rating\">83</td>,\n",
       " <td class=\"table-body__cell u-text-right rating\">62</td>,\n",
       " <td class=\"table-body__cell u-text-right rating\">48</td>,\n",
       " <td class=\"table-body__cell u-text-right rating\">46</td>,\n",
       " <td class=\"table-body__cell u-text-right rating\">40</td>,\n",
       " <td class=\"table-body__cell u-text-right rating\">39</td>,\n",
       " <td class=\"table-body__cell u-text-right rating\">38</td>,\n",
       " <td class=\"table-body__cell u-text-right rating\">30</td>,\n",
       " <td class=\"table-body__cell u-text-right rating\">21</td>,\n",
       " <td class=\"table-body__cell u-text-right rating\">17</td>,\n",
       " <td class=\"table-body__cell u-text-right rating\">16</td>,\n",
       " <td class=\"table-body__cell u-text-right rating\">0</td>]"
      ]
     },
     "execution_count": 60,
     "metadata": {},
     "output_type": "execute_result"
    }
   ],
   "source": [
    "rate = target_cricket.find_all('td',class_='table-body__cell u-text-right rating')\n",
    "rate"
   ]
  },
  {
   "cell_type": "code",
   "execution_count": 61,
   "metadata": {},
   "outputs": [
    {
     "data": {
      "text/plain": [
       "[<td class=\"table-body__cell u-text-right rating\">119</td>,\n",
       " <td class=\"table-body__cell u-text-right rating\">116</td>,\n",
       " <td class=\"table-body__cell u-text-right rating\">113</td>,\n",
       " <td class=\"table-body__cell u-text-right rating\">98</td>,\n",
       " <td class=\"table-body__cell u-text-right rating\">93</td>,\n",
       " <td class=\"table-body__cell u-text-right rating\">91</td>,\n",
       " <td class=\"table-body__cell u-text-right rating\">84</td>,\n",
       " <td class=\"table-body__cell u-text-right rating\">83</td>,\n",
       " <td class=\"table-body__cell u-text-right rating\">62</td>]"
      ]
     },
     "execution_count": 61,
     "metadata": {},
     "output_type": "execute_result"
    }
   ],
   "source": [
    "rating = rate[0:9]\n",
    "rating"
   ]
  },
  {
   "cell_type": "code",
   "execution_count": 62,
   "metadata": {},
   "outputs": [
    {
     "name": "stdout",
     "output_type": "stream",
     "text": [
      "10 9 9 9\n"
     ]
    }
   ],
   "source": [
    "print(len(team_name),len(matches),len(points),len(rating))"
   ]
  },
  {
   "cell_type": "code",
   "execution_count": 63,
   "metadata": {},
   "outputs": [],
   "source": [
    "matches.insert(0,match1)\n",
    "points.insert(0,points1)\n",
    "rating.insert(0,rating1)"
   ]
  },
  {
   "cell_type": "code",
   "execution_count": 64,
   "metadata": {},
   "outputs": [
    {
     "name": "stdout",
     "output_type": "stream",
     "text": [
      "10 10 10 10\n"
     ]
    }
   ],
   "source": [
    "print(len(team_name),len(matches),len(points),len(rating))"
   ]
  },
  {
   "cell_type": "code",
   "execution_count": 65,
   "metadata": {},
   "outputs": [
    {
     "data": {
      "text/html": [
       "<div>\n",
       "<style scoped>\n",
       "    .dataframe tbody tr th:only-of-type {\n",
       "        vertical-align: middle;\n",
       "    }\n",
       "\n",
       "    .dataframe tbody tr th {\n",
       "        vertical-align: top;\n",
       "    }\n",
       "\n",
       "    .dataframe thead th {\n",
       "        text-align: right;\n",
       "    }\n",
       "</style>\n",
       "<table border=\"1\" class=\"dataframe\">\n",
       "  <thead>\n",
       "    <tr style=\"text-align: right;\">\n",
       "      <th></th>\n",
       "      <th>Teams</th>\n",
       "      <th>Matches Played</th>\n",
       "      <th>Points</th>\n",
       "      <th>Ratings</th>\n",
       "    </tr>\n",
       "  </thead>\n",
       "  <tbody>\n",
       "    <tr>\n",
       "      <th>0</th>\n",
       "      <td>New Zealand</td>\n",
       "      <td>[17]</td>\n",
       "      <td>[2,054]</td>\n",
       "      <td>[\\n                            121\\n          ...</td>\n",
       "    </tr>\n",
       "    <tr>\n",
       "      <th>1</th>\n",
       "      <td>England</td>\n",
       "      <td>[32]</td>\n",
       "      <td>[3,793]</td>\n",
       "      <td>[119]</td>\n",
       "    </tr>\n",
       "    <tr>\n",
       "      <th>2</th>\n",
       "      <td>Australia</td>\n",
       "      <td>[28]</td>\n",
       "      <td>[3,244]</td>\n",
       "      <td>[116]</td>\n",
       "    </tr>\n",
       "    <tr>\n",
       "      <th>3</th>\n",
       "      <td>India</td>\n",
       "      <td>[32]</td>\n",
       "      <td>[3,624]</td>\n",
       "      <td>[113]</td>\n",
       "    </tr>\n",
       "    <tr>\n",
       "      <th>4</th>\n",
       "      <td>South Africa</td>\n",
       "      <td>[25]</td>\n",
       "      <td>[2,459]</td>\n",
       "      <td>[98]</td>\n",
       "    </tr>\n",
       "    <tr>\n",
       "      <th>5</th>\n",
       "      <td>Pakistan</td>\n",
       "      <td>[27]</td>\n",
       "      <td>[2,524]</td>\n",
       "      <td>[93]</td>\n",
       "    </tr>\n",
       "    <tr>\n",
       "      <th>6</th>\n",
       "      <td>Bangladesh</td>\n",
       "      <td>[30]</td>\n",
       "      <td>[2,740]</td>\n",
       "      <td>[91]</td>\n",
       "    </tr>\n",
       "    <tr>\n",
       "      <th>7</th>\n",
       "      <td>West Indies</td>\n",
       "      <td>[30]</td>\n",
       "      <td>[2,523]</td>\n",
       "      <td>[84]</td>\n",
       "    </tr>\n",
       "    <tr>\n",
       "      <th>8</th>\n",
       "      <td>Sri Lanka</td>\n",
       "      <td>[32]</td>\n",
       "      <td>[2,657]</td>\n",
       "      <td>[83]</td>\n",
       "    </tr>\n",
       "    <tr>\n",
       "      <th>9</th>\n",
       "      <td>Afghanistan</td>\n",
       "      <td>[17]</td>\n",
       "      <td>[1,054]</td>\n",
       "      <td>[62]</td>\n",
       "    </tr>\n",
       "  </tbody>\n",
       "</table>\n",
       "</div>"
      ],
      "text/plain": [
       "          Teams Matches Played   Points  \\\n",
       "0   New Zealand           [17]  [2,054]   \n",
       "1       England           [32]  [3,793]   \n",
       "2     Australia           [28]  [3,244]   \n",
       "3         India           [32]  [3,624]   \n",
       "4  South Africa           [25]  [2,459]   \n",
       "5      Pakistan           [27]  [2,524]   \n",
       "6    Bangladesh           [30]  [2,740]   \n",
       "7   West Indies           [30]  [2,523]   \n",
       "8     Sri Lanka           [32]  [2,657]   \n",
       "9   Afghanistan           [17]  [1,054]   \n",
       "\n",
       "                                             Ratings  \n",
       "0  [\\n                            121\\n          ...  \n",
       "1                                              [119]  \n",
       "2                                              [116]  \n",
       "3                                              [113]  \n",
       "4                                               [98]  \n",
       "5                                               [93]  \n",
       "6                                               [91]  \n",
       "7                                               [84]  \n",
       "8                                               [83]  \n",
       "9                                               [62]  "
      ]
     },
     "execution_count": 65,
     "metadata": {},
     "output_type": "execute_result"
    }
   ],
   "source": [
    "import pandas as pd\n",
    "top_10_teams = pd.DataFrame({})\n",
    "top_10_teams['Teams'] = team_name\n",
    "top_10_teams['Matches Played'] = matches\n",
    "top_10_teams['Points'] = points\n",
    "top_10_teams['Ratings'] = rating\n",
    "\n",
    "top_10_teams"
   ]
  },
  {
   "cell_type": "code",
   "execution_count": 66,
   "metadata": {},
   "outputs": [
    {
     "data": {
      "text/plain": [
       "<Response [200]>"
      ]
     },
     "execution_count": 66,
     "metadata": {},
     "output_type": "execute_result"
    }
   ],
   "source": [
    "batsmen = requests.get('https://www.icc-cricket.com/rankings/mens/player-rankings/odi/batting')\n",
    "batsmen"
   ]
  },
  {
   "cell_type": "code",
   "execution_count": 67,
   "metadata": {},
   "outputs": [],
   "source": [
    "target_batsmen = BeautifulSoup(batsmen.content)"
   ]
  },
  {
   "cell_type": "code",
   "execution_count": 68,
   "metadata": {},
   "outputs": [
    {
     "data": {
      "text/plain": [
       "'Babar Azam'"
      ]
     },
     "execution_count": 68,
     "metadata": {},
     "output_type": "execute_result"
    }
   ],
   "source": [
    "title1 = target_batsmen.find(class_='rankings-block__banner--name-large').text\n",
    "title1"
   ]
  },
  {
   "cell_type": "code",
   "execution_count": 69,
   "metadata": {},
   "outputs": [
    {
     "data": {
      "text/plain": [
       "'1'"
      ]
     },
     "execution_count": 69,
     "metadata": {},
     "output_type": "execute_result"
    }
   ],
   "source": [
    "rank1 = target_batsmen.find(class_='rankings-block__position').text\n",
    "rank1"
   ]
  },
  {
   "cell_type": "code",
   "execution_count": 70,
   "metadata": {},
   "outputs": [
    {
     "data": {
      "text/plain": [
       "'873'"
      ]
     },
     "execution_count": 70,
     "metadata": {},
     "output_type": "execute_result"
    }
   ],
   "source": [
    "rate1 = target_batsmen.find(class_='rankings-block__banner--rating').text\n",
    "rate1"
   ]
  },
  {
   "cell_type": "code",
   "execution_count": 71,
   "metadata": {},
   "outputs": [
    {
     "data": {
      "text/plain": [
       "'PAK'"
      ]
     },
     "execution_count": 71,
     "metadata": {},
     "output_type": "execute_result"
    }
   ],
   "source": [
    "team1 = target_batsmen.find(class_='rankings-block__banner--nationality').text.strip()\n",
    "team1"
   ]
  },
  {
   "cell_type": "code",
   "execution_count": 72,
   "metadata": {},
   "outputs": [],
   "source": [
    "title2 = target_batsmen.find_all(class_= 'table-body__cell rankings-table__name name')"
   ]
  },
  {
   "cell_type": "code",
   "execution_count": 73,
   "metadata": {},
   "outputs": [],
   "source": [
    "title = []\n",
    "for i in title2:\n",
    "    title.append(i.text.replace(\"\\n\",\"\"))"
   ]
  },
  {
   "cell_type": "code",
   "execution_count": 74,
   "metadata": {},
   "outputs": [
    {
     "name": "stdout",
     "output_type": "stream",
     "text": [
      "['Virat Kohli', 'Rohit Sharma', 'Ross Taylor', 'Aaron Finch', 'Jonny Bairstow', 'David Warner', 'Shai Hope', 'Kane Williamson', 'Quinton de Kock']\n",
      "length is 9\n"
     ]
    }
   ],
   "source": [
    "player_name = title[0:9]\n",
    "print(player_name)\n",
    "print(\"length is\",len(player_name))"
   ]
  },
  {
   "cell_type": "code",
   "execution_count": 75,
   "metadata": {},
   "outputs": [],
   "source": [
    "rank2 = target_batsmen.find_all(class_='table-body__cell table-body__cell--position u-text-right')"
   ]
  },
  {
   "cell_type": "code",
   "execution_count": 76,
   "metadata": {},
   "outputs": [],
   "source": [
    "pos = []\n",
    "for i in rank2:\n",
    "    pos.append(i.text.strip())"
   ]
  },
  {
   "cell_type": "code",
   "execution_count": 77,
   "metadata": {},
   "outputs": [
    {
     "name": "stdout",
     "output_type": "stream",
     "text": [
      "['2', '3', '4', '5', '6', '7', '8', '9', '10']\n",
      "length is 9\n"
     ]
    }
   ],
   "source": [
    "position = pos[0:9]\n",
    "print(position)\n",
    "print(\"length is\",len(position))"
   ]
  },
  {
   "cell_type": "code",
   "execution_count": 78,
   "metadata": {},
   "outputs": [],
   "source": [
    "rate2 = target_batsmen.find_all(class_='table-body__cell rating')"
   ]
  },
  {
   "cell_type": "code",
   "execution_count": 79,
   "metadata": {},
   "outputs": [],
   "source": [
    "rat = []\n",
    "for i in rate2:\n",
    "    rat.append(i.text)"
   ]
  },
  {
   "cell_type": "code",
   "execution_count": 80,
   "metadata": {},
   "outputs": [
    {
     "name": "stdout",
     "output_type": "stream",
     "text": [
      "['844', '813', '801', '779', '775', '762', '758', '754', '747']\n",
      "Length is 9\n"
     ]
    }
   ],
   "source": [
    "ratings = rat[0:9]\n",
    "print(ratings)\n",
    "print(\"Length is\",len(ratings))"
   ]
  },
  {
   "cell_type": "code",
   "execution_count": 81,
   "metadata": {},
   "outputs": [],
   "source": [
    "team2 = target_batsmen.find_all(class_='table-body__logo-text')"
   ]
  },
  {
   "cell_type": "code",
   "execution_count": 82,
   "metadata": {},
   "outputs": [],
   "source": [
    "team3 = []\n",
    "for i in team2:\n",
    "    team3.append(i.text)"
   ]
  },
  {
   "cell_type": "code",
   "execution_count": 83,
   "metadata": {},
   "outputs": [
    {
     "name": "stdout",
     "output_type": "stream",
     "text": [
      "['IND', 'IND', 'NZ', 'AUS', 'ENG', 'AUS', 'WI', 'NZ', 'SA']\n",
      "length of team is 9\n"
     ]
    }
   ],
   "source": [
    "team = team3[0:9]\n",
    "print(team)\n",
    "print('length of team is',len(team))"
   ]
  },
  {
   "cell_type": "code",
   "execution_count": 84,
   "metadata": {},
   "outputs": [
    {
     "name": "stdout",
     "output_type": "stream",
     "text": [
      "9 9 9 9\n"
     ]
    }
   ],
   "source": [
    "print(len(player_name),len(position),len(ratings),len(team))"
   ]
  },
  {
   "cell_type": "code",
   "execution_count": 85,
   "metadata": {},
   "outputs": [],
   "source": [
    "player_name.insert(0,title1)\n",
    "position.insert(0,rank1)\n",
    "ratings.insert(0,rate1)\n",
    "team.insert(0,team1)"
   ]
  },
  {
   "cell_type": "code",
   "execution_count": 86,
   "metadata": {},
   "outputs": [
    {
     "name": "stdout",
     "output_type": "stream",
     "text": [
      "10 10 10 10\n"
     ]
    }
   ],
   "source": [
    "print(len(player_name),len(position),len(ratings),len(team))"
   ]
  },
  {
   "cell_type": "code",
   "execution_count": 87,
   "metadata": {},
   "outputs": [
    {
     "data": {
      "text/html": [
       "<div>\n",
       "<style scoped>\n",
       "    .dataframe tbody tr th:only-of-type {\n",
       "        vertical-align: middle;\n",
       "    }\n",
       "\n",
       "    .dataframe tbody tr th {\n",
       "        vertical-align: top;\n",
       "    }\n",
       "\n",
       "    .dataframe thead th {\n",
       "        text-align: right;\n",
       "    }\n",
       "</style>\n",
       "<table border=\"1\" class=\"dataframe\">\n",
       "  <thead>\n",
       "    <tr style=\"text-align: right;\">\n",
       "      <th></th>\n",
       "      <th>Player Name</th>\n",
       "      <th>Position of Player</th>\n",
       "      <th>Team</th>\n",
       "      <th>Overall Ratings</th>\n",
       "    </tr>\n",
       "  </thead>\n",
       "  <tbody>\n",
       "    <tr>\n",
       "      <th>0</th>\n",
       "      <td>Babar Azam</td>\n",
       "      <td>1</td>\n",
       "      <td>PAK</td>\n",
       "      <td>873</td>\n",
       "    </tr>\n",
       "    <tr>\n",
       "      <th>1</th>\n",
       "      <td>Virat Kohli</td>\n",
       "      <td>2</td>\n",
       "      <td>IND</td>\n",
       "      <td>844</td>\n",
       "    </tr>\n",
       "    <tr>\n",
       "      <th>2</th>\n",
       "      <td>Rohit Sharma</td>\n",
       "      <td>3</td>\n",
       "      <td>IND</td>\n",
       "      <td>813</td>\n",
       "    </tr>\n",
       "    <tr>\n",
       "      <th>3</th>\n",
       "      <td>Ross Taylor</td>\n",
       "      <td>4</td>\n",
       "      <td>NZ</td>\n",
       "      <td>801</td>\n",
       "    </tr>\n",
       "    <tr>\n",
       "      <th>4</th>\n",
       "      <td>Aaron Finch</td>\n",
       "      <td>5</td>\n",
       "      <td>AUS</td>\n",
       "      <td>779</td>\n",
       "    </tr>\n",
       "    <tr>\n",
       "      <th>5</th>\n",
       "      <td>Jonny Bairstow</td>\n",
       "      <td>6</td>\n",
       "      <td>ENG</td>\n",
       "      <td>775</td>\n",
       "    </tr>\n",
       "    <tr>\n",
       "      <th>6</th>\n",
       "      <td>David Warner</td>\n",
       "      <td>7</td>\n",
       "      <td>AUS</td>\n",
       "      <td>762</td>\n",
       "    </tr>\n",
       "    <tr>\n",
       "      <th>7</th>\n",
       "      <td>Shai Hope</td>\n",
       "      <td>8</td>\n",
       "      <td>WI</td>\n",
       "      <td>758</td>\n",
       "    </tr>\n",
       "    <tr>\n",
       "      <th>8</th>\n",
       "      <td>Kane Williamson</td>\n",
       "      <td>9</td>\n",
       "      <td>NZ</td>\n",
       "      <td>754</td>\n",
       "    </tr>\n",
       "    <tr>\n",
       "      <th>9</th>\n",
       "      <td>Quinton de Kock</td>\n",
       "      <td>10</td>\n",
       "      <td>SA</td>\n",
       "      <td>747</td>\n",
       "    </tr>\n",
       "  </tbody>\n",
       "</table>\n",
       "</div>"
      ],
      "text/plain": [
       "       Player Name Position of Player Team Overall Ratings\n",
       "0       Babar Azam                  1  PAK             873\n",
       "1      Virat Kohli                  2  IND             844\n",
       "2     Rohit Sharma                  3  IND             813\n",
       "3      Ross Taylor                  4   NZ             801\n",
       "4      Aaron Finch                  5  AUS             779\n",
       "5   Jonny Bairstow                  6  ENG             775\n",
       "6     David Warner                  7  AUS             762\n",
       "7        Shai Hope                  8   WI             758\n",
       "8  Kane Williamson                  9   NZ             754\n",
       "9  Quinton de Kock                 10   SA             747"
      ]
     },
     "execution_count": 87,
     "metadata": {},
     "output_type": "execute_result"
    }
   ],
   "source": [
    "batsmen_details = pd.DataFrame({})\n",
    "batsmen_details['Player Name'] = player_name\n",
    "batsmen_details['Position of Player'] = position\n",
    "batsmen_details['Team'] = team\n",
    "batsmen_details['Overall Ratings'] = ratings\n",
    "\n",
    "batsmen_details"
   ]
  },
  {
   "cell_type": "code",
   "execution_count": 88,
   "metadata": {},
   "outputs": [
    {
     "data": {
      "text/plain": [
       "<Response [200]>"
      ]
     },
     "execution_count": 88,
     "metadata": {},
     "output_type": "execute_result"
    }
   ],
   "source": [
    "bowling = requests.get('https://www.icc-cricket.com/rankings/mens/player-rankings/odi/bowling')\n",
    "bowling"
   ]
  },
  {
   "cell_type": "code",
   "execution_count": 89,
   "metadata": {},
   "outputs": [],
   "source": [
    "target_bowler = BeautifulSoup(bowling.content)"
   ]
  },
  {
   "cell_type": "code",
   "execution_count": 90,
   "metadata": {},
   "outputs": [
    {
     "data": {
      "text/plain": [
       "'1'"
      ]
     },
     "execution_count": 90,
     "metadata": {},
     "output_type": "execute_result"
    }
   ],
   "source": [
    "head1 = target_bowler.find(class_ = 'rankings-block__position').text\n",
    "head1"
   ]
  },
  {
   "cell_type": "code",
   "execution_count": 91,
   "metadata": {},
   "outputs": [
    {
     "data": {
      "text/plain": [
       "'Trent Boult'"
      ]
     },
     "execution_count": 91,
     "metadata": {},
     "output_type": "execute_result"
    }
   ],
   "source": [
    "name1 = target_bowler.find(class_='rankings-block__banner--name-large').text\n",
    "name1"
   ]
  },
  {
   "cell_type": "code",
   "execution_count": 92,
   "metadata": {},
   "outputs": [
    {
     "data": {
      "text/plain": [
       "'737'"
      ]
     },
     "execution_count": 92,
     "metadata": {},
     "output_type": "execute_result"
    }
   ],
   "source": [
    "rat1 = target_bowler.find(class_='rankings-block__banner--rating').text\n",
    "rat1"
   ]
  },
  {
   "cell_type": "code",
   "execution_count": 93,
   "metadata": {},
   "outputs": [
    {
     "data": {
      "text/plain": [
       "'NZ'"
      ]
     },
     "execution_count": 93,
     "metadata": {},
     "output_type": "execute_result"
    }
   ],
   "source": [
    "team1 = target_bowler.find(class_='rankings-block__banner--nationality').text.strip()\n",
    "team1"
   ]
  },
  {
   "cell_type": "code",
   "execution_count": 94,
   "metadata": {},
   "outputs": [],
   "source": [
    "head2 = target_bowler.find_all(class_='table-body__cell table-body__cell--position u-text-right')"
   ]
  },
  {
   "cell_type": "code",
   "execution_count": 95,
   "metadata": {},
   "outputs": [],
   "source": [
    "pos2 = []\n",
    "for i in head2:\n",
    "    pos2.append(i.text.strip())"
   ]
  },
  {
   "cell_type": "code",
   "execution_count": 96,
   "metadata": {},
   "outputs": [
    {
     "name": "stdout",
     "output_type": "stream",
     "text": [
      "['2', '3', '4', '5', '6', '7', '8', '9', '10']\n",
      "9\n"
     ]
    }
   ],
   "source": [
    "positions = pos[0:9]\n",
    "print(positions)\n",
    "print(len(positions))"
   ]
  },
  {
   "cell_type": "code",
   "execution_count": 97,
   "metadata": {},
   "outputs": [],
   "source": [
    "name2 = target_bowler.find_all(class_='table-body__cell rankings-table__name name')\n",
    "\n",
    "nam = []\n",
    "for i in name2:\n",
    "    nam.append(i.text.replace('\\n',\"\"))"
   ]
  },
  {
   "cell_type": "code",
   "execution_count": 98,
   "metadata": {},
   "outputs": [
    {
     "data": {
      "text/plain": [
       "['Josh Hazlewood',\n",
       " 'Mujeeb Ur Rahman',\n",
       " 'Chris Woakes',\n",
       " 'Mehedi Hasan',\n",
       " 'Matt Henry',\n",
       " 'Jasprit Bumrah',\n",
       " 'Mitchell Starc',\n",
       " 'Shakib Al Hasan',\n",
       " 'Kagiso Rabada']"
      ]
     },
     "execution_count": 98,
     "metadata": {},
     "output_type": "execute_result"
    }
   ],
   "source": [
    "names = nam[0:9]\n",
    "names"
   ]
  },
  {
   "cell_type": "code",
   "execution_count": 99,
   "metadata": {},
   "outputs": [],
   "source": [
    "rat2 = target_bowler.find_all(class_='table-body__cell rating')\n",
    "\n",
    "rati = []\n",
    "for i in rat2:\n",
    "    rati.append(i.text)"
   ]
  },
  {
   "cell_type": "code",
   "execution_count": 100,
   "metadata": {},
   "outputs": [
    {
     "data": {
      "text/plain": [
       "['709', '708', '700', '692', '691', '679', '652', '650', '646']"
      ]
     },
     "execution_count": 100,
     "metadata": {},
     "output_type": "execute_result"
    }
   ],
   "source": [
    "ratings = rati[0:9]\n",
    "ratings"
   ]
  },
  {
   "cell_type": "code",
   "execution_count": 101,
   "metadata": {},
   "outputs": [],
   "source": [
    "team2 = target_bowler.find_all(class_=\"table-body__logo-text\")"
   ]
  },
  {
   "cell_type": "code",
   "execution_count": 102,
   "metadata": {},
   "outputs": [],
   "source": [
    "team4 = []\n",
    "for i in team2:\n",
    "    team4.append(i.text)"
   ]
  },
  {
   "cell_type": "code",
   "execution_count": 103,
   "metadata": {},
   "outputs": [
    {
     "name": "stdout",
     "output_type": "stream",
     "text": [
      "['AUS', 'AFG', 'ENG', 'BAN', 'NZ', 'IND', 'AUS', 'BAN', 'SA']\n",
      "9\n"
     ]
    }
   ],
   "source": [
    "team = team4[0:9]\n",
    "print(team)\n",
    "print(len(team))"
   ]
  },
  {
   "cell_type": "code",
   "execution_count": 104,
   "metadata": {},
   "outputs": [],
   "source": [
    "positions.insert(0,head1)\n",
    "names.insert(0,name1)\n",
    "ratings.insert(0,rat1)\n",
    "team.insert(0,team1)"
   ]
  },
  {
   "cell_type": "code",
   "execution_count": 105,
   "metadata": {},
   "outputs": [
    {
     "name": "stdout",
     "output_type": "stream",
     "text": [
      "10 10 10 10\n"
     ]
    }
   ],
   "source": [
    "print(len(positions),len(names),len(ratings),len(team))"
   ]
  },
  {
   "cell_type": "code",
   "execution_count": 106,
   "metadata": {},
   "outputs": [
    {
     "data": {
      "text/html": [
       "<div>\n",
       "<style scoped>\n",
       "    .dataframe tbody tr th:only-of-type {\n",
       "        vertical-align: middle;\n",
       "    }\n",
       "\n",
       "    .dataframe tbody tr th {\n",
       "        vertical-align: top;\n",
       "    }\n",
       "\n",
       "    .dataframe thead th {\n",
       "        text-align: right;\n",
       "    }\n",
       "</style>\n",
       "<table border=\"1\" class=\"dataframe\">\n",
       "  <thead>\n",
       "    <tr style=\"text-align: right;\">\n",
       "      <th></th>\n",
       "      <th>Name</th>\n",
       "      <th>Positions</th>\n",
       "      <th>Team</th>\n",
       "      <th>Ratings</th>\n",
       "    </tr>\n",
       "  </thead>\n",
       "  <tbody>\n",
       "    <tr>\n",
       "      <th>0</th>\n",
       "      <td>Trent Boult</td>\n",
       "      <td>1</td>\n",
       "      <td>NZ</td>\n",
       "      <td>737</td>\n",
       "    </tr>\n",
       "    <tr>\n",
       "      <th>1</th>\n",
       "      <td>Josh Hazlewood</td>\n",
       "      <td>2</td>\n",
       "      <td>AUS</td>\n",
       "      <td>709</td>\n",
       "    </tr>\n",
       "    <tr>\n",
       "      <th>2</th>\n",
       "      <td>Mujeeb Ur Rahman</td>\n",
       "      <td>3</td>\n",
       "      <td>AFG</td>\n",
       "      <td>708</td>\n",
       "    </tr>\n",
       "    <tr>\n",
       "      <th>3</th>\n",
       "      <td>Chris Woakes</td>\n",
       "      <td>4</td>\n",
       "      <td>ENG</td>\n",
       "      <td>700</td>\n",
       "    </tr>\n",
       "    <tr>\n",
       "      <th>4</th>\n",
       "      <td>Mehedi Hasan</td>\n",
       "      <td>5</td>\n",
       "      <td>BAN</td>\n",
       "      <td>692</td>\n",
       "    </tr>\n",
       "    <tr>\n",
       "      <th>5</th>\n",
       "      <td>Matt Henry</td>\n",
       "      <td>6</td>\n",
       "      <td>NZ</td>\n",
       "      <td>691</td>\n",
       "    </tr>\n",
       "    <tr>\n",
       "      <th>6</th>\n",
       "      <td>Jasprit Bumrah</td>\n",
       "      <td>7</td>\n",
       "      <td>IND</td>\n",
       "      <td>679</td>\n",
       "    </tr>\n",
       "    <tr>\n",
       "      <th>7</th>\n",
       "      <td>Mitchell Starc</td>\n",
       "      <td>8</td>\n",
       "      <td>AUS</td>\n",
       "      <td>652</td>\n",
       "    </tr>\n",
       "    <tr>\n",
       "      <th>8</th>\n",
       "      <td>Shakib Al Hasan</td>\n",
       "      <td>9</td>\n",
       "      <td>BAN</td>\n",
       "      <td>650</td>\n",
       "    </tr>\n",
       "    <tr>\n",
       "      <th>9</th>\n",
       "      <td>Kagiso Rabada</td>\n",
       "      <td>10</td>\n",
       "      <td>SA</td>\n",
       "      <td>646</td>\n",
       "    </tr>\n",
       "  </tbody>\n",
       "</table>\n",
       "</div>"
      ],
      "text/plain": [
       "               Name Positions Team Ratings\n",
       "0       Trent Boult         1   NZ     737\n",
       "1    Josh Hazlewood         2  AUS     709\n",
       "2  Mujeeb Ur Rahman         3  AFG     708\n",
       "3      Chris Woakes         4  ENG     700\n",
       "4      Mehedi Hasan         5  BAN     692\n",
       "5        Matt Henry         6   NZ     691\n",
       "6    Jasprit Bumrah         7  IND     679\n",
       "7    Mitchell Starc         8  AUS     652\n",
       "8   Shakib Al Hasan         9  BAN     650\n",
       "9     Kagiso Rabada        10   SA     646"
      ]
     },
     "execution_count": 106,
     "metadata": {},
     "output_type": "execute_result"
    }
   ],
   "source": [
    "bowler_ratings = pd.DataFrame({})\n",
    "bowler_ratings['Name'] = names\n",
    "bowler_ratings['Positions'] = positions\n",
    "bowler_ratings['Team'] = team\n",
    "bowler_ratings['Ratings'] = ratings\n",
    "\n",
    "bowler_ratings"
   ]
  },
  {
   "cell_type": "markdown",
   "metadata": {},
   "source": [
    "# Write a python program to scrape house details from https://www.nobroker.in/ for any location. It should include house title, location, area, emi and price"
   ]
  },
  {
   "cell_type": "code",
   "execution_count": 107,
   "metadata": {},
   "outputs": [
    {
     "data": {
      "text/plain": [
       "<Response [200]>"
      ]
     },
     "execution_count": 107,
     "metadata": {},
     "output_type": "execute_result"
    }
   ],
   "source": [
    "page = requests.get('https://www.nobroker.in/property/sale/delhi/Rohini?searchParam=W3sibGF0IjoyOC43MzgyNjc2OTk5OTk5OSwibG9uIjo3Ny4wODIyMTUxLCJwbGFjZUlkIjoiQ2hJSlBZQ2hSem9CRFRrUkwxNkJkOFNNLS0wIiwicGxhY2VOYW1lIjoiUm9oaW5pIn1d&radius=2.0')\n",
    "page"
   ]
  },
  {
   "cell_type": "code",
   "execution_count": 108,
   "metadata": {},
   "outputs": [],
   "source": [
    "target_house = BeautifulSoup(page.content)"
   ]
  },
  {
   "cell_type": "code",
   "execution_count": 109,
   "metadata": {},
   "outputs": [
    {
     "data": {
      "text/plain": [
       "[<h2 class=\"heading-6 font-semi-bold nb__1AShY\"><span itemprop=\"name\">1 BHK Flat  For Sale  In Dda Flat In Rohini</span> <svg aria-hidden=\"true\" class=\"jss1\" focusable=\"false\" role=\"presentation\" viewbox=\"0 0 24 24\"><path d=\"M0 0h24v24H0z\" fill=\"none\"></path><path d=\"M19 19H5V5h7V3H5c-1.11 0-2 .9-2 2v14c0 1.1.89 2 2 2h14c1.1 0 2-.9 2-2v-7h-2v7zM14 3v2h3.59l-9.83 9.83 1.41 1.41L19 6.41V10h2V3h-7z\"></path></svg></h2>,\n",
       " <h2 class=\"heading-6 font-semi-bold nb__1AShY\"><span itemprop=\"name\">2 BHK Flat  For Sale  In Independent Builder Floor In Rohini</span> <svg aria-hidden=\"true\" class=\"jss1\" focusable=\"false\" role=\"presentation\" viewbox=\"0 0 24 24\"><path d=\"M0 0h24v24H0z\" fill=\"none\"></path><path d=\"M19 19H5V5h7V3H5c-1.11 0-2 .9-2 2v14c0 1.1.89 2 2 2h14c1.1 0 2-.9 2-2v-7h-2v7zM14 3v2h3.59l-9.83 9.83 1.41 1.41L19 6.41V10h2V3h-7z\"></path></svg></h2>,\n",
       " <h2 class=\"heading-6 font-semi-bold nb__1AShY\"><span itemprop=\"name\">2 BHK Flat  For Sale  In Builder Floor In Rohini</span> <svg aria-hidden=\"true\" class=\"jss1\" focusable=\"false\" role=\"presentation\" viewbox=\"0 0 24 24\"><path d=\"M0 0h24v24H0z\" fill=\"none\"></path><path d=\"M19 19H5V5h7V3H5c-1.11 0-2 .9-2 2v14c0 1.1.89 2 2 2h14c1.1 0 2-.9 2-2v-7h-2v7zM14 3v2h3.59l-9.83 9.83 1.41 1.41L19 6.41V10h2V3h-7z\"></path></svg></h2>,\n",
       " <h2 class=\"heading-6 font-semi-bold nb__1AShY\"><span itemprop=\"name\">3 BHK Flat  For Sale  In Rohini Sector 21</span> <svg aria-hidden=\"true\" class=\"jss1\" focusable=\"false\" role=\"presentation\" viewbox=\"0 0 24 24\"><path d=\"M0 0h24v24H0z\" fill=\"none\"></path><path d=\"M19 19H5V5h7V3H5c-1.11 0-2 .9-2 2v14c0 1.1.89 2 2 2h14c1.1 0 2-.9 2-2v-7h-2v7zM14 3v2h3.59l-9.83 9.83 1.41 1.41L19 6.41V10h2V3h-7z\"></path></svg></h2>,\n",
       " <h2 class=\"heading-6 font-semi-bold nb__1AShY\"><span itemprop=\"name\">2 BHK Flat  For Sale  In Westend Apartment Rohini In Rohini</span> <svg aria-hidden=\"true\" class=\"jss1\" focusable=\"false\" role=\"presentation\" viewbox=\"0 0 24 24\"><path d=\"M0 0h24v24H0z\" fill=\"none\"></path><path d=\"M19 19H5V5h7V3H5c-1.11 0-2 .9-2 2v14c0 1.1.89 2 2 2h14c1.1 0 2-.9 2-2v-7h-2v7zM14 3v2h3.59l-9.83 9.83 1.41 1.41L19 6.41V10h2V3h-7z\"></path></svg></h2>,\n",
       " <h2 class=\"heading-6 font-semi-bold nb__1AShY\"><span itemprop=\"name\">1 BHK Flat  For Sale  In Dda Lig Flats In Rohini</span> <svg aria-hidden=\"true\" class=\"jss1\" focusable=\"false\" role=\"presentation\" viewbox=\"0 0 24 24\"><path d=\"M0 0h24v24H0z\" fill=\"none\"></path><path d=\"M19 19H5V5h7V3H5c-1.11 0-2 .9-2 2v14c0 1.1.89 2 2 2h14c1.1 0 2-.9 2-2v-7h-2v7zM14 3v2h3.59l-9.83 9.83 1.41 1.41L19 6.41V10h2V3h-7z\"></path></svg></h2>,\n",
       " <h2 class=\"heading-6 font-semi-bold nb__1AShY\"><span itemprop=\"name\">2 BHK In Independent House  For Sale  In Rohini, Delhi, India</span> <svg aria-hidden=\"true\" class=\"jss1\" focusable=\"false\" role=\"presentation\" viewbox=\"0 0 24 24\"><path d=\"M0 0h24v24H0z\" fill=\"none\"></path><path d=\"M19 19H5V5h7V3H5c-1.11 0-2 .9-2 2v14c0 1.1.89 2 2 2h14c1.1 0 2-.9 2-2v-7h-2v7zM14 3v2h3.59l-9.83 9.83 1.41 1.41L19 6.41V10h2V3h-7z\"></path></svg></h2>,\n",
       " <h2 class=\"heading-6 font-semi-bold nb__1AShY\"><span itemprop=\"name\">2 BHK In Independent House  For Sale  In Rohini</span> <svg aria-hidden=\"true\" class=\"jss1\" focusable=\"false\" role=\"presentation\" viewbox=\"0 0 24 24\"><path d=\"M0 0h24v24H0z\" fill=\"none\"></path><path d=\"M19 19H5V5h7V3H5c-1.11 0-2 .9-2 2v14c0 1.1.89 2 2 2h14c1.1 0 2-.9 2-2v-7h-2v7zM14 3v2h3.59l-9.83 9.83 1.41 1.41L19 6.41V10h2V3h-7z\"></path></svg></h2>,\n",
       " <h2 class=\"heading-6 font-semi-bold nb__1AShY\"><span itemprop=\"name\">1 RK Flat  For Sale  In Rohini</span> <svg aria-hidden=\"true\" class=\"jss1\" focusable=\"false\" role=\"presentation\" viewbox=\"0 0 24 24\"><path d=\"M0 0h24v24H0z\" fill=\"none\"></path><path d=\"M19 19H5V5h7V3H5c-1.11 0-2 .9-2 2v14c0 1.1.89 2 2 2h14c1.1 0 2-.9 2-2v-7h-2v7zM14 3v2h3.59l-9.83 9.83 1.41 1.41L19 6.41V10h2V3h-7z\"></path></svg></h2>,\n",
       " <h2 class=\"heading-6 font-semi-bold nb__1AShY\"><span itemprop=\"name\">2 BHK Flat  For Sale  In Sector 2 Rohini ,dda Lig Flats Pocket 5 In Rohini</span> <svg aria-hidden=\"true\" class=\"jss1\" focusable=\"false\" role=\"presentation\" viewbox=\"0 0 24 24\"><path d=\"M0 0h24v24H0z\" fill=\"none\"></path><path d=\"M19 19H5V5h7V3H5c-1.11 0-2 .9-2 2v14c0 1.1.89 2 2 2h14c1.1 0 2-.9 2-2v-7h-2v7zM14 3v2h3.59l-9.83 9.83 1.41 1.41L19 6.41V10h2V3h-7z\"></path></svg></h2>]"
      ]
     },
     "execution_count": 109,
     "metadata": {},
     "output_type": "execute_result"
    }
   ],
   "source": [
    "title = target_house.find_all(class_='heading-6 font-semi-bold nb__1AShY')\n",
    "title"
   ]
  },
  {
   "cell_type": "code",
   "execution_count": 110,
   "metadata": {},
   "outputs": [
    {
     "data": {
      "text/plain": [
       "['1 BHK Flat  For Sale  In Dda Flat In Rohini ',\n",
       " '2 BHK Flat  For Sale  In Independent Builder Floor In Rohini ',\n",
       " '2 BHK Flat  For Sale  In Builder Floor In Rohini ',\n",
       " '3 BHK Flat  For Sale  In Rohini Sector 21 ',\n",
       " '2 BHK Flat  For Sale  In Westend Apartment Rohini In Rohini ',\n",
       " '1 BHK Flat  For Sale  In Dda Lig Flats In Rohini ',\n",
       " '2 BHK In Independent House  For Sale  In Rohini, Delhi, India ',\n",
       " '2 BHK In Independent House  For Sale  In Rohini ',\n",
       " '1 RK Flat  For Sale  In Rohini ',\n",
       " '2 BHK Flat  For Sale  In Sector 2 Rohini ,dda Lig Flats Pocket 5 In Rohini ']"
      ]
     },
     "execution_count": 110,
     "metadata": {},
     "output_type": "execute_result"
    }
   ],
   "source": [
    "house_title = []\n",
    "for i in title:\n",
    "    house_title.append(i.text)\n",
    "\n",
    "house_title"
   ]
  },
  {
   "cell_type": "code",
   "execution_count": 111,
   "metadata": {},
   "outputs": [
    {
     "name": "stdout",
     "output_type": "stream",
     "text": [
      "Length of House Title is 10\n"
     ]
    }
   ],
   "source": [
    "print(\"Length of House Title is\",len(house_title))"
   ]
  },
  {
   "cell_type": "code",
   "execution_count": 112,
   "metadata": {},
   "outputs": [
    {
     "data": {
      "text/plain": [
       "[<div class=\"nb__2CMjv\">Rituals metro station</div>,\n",
       " <div class=\"nb__2CMjv\">sector 22 rohini</div>,\n",
       " <div class=\"nb__2CMjv\">125, I-4, sector 16, Rohini</div>,\n",
       " <div class=\"nb__2CMjv\">Standalone building, Pocket 7,Near New Millennium Apartments, Pocket-7 </div>,\n",
       " <div class=\"nb__2CMjv\">Rohini</div>,\n",
       " <div class=\"nb__2CMjv\">Utsav Marg, near NIDM</div>,\n",
       " <div class=\"nb__2CMjv\">Location,  H no.  B-19/295, kailash vihar pansali,  Rohini,  New Delhi,  110042.</div>,\n",
       " <div class=\"nb__2CMjv\">sector 24</div>,\n",
       " <div class=\"nb__2CMjv\">D/17,sector 3</div>,\n",
       " <div class=\"nb__2CMjv\">pocket 5 sector 2 rohini</div>]"
      ]
     },
     "execution_count": 112,
     "metadata": {},
     "output_type": "execute_result"
    }
   ],
   "source": [
    "loc = target_house.find_all(class_='nb__2CMjv')\n",
    "loc"
   ]
  },
  {
   "cell_type": "code",
   "execution_count": 113,
   "metadata": {},
   "outputs": [
    {
     "data": {
      "text/plain": [
       "['Rituals metro station',\n",
       " 'sector 22 rohini',\n",
       " '125, I-4, sector 16, Rohini',\n",
       " 'Standalone building, Pocket 7,Near New Millennium Apartments, Pocket-7 ',\n",
       " 'Rohini',\n",
       " 'Utsav Marg, near NIDM',\n",
       " 'Location,  H no.  B-19/295, kailash vihar pansali,  Rohini,  New Delhi,  110042.',\n",
       " 'sector 24',\n",
       " 'D/17,sector 3',\n",
       " 'pocket 5 sector 2 rohini']"
      ]
     },
     "execution_count": 113,
     "metadata": {},
     "output_type": "execute_result"
    }
   ],
   "source": [
    "location = []\n",
    "for i in loc:\n",
    "    location.append(i.text)\n",
    "    \n",
    "location"
   ]
  },
  {
   "cell_type": "code",
   "execution_count": 114,
   "metadata": {},
   "outputs": [
    {
     "name": "stdout",
     "output_type": "stream",
     "text": [
      "The length of location is 10\n"
     ]
    }
   ],
   "source": [
    "print('The length of location is',len(location))"
   ]
  },
  {
   "cell_type": "code",
   "execution_count": 115,
   "metadata": {},
   "outputs": [
    {
     "data": {
      "text/plain": [
       "[<div class=\"nb__3oNyC\">400 sqft</div>,\n",
       " <div class=\"nb__3oNyC\">517 sqft</div>,\n",
       " <div class=\"nb__3oNyC\">630 sqft</div>,\n",
       " <div class=\"nb__3oNyC\">516 sqft</div>,\n",
       " <div class=\"nb__3oNyC\">1,200 sqft</div>,\n",
       " <div class=\"nb__3oNyC\">500 sqft</div>,\n",
       " <div class=\"nb__3oNyC\">540 sqft</div>,\n",
       " <div class=\"nb__3oNyC\">784 sqft</div>,\n",
       " <div class=\"nb__3oNyC\">280 sqft</div>,\n",
       " <div class=\"nb__3oNyC\">500 sqft</div>]"
      ]
     },
     "execution_count": 115,
     "metadata": {},
     "output_type": "execute_result"
    }
   ],
   "source": [
    "area = target_house.find_all(class_=\"nb__3oNyC\")\n",
    "area"
   ]
  },
  {
   "cell_type": "code",
   "execution_count": 116,
   "metadata": {},
   "outputs": [
    {
     "data": {
      "text/plain": [
       "['400 sqft',\n",
       " '517 sqft',\n",
       " '630 sqft',\n",
       " '516 sqft',\n",
       " '1,200 sqft',\n",
       " '500 sqft',\n",
       " '540 sqft',\n",
       " '784 sqft',\n",
       " '280 sqft',\n",
       " '500 sqft']"
      ]
     },
     "execution_count": 116,
     "metadata": {},
     "output_type": "execute_result"
    }
   ],
   "source": [
    "house_area = []\n",
    "for i in area:\n",
    "    house_area.append(i.text)\n",
    "    \n",
    "house_area  "
   ]
  },
  {
   "cell_type": "code",
   "execution_count": null,
   "metadata": {},
   "outputs": [],
   "source": []
  },
  {
   "cell_type": "code",
   "execution_count": 117,
   "metadata": {},
   "outputs": [],
   "source": [
    "emi = target_house.find_all(class_=\"font-semi-bold heading-6\")"
   ]
  },
  {
   "cell_type": "code",
   "execution_count": 118,
   "metadata": {},
   "outputs": [],
   "source": [
    "final_emi = []\n",
    "for i in emi:\n",
    "    final_emi.append(i.text)"
   ]
  },
  {
   "cell_type": "code",
   "execution_count": 119,
   "metadata": {},
   "outputs": [
    {
     "data": {
      "text/plain": [
       "['₹25 Lacs',\n",
       " '₹36 Lacs',\n",
       " '₹55 Lacs',\n",
       " '₹32 Lacs',\n",
       " '₹95 Lacs',\n",
       " '₹30 Lacs',\n",
       " '₹21 Lacs',\n",
       " '₹80 Lacs',\n",
       " '₹21 Lacs',\n",
       " '₹42 Lacs']"
      ]
     },
     "execution_count": 119,
     "metadata": {},
     "output_type": "execute_result"
    }
   ],
   "source": [
    "prices = final_emi[2:30:3]\n",
    "prices"
   ]
  },
  {
   "cell_type": "code",
   "execution_count": 120,
   "metadata": {},
   "outputs": [
    {
     "data": {
      "text/plain": [
       "['400 sqft',\n",
       " '517 sqft',\n",
       " '630 sqft',\n",
       " '516 sqft',\n",
       " '1,200 sqft',\n",
       " '500 sqft',\n",
       " '540 sqft',\n",
       " '784 sqft',\n",
       " '280 sqft',\n",
       " '500 sqft']"
      ]
     },
     "execution_count": 120,
     "metadata": {},
     "output_type": "execute_result"
    }
   ],
   "source": [
    "area = final_emi[0:30:3]\n",
    "area"
   ]
  },
  {
   "cell_type": "code",
   "execution_count": 121,
   "metadata": {},
   "outputs": [
    {
     "data": {
      "text/plain": [
       "['₹14,328/Month',\n",
       " '₹20,633/Month',\n",
       " '₹31,522/Month',\n",
       " '₹18,340/Month',\n",
       " '₹54,448/Month',\n",
       " '₹17,194/Month',\n",
       " '₹12,036/Month',\n",
       " '₹45,851/Month',\n",
       " '₹12,036/Month',\n",
       " '₹24,072/Month']"
      ]
     },
     "execution_count": 121,
     "metadata": {},
     "output_type": "execute_result"
    }
   ],
   "source": [
    "all_emi = final_emi[1:30:3]\n",
    "all_emi"
   ]
  },
  {
   "cell_type": "code",
   "execution_count": 122,
   "metadata": {},
   "outputs": [
    {
     "name": "stdout",
     "output_type": "stream",
     "text": [
      "The length of Emi is 30\n",
      "The length of Emi is 10\n"
     ]
    }
   ],
   "source": [
    "print('The length of Emi is',len(final_emi))\n",
    "print('The length of Emi is',len(all_emi))"
   ]
  },
  {
   "cell_type": "code",
   "execution_count": 123,
   "metadata": {},
   "outputs": [
    {
     "data": {
      "text/html": [
       "<div>\n",
       "<style scoped>\n",
       "    .dataframe tbody tr th:only-of-type {\n",
       "        vertical-align: middle;\n",
       "    }\n",
       "\n",
       "    .dataframe tbody tr th {\n",
       "        vertical-align: top;\n",
       "    }\n",
       "\n",
       "    .dataframe thead th {\n",
       "        text-align: right;\n",
       "    }\n",
       "</style>\n",
       "<table border=\"1\" class=\"dataframe\">\n",
       "  <thead>\n",
       "    <tr style=\"text-align: right;\">\n",
       "      <th></th>\n",
       "      <th>House Title</th>\n",
       "      <th>Location</th>\n",
       "      <th>Price of House</th>\n",
       "      <th>EMI</th>\n",
       "      <th>Area</th>\n",
       "    </tr>\n",
       "  </thead>\n",
       "  <tbody>\n",
       "    <tr>\n",
       "      <th>0</th>\n",
       "      <td>1 BHK Flat  For Sale  In Dda Flat In Rohini</td>\n",
       "      <td>Rituals metro station</td>\n",
       "      <td>₹25 Lacs</td>\n",
       "      <td>₹14,328/Month</td>\n",
       "      <td>400 sqft</td>\n",
       "    </tr>\n",
       "    <tr>\n",
       "      <th>1</th>\n",
       "      <td>2 BHK Flat  For Sale  In Independent Builder F...</td>\n",
       "      <td>sector 22 rohini</td>\n",
       "      <td>₹36 Lacs</td>\n",
       "      <td>₹20,633/Month</td>\n",
       "      <td>517 sqft</td>\n",
       "    </tr>\n",
       "    <tr>\n",
       "      <th>2</th>\n",
       "      <td>2 BHK Flat  For Sale  In Builder Floor In Rohini</td>\n",
       "      <td>125, I-4, sector 16, Rohini</td>\n",
       "      <td>₹55 Lacs</td>\n",
       "      <td>₹31,522/Month</td>\n",
       "      <td>630 sqft</td>\n",
       "    </tr>\n",
       "    <tr>\n",
       "      <th>3</th>\n",
       "      <td>3 BHK Flat  For Sale  In Rohini Sector 21</td>\n",
       "      <td>Standalone building, Pocket 7,Near New Millenn...</td>\n",
       "      <td>₹32 Lacs</td>\n",
       "      <td>₹18,340/Month</td>\n",
       "      <td>516 sqft</td>\n",
       "    </tr>\n",
       "    <tr>\n",
       "      <th>4</th>\n",
       "      <td>2 BHK Flat  For Sale  In Westend Apartment Roh...</td>\n",
       "      <td>Rohini</td>\n",
       "      <td>₹95 Lacs</td>\n",
       "      <td>₹54,448/Month</td>\n",
       "      <td>1,200 sqft</td>\n",
       "    </tr>\n",
       "    <tr>\n",
       "      <th>5</th>\n",
       "      <td>1 BHK Flat  For Sale  In Dda Lig Flats In Rohini</td>\n",
       "      <td>Utsav Marg, near NIDM</td>\n",
       "      <td>₹30 Lacs</td>\n",
       "      <td>₹17,194/Month</td>\n",
       "      <td>500 sqft</td>\n",
       "    </tr>\n",
       "    <tr>\n",
       "      <th>6</th>\n",
       "      <td>2 BHK In Independent House  For Sale  In Rohin...</td>\n",
       "      <td>Location,  H no.  B-19/295, kailash vihar pans...</td>\n",
       "      <td>₹21 Lacs</td>\n",
       "      <td>₹12,036/Month</td>\n",
       "      <td>540 sqft</td>\n",
       "    </tr>\n",
       "    <tr>\n",
       "      <th>7</th>\n",
       "      <td>2 BHK In Independent House  For Sale  In Rohini</td>\n",
       "      <td>sector 24</td>\n",
       "      <td>₹80 Lacs</td>\n",
       "      <td>₹45,851/Month</td>\n",
       "      <td>784 sqft</td>\n",
       "    </tr>\n",
       "    <tr>\n",
       "      <th>8</th>\n",
       "      <td>1 RK Flat  For Sale  In Rohini</td>\n",
       "      <td>D/17,sector 3</td>\n",
       "      <td>₹21 Lacs</td>\n",
       "      <td>₹12,036/Month</td>\n",
       "      <td>280 sqft</td>\n",
       "    </tr>\n",
       "    <tr>\n",
       "      <th>9</th>\n",
       "      <td>2 BHK Flat  For Sale  In Sector 2 Rohini ,dda ...</td>\n",
       "      <td>pocket 5 sector 2 rohini</td>\n",
       "      <td>₹42 Lacs</td>\n",
       "      <td>₹24,072/Month</td>\n",
       "      <td>500 sqft</td>\n",
       "    </tr>\n",
       "  </tbody>\n",
       "</table>\n",
       "</div>"
      ],
      "text/plain": [
       "                                         House Title  \\\n",
       "0       1 BHK Flat  For Sale  In Dda Flat In Rohini    \n",
       "1  2 BHK Flat  For Sale  In Independent Builder F...   \n",
       "2  2 BHK Flat  For Sale  In Builder Floor In Rohini    \n",
       "3         3 BHK Flat  For Sale  In Rohini Sector 21    \n",
       "4  2 BHK Flat  For Sale  In Westend Apartment Roh...   \n",
       "5  1 BHK Flat  For Sale  In Dda Lig Flats In Rohini    \n",
       "6  2 BHK In Independent House  For Sale  In Rohin...   \n",
       "7   2 BHK In Independent House  For Sale  In Rohini    \n",
       "8                    1 RK Flat  For Sale  In Rohini    \n",
       "9  2 BHK Flat  For Sale  In Sector 2 Rohini ,dda ...   \n",
       "\n",
       "                                            Location Price of House  \\\n",
       "0                              Rituals metro station       ₹25 Lacs   \n",
       "1                                   sector 22 rohini       ₹36 Lacs   \n",
       "2                        125, I-4, sector 16, Rohini       ₹55 Lacs   \n",
       "3  Standalone building, Pocket 7,Near New Millenn...       ₹32 Lacs   \n",
       "4                                             Rohini       ₹95 Lacs   \n",
       "5                              Utsav Marg, near NIDM       ₹30 Lacs   \n",
       "6  Location,  H no.  B-19/295, kailash vihar pans...       ₹21 Lacs   \n",
       "7                                          sector 24       ₹80 Lacs   \n",
       "8                                      D/17,sector 3       ₹21 Lacs   \n",
       "9                           pocket 5 sector 2 rohini       ₹42 Lacs   \n",
       "\n",
       "             EMI        Area  \n",
       "0  ₹14,328/Month    400 sqft  \n",
       "1  ₹20,633/Month    517 sqft  \n",
       "2  ₹31,522/Month    630 sqft  \n",
       "3  ₹18,340/Month    516 sqft  \n",
       "4  ₹54,448/Month  1,200 sqft  \n",
       "5  ₹17,194/Month    500 sqft  \n",
       "6  ₹12,036/Month    540 sqft  \n",
       "7  ₹45,851/Month    784 sqft  \n",
       "8  ₹12,036/Month    280 sqft  \n",
       "9  ₹24,072/Month    500 sqft  "
      ]
     },
     "execution_count": 123,
     "metadata": {},
     "output_type": "execute_result"
    }
   ],
   "source": [
    "house_list = pd.DataFrame({})\n",
    "house_list['House Title'] = house_title\n",
    "house_list['Location'] = location\n",
    "house_list['Price of House'] = prices\n",
    "house_list['EMI'] = all_emi\n",
    "house_list['Area'] = area\n",
    "\n",
    "house_list"
   ]
  },
  {
   "cell_type": "markdown",
   "metadata": {},
   "source": [
    "# Write a python program to scrape fresher job listings from ‘https://internshala.com/’. It should include job title, company name, CTC, and apply date."
   ]
  },
  {
   "cell_type": "code",
   "execution_count": 124,
   "metadata": {},
   "outputs": [
    {
     "data": {
      "text/plain": [
       "<Response [200]>"
      ]
     },
     "execution_count": 124,
     "metadata": {},
     "output_type": "execute_result"
    }
   ],
   "source": [
    "page = requests.get('https://internshala.com/fresher-jobs')\n",
    "page"
   ]
  },
  {
   "cell_type": "code",
   "execution_count": 125,
   "metadata": {},
   "outputs": [],
   "source": [
    "target_job = BeautifulSoup(page.content)"
   ]
  },
  {
   "cell_type": "code",
   "execution_count": 126,
   "metadata": {},
   "outputs": [],
   "source": [
    "title_job = target_job.find_all(class_= 'heading_4_5 profile')"
   ]
  },
  {
   "cell_type": "code",
   "execution_count": 127,
   "metadata": {},
   "outputs": [],
   "source": [
    "job_title = []\n",
    "for i in title_job:\n",
    "    job_title.append(i.text.replace('\\n',\" \"))"
   ]
  },
  {
   "cell_type": "code",
   "execution_count": 128,
   "metadata": {},
   "outputs": [],
   "source": [
    "comp_name = target_job.find_all(class_='heading_6 company_name')\n",
    "\n",
    "company_name = []\n",
    "for i in comp_name:\n",
    "    company_name.append(i.text.strip())"
   ]
  },
  {
   "cell_type": "code",
   "execution_count": 129,
   "metadata": {},
   "outputs": [],
   "source": [
    "ctc = target_job.find_all('div',class_='item_body')"
   ]
  },
  {
   "cell_type": "code",
   "execution_count": 130,
   "metadata": {},
   "outputs": [],
   "source": [
    "ctc_new = []\n",
    "for i in ctc:\n",
    "    ctc_new.append(i.text.split())"
   ]
  },
  {
   "cell_type": "code",
   "execution_count": 131,
   "metadata": {},
   "outputs": [],
   "source": [
    "final_apply_date = ctc_new[2:120:3]"
   ]
  },
  {
   "cell_type": "code",
   "execution_count": 132,
   "metadata": {},
   "outputs": [],
   "source": [
    "final_ctc = ctc_new[1:120:3]"
   ]
  },
  {
   "cell_type": "code",
   "execution_count": 133,
   "metadata": {},
   "outputs": [
    {
     "data": {
      "text/html": [
       "<div>\n",
       "<style scoped>\n",
       "    .dataframe tbody tr th:only-of-type {\n",
       "        vertical-align: middle;\n",
       "    }\n",
       "\n",
       "    .dataframe tbody tr th {\n",
       "        vertical-align: top;\n",
       "    }\n",
       "\n",
       "    .dataframe thead th {\n",
       "        text-align: right;\n",
       "    }\n",
       "</style>\n",
       "<table border=\"1\" class=\"dataframe\">\n",
       "  <thead>\n",
       "    <tr style=\"text-align: right;\">\n",
       "      <th></th>\n",
       "      <th>company_name</th>\n",
       "      <th>Job Title</th>\n",
       "      <th>CTC</th>\n",
       "      <th>Apply Date</th>\n",
       "    </tr>\n",
       "  </thead>\n",
       "  <tbody>\n",
       "    <tr>\n",
       "      <th>0</th>\n",
       "      <td>NSE Academy</td>\n",
       "      <td>Business Development Executive</td>\n",
       "      <td>[3, LPA]</td>\n",
       "      <td>[31, Oct', 21]</td>\n",
       "    </tr>\n",
       "    <tr>\n",
       "      <th>1</th>\n",
       "      <td>CEAT Limited</td>\n",
       "      <td>Management Trainee - Sales</td>\n",
       "      <td>[5, LPA]</td>\n",
       "      <td>[29, Oct', 21]</td>\n",
       "    </tr>\n",
       "    <tr>\n",
       "      <th>2</th>\n",
       "      <td>Graygraph Technologies LLC</td>\n",
       "      <td>Business Development Manager (Digital Marketi...</td>\n",
       "      <td>[4.2, -, 4.8, LPA]</td>\n",
       "      <td>[1, Nov', 21]</td>\n",
       "    </tr>\n",
       "    <tr>\n",
       "      <th>3</th>\n",
       "      <td>Samvedna Senior Care Private Limited</td>\n",
       "      <td>Corporate Sales Executive</td>\n",
       "      <td>[3.25, -, 4, LPA]</td>\n",
       "      <td>[1, Nov', 21]</td>\n",
       "    </tr>\n",
       "    <tr>\n",
       "      <th>4</th>\n",
       "      <td>High School Moms</td>\n",
       "      <td>Junior Content Writer</td>\n",
       "      <td>[3, -, 3.2, LPA]</td>\n",
       "      <td>[1, Nov', 21]</td>\n",
       "    </tr>\n",
       "    <tr>\n",
       "      <th>5</th>\n",
       "      <td>NNIIT</td>\n",
       "      <td>Business Development Associate/Manager</td>\n",
       "      <td>[3.02, -, 8, LPA]</td>\n",
       "      <td>[1, Nov', 21]</td>\n",
       "    </tr>\n",
       "    <tr>\n",
       "      <th>6</th>\n",
       "      <td>Revidd</td>\n",
       "      <td>Software Engineer</td>\n",
       "      <td>[3, -, 5, LPA]</td>\n",
       "      <td>[1, Nov', 21]</td>\n",
       "    </tr>\n",
       "    <tr>\n",
       "      <th>7</th>\n",
       "      <td>HelloSivi</td>\n",
       "      <td>Associate Data Scientist</td>\n",
       "      <td>[4.8, -, 6, LPA]</td>\n",
       "      <td>[1, Nov', 21]</td>\n",
       "    </tr>\n",
       "    <tr>\n",
       "      <th>8</th>\n",
       "      <td>HelloSivi</td>\n",
       "      <td>JavaScript Developer</td>\n",
       "      <td>[4.8, -, 6, LPA]</td>\n",
       "      <td>[1, Nov', 21]</td>\n",
       "    </tr>\n",
       "    <tr>\n",
       "      <th>9</th>\n",
       "      <td>Reading Right</td>\n",
       "      <td>Associate Video Editor</td>\n",
       "      <td>[3, -, 5, LPA]</td>\n",
       "      <td>[1, Nov', 21]</td>\n",
       "    </tr>\n",
       "    <tr>\n",
       "      <th>10</th>\n",
       "      <td>Markytics</td>\n",
       "      <td>Data Science Python Developer</td>\n",
       "      <td>[3, -, 6, LPA]</td>\n",
       "      <td>[1, Nov', 21]</td>\n",
       "    </tr>\n",
       "    <tr>\n",
       "      <th>11</th>\n",
       "      <td>Newgen Payments</td>\n",
       "      <td>DevOps Engineer</td>\n",
       "      <td>[3.5, -, 4.5, LPA]</td>\n",
       "      <td>[31, Oct', 21]</td>\n",
       "    </tr>\n",
       "    <tr>\n",
       "      <th>12</th>\n",
       "      <td>The Eat Better Company</td>\n",
       "      <td>Customer Service Specialist</td>\n",
       "      <td>[3, -, 3.5, LPA]</td>\n",
       "      <td>[31, Oct', 21]</td>\n",
       "    </tr>\n",
       "    <tr>\n",
       "      <th>13</th>\n",
       "      <td>Uniqubic Solutions Private Limited</td>\n",
       "      <td>Junior Software Developer</td>\n",
       "      <td>[3, -, 3.6, LPA]</td>\n",
       "      <td>[31, Oct', 21]</td>\n",
       "    </tr>\n",
       "    <tr>\n",
       "      <th>14</th>\n",
       "      <td>Vibhava Marketing Corporation</td>\n",
       "      <td>Sales Officer</td>\n",
       "      <td>[3, -, 3.01, LPA]</td>\n",
       "      <td>[31, Oct', 21]</td>\n",
       "    </tr>\n",
       "    <tr>\n",
       "      <th>15</th>\n",
       "      <td>Binary Stream</td>\n",
       "      <td>Software Developer</td>\n",
       "      <td>[3, -, 3.5, LPA]</td>\n",
       "      <td>[31, Oct', 21]</td>\n",
       "    </tr>\n",
       "    <tr>\n",
       "      <th>16</th>\n",
       "      <td>Padhhigh</td>\n",
       "      <td>Assistant Growth Manager - Inside Sales</td>\n",
       "      <td>[5, -, 7, LPA]</td>\n",
       "      <td>[31, Oct', 21]</td>\n",
       "    </tr>\n",
       "    <tr>\n",
       "      <th>17</th>\n",
       "      <td>Phoenix (Feenix) Medical Education &amp; Research ...</td>\n",
       "      <td>Office Executive (Marketing)</td>\n",
       "      <td>[3.5, LPA]</td>\n",
       "      <td>[31, Oct', 21]</td>\n",
       "    </tr>\n",
       "    <tr>\n",
       "      <th>18</th>\n",
       "      <td>Startxlabs Technologies Private Limited</td>\n",
       "      <td>Android Application Developer</td>\n",
       "      <td>[3, -, 3.1, LPA]</td>\n",
       "      <td>[31, Oct', 21]</td>\n",
       "    </tr>\n",
       "    <tr>\n",
       "      <th>19</th>\n",
       "      <td>Bungeetech</td>\n",
       "      <td>Junior Software Developer</td>\n",
       "      <td>[5.5, -, 8.5, LPA]</td>\n",
       "      <td>[31, Oct', 21]</td>\n",
       "    </tr>\n",
       "    <tr>\n",
       "      <th>20</th>\n",
       "      <td>TogetherV</td>\n",
       "      <td>Business Development Associate</td>\n",
       "      <td>[3, -, 4, LPA]</td>\n",
       "      <td>[31, Oct', 21]</td>\n",
       "    </tr>\n",
       "    <tr>\n",
       "      <th>21</th>\n",
       "      <td>Intesome</td>\n",
       "      <td>International Sales Executive</td>\n",
       "      <td>[3, -, 4, LPA]</td>\n",
       "      <td>[31, Oct', 21]</td>\n",
       "    </tr>\n",
       "    <tr>\n",
       "      <th>22</th>\n",
       "      <td>Intesome</td>\n",
       "      <td>B2B Sales &amp; Marketing Executive</td>\n",
       "      <td>[3, -, 4, LPA]</td>\n",
       "      <td>[31, Oct', 21]</td>\n",
       "    </tr>\n",
       "    <tr>\n",
       "      <th>23</th>\n",
       "      <td>Intesome</td>\n",
       "      <td>Online Sales &amp; Marketing Executive</td>\n",
       "      <td>[3, -, 4, LPA]</td>\n",
       "      <td>[31, Oct', 21]</td>\n",
       "    </tr>\n",
       "    <tr>\n",
       "      <th>24</th>\n",
       "      <td>Intesome</td>\n",
       "      <td>International Business Development Executive</td>\n",
       "      <td>[3, -, 4, LPA]</td>\n",
       "      <td>[31, Oct', 21]</td>\n",
       "    </tr>\n",
       "    <tr>\n",
       "      <th>25</th>\n",
       "      <td>Tatva Health</td>\n",
       "      <td>Content Writer</td>\n",
       "      <td>[3, -, 3.5, LPA]</td>\n",
       "      <td>[31, Oct', 21]</td>\n",
       "    </tr>\n",
       "    <tr>\n",
       "      <th>26</th>\n",
       "      <td>Wono Inc</td>\n",
       "      <td>Credit Coordinator</td>\n",
       "      <td>[5, -, 5.7, LPA]</td>\n",
       "      <td>[31, Oct', 21]</td>\n",
       "    </tr>\n",
       "    <tr>\n",
       "      <th>27</th>\n",
       "      <td>Wono Inc</td>\n",
       "      <td>JUNIOR QUALITY ANALYST</td>\n",
       "      <td>[5.1, -, 6, LPA]</td>\n",
       "      <td>[31, Oct', 21]</td>\n",
       "    </tr>\n",
       "    <tr>\n",
       "      <th>28</th>\n",
       "      <td>Wono Inc</td>\n",
       "      <td>Junior Website Developer</td>\n",
       "      <td>[5.1, -, 6.1, LPA]</td>\n",
       "      <td>[31, Oct', 21]</td>\n",
       "    </tr>\n",
       "    <tr>\n",
       "      <th>29</th>\n",
       "      <td>Tekolutions</td>\n",
       "      <td>Ruby On Rails Developer</td>\n",
       "      <td>[3, -, 3.5, LPA]</td>\n",
       "      <td>[31, Oct', 21]</td>\n",
       "    </tr>\n",
       "    <tr>\n",
       "      <th>30</th>\n",
       "      <td>Daphnis Labs Technologies Private Limited</td>\n",
       "      <td>Business Development Executive</td>\n",
       "      <td>[3.2, -, 7, LPA]</td>\n",
       "      <td>[31, Oct', 21]</td>\n",
       "    </tr>\n",
       "    <tr>\n",
       "      <th>31</th>\n",
       "      <td>Nowi Idea Private Limited</td>\n",
       "      <td>Excel Developer</td>\n",
       "      <td>[3, -, 4.5, LPA]</td>\n",
       "      <td>[31, Oct', 21]</td>\n",
       "    </tr>\n",
       "    <tr>\n",
       "      <th>32</th>\n",
       "      <td>Shopocus</td>\n",
       "      <td>Senior WordPress Developer</td>\n",
       "      <td>[3, -, 4, LPA]</td>\n",
       "      <td>[31, Oct', 21]</td>\n",
       "    </tr>\n",
       "    <tr>\n",
       "      <th>33</th>\n",
       "      <td>FinDestination</td>\n",
       "      <td>Credit Analyst</td>\n",
       "      <td>[3, LPA]</td>\n",
       "      <td>[31, Oct', 21]</td>\n",
       "    </tr>\n",
       "    <tr>\n",
       "      <th>34</th>\n",
       "      <td>KYC2020 LLC</td>\n",
       "      <td>Junior Software Engineer - Business Analysis ...</td>\n",
       "      <td>[3, -, 4, LPA]</td>\n",
       "      <td>[31, Oct', 21]</td>\n",
       "    </tr>\n",
       "    <tr>\n",
       "      <th>35</th>\n",
       "      <td>KYC2020 LLC</td>\n",
       "      <td>Junior Software Engineer - Java</td>\n",
       "      <td>[3, -, 4.5, LPA]</td>\n",
       "      <td>[31, Oct', 21]</td>\n",
       "    </tr>\n",
       "    <tr>\n",
       "      <th>36</th>\n",
       "      <td>APAC Financial Services Private Limited</td>\n",
       "      <td>Assistant Manager - Risk</td>\n",
       "      <td>[7, -, 9, LPA]</td>\n",
       "      <td>[31, Oct', 21]</td>\n",
       "    </tr>\n",
       "    <tr>\n",
       "      <th>37</th>\n",
       "      <td>Webtechage Private Limited</td>\n",
       "      <td>Corporate Sales Executive</td>\n",
       "      <td>[3, -, 5, LPA]</td>\n",
       "      <td>[31, Oct', 21]</td>\n",
       "    </tr>\n",
       "    <tr>\n",
       "      <th>38</th>\n",
       "      <td>Bilateral Solutions Private Limited</td>\n",
       "      <td>Customer Acquisition Executive</td>\n",
       "      <td>[4, -, 5, LPA]</td>\n",
       "      <td>[31, Oct', 21]</td>\n",
       "    </tr>\n",
       "    <tr>\n",
       "      <th>39</th>\n",
       "      <td>Solidus Capital LLP</td>\n",
       "      <td>Digital Marketing Specialist</td>\n",
       "      <td>[3, -, 3.2, LPA]</td>\n",
       "      <td>[30, Oct', 21]</td>\n",
       "    </tr>\n",
       "  </tbody>\n",
       "</table>\n",
       "</div>"
      ],
      "text/plain": [
       "                                         company_name  \\\n",
       "0                                         NSE Academy   \n",
       "1                                        CEAT Limited   \n",
       "2                          Graygraph Technologies LLC   \n",
       "3                Samvedna Senior Care Private Limited   \n",
       "4                                    High School Moms   \n",
       "5                                               NNIIT   \n",
       "6                                              Revidd   \n",
       "7                                           HelloSivi   \n",
       "8                                           HelloSivi   \n",
       "9                                       Reading Right   \n",
       "10                                          Markytics   \n",
       "11                                    Newgen Payments   \n",
       "12                             The Eat Better Company   \n",
       "13                 Uniqubic Solutions Private Limited   \n",
       "14                      Vibhava Marketing Corporation   \n",
       "15                                      Binary Stream   \n",
       "16                                           Padhhigh   \n",
       "17  Phoenix (Feenix) Medical Education & Research ...   \n",
       "18            Startxlabs Technologies Private Limited   \n",
       "19                                         Bungeetech   \n",
       "20                                          TogetherV   \n",
       "21                                           Intesome   \n",
       "22                                           Intesome   \n",
       "23                                           Intesome   \n",
       "24                                           Intesome   \n",
       "25                                       Tatva Health   \n",
       "26                                           Wono Inc   \n",
       "27                                           Wono Inc   \n",
       "28                                           Wono Inc   \n",
       "29                                        Tekolutions   \n",
       "30          Daphnis Labs Technologies Private Limited   \n",
       "31                          Nowi Idea Private Limited   \n",
       "32                                           Shopocus   \n",
       "33                                     FinDestination   \n",
       "34                                        KYC2020 LLC   \n",
       "35                                        KYC2020 LLC   \n",
       "36            APAC Financial Services Private Limited   \n",
       "37                         Webtechage Private Limited   \n",
       "38                Bilateral Solutions Private Limited   \n",
       "39                                Solidus Capital LLP   \n",
       "\n",
       "                                            Job Title                 CTC  \\\n",
       "0                     Business Development Executive             [3, LPA]   \n",
       "1                         Management Trainee - Sales             [5, LPA]   \n",
       "2    Business Development Manager (Digital Marketi...  [4.2, -, 4.8, LPA]   \n",
       "3                          Corporate Sales Executive    [3.25, -, 4, LPA]   \n",
       "4                              Junior Content Writer     [3, -, 3.2, LPA]   \n",
       "5             Business Development Associate/Manager    [3.02, -, 8, LPA]   \n",
       "6                                  Software Engineer       [3, -, 5, LPA]   \n",
       "7                           Associate Data Scientist     [4.8, -, 6, LPA]   \n",
       "8                               JavaScript Developer     [4.8, -, 6, LPA]   \n",
       "9                             Associate Video Editor       [3, -, 5, LPA]   \n",
       "10                     Data Science Python Developer       [3, -, 6, LPA]   \n",
       "11                                   DevOps Engineer   [3.5, -, 4.5, LPA]   \n",
       "12                       Customer Service Specialist     [3, -, 3.5, LPA]   \n",
       "13                         Junior Software Developer     [3, -, 3.6, LPA]   \n",
       "14                                     Sales Officer    [3, -, 3.01, LPA]   \n",
       "15                                Software Developer     [3, -, 3.5, LPA]   \n",
       "16           Assistant Growth Manager - Inside Sales       [5, -, 7, LPA]   \n",
       "17                      Office Executive (Marketing)           [3.5, LPA]   \n",
       "18                     Android Application Developer     [3, -, 3.1, LPA]   \n",
       "19                         Junior Software Developer   [5.5, -, 8.5, LPA]   \n",
       "20                    Business Development Associate       [3, -, 4, LPA]   \n",
       "21                     International Sales Executive       [3, -, 4, LPA]   \n",
       "22                   B2B Sales & Marketing Executive       [3, -, 4, LPA]   \n",
       "23                Online Sales & Marketing Executive       [3, -, 4, LPA]   \n",
       "24      International Business Development Executive       [3, -, 4, LPA]   \n",
       "25                                    Content Writer     [3, -, 3.5, LPA]   \n",
       "26                                Credit Coordinator     [5, -, 5.7, LPA]   \n",
       "27                            JUNIOR QUALITY ANALYST     [5.1, -, 6, LPA]   \n",
       "28                          Junior Website Developer   [5.1, -, 6.1, LPA]   \n",
       "29                           Ruby On Rails Developer     [3, -, 3.5, LPA]   \n",
       "30                    Business Development Executive     [3.2, -, 7, LPA]   \n",
       "31                                   Excel Developer     [3, -, 4.5, LPA]   \n",
       "32                        Senior WordPress Developer       [3, -, 4, LPA]   \n",
       "33                                    Credit Analyst             [3, LPA]   \n",
       "34   Junior Software Engineer - Business Analysis ...      [3, -, 4, LPA]   \n",
       "35                   Junior Software Engineer - Java     [3, -, 4.5, LPA]   \n",
       "36                          Assistant Manager - Risk       [7, -, 9, LPA]   \n",
       "37                         Corporate Sales Executive       [3, -, 5, LPA]   \n",
       "38                    Customer Acquisition Executive       [4, -, 5, LPA]   \n",
       "39                      Digital Marketing Specialist     [3, -, 3.2, LPA]   \n",
       "\n",
       "        Apply Date  \n",
       "0   [31, Oct', 21]  \n",
       "1   [29, Oct', 21]  \n",
       "2    [1, Nov', 21]  \n",
       "3    [1, Nov', 21]  \n",
       "4    [1, Nov', 21]  \n",
       "5    [1, Nov', 21]  \n",
       "6    [1, Nov', 21]  \n",
       "7    [1, Nov', 21]  \n",
       "8    [1, Nov', 21]  \n",
       "9    [1, Nov', 21]  \n",
       "10   [1, Nov', 21]  \n",
       "11  [31, Oct', 21]  \n",
       "12  [31, Oct', 21]  \n",
       "13  [31, Oct', 21]  \n",
       "14  [31, Oct', 21]  \n",
       "15  [31, Oct', 21]  \n",
       "16  [31, Oct', 21]  \n",
       "17  [31, Oct', 21]  \n",
       "18  [31, Oct', 21]  \n",
       "19  [31, Oct', 21]  \n",
       "20  [31, Oct', 21]  \n",
       "21  [31, Oct', 21]  \n",
       "22  [31, Oct', 21]  \n",
       "23  [31, Oct', 21]  \n",
       "24  [31, Oct', 21]  \n",
       "25  [31, Oct', 21]  \n",
       "26  [31, Oct', 21]  \n",
       "27  [31, Oct', 21]  \n",
       "28  [31, Oct', 21]  \n",
       "29  [31, Oct', 21]  \n",
       "30  [31, Oct', 21]  \n",
       "31  [31, Oct', 21]  \n",
       "32  [31, Oct', 21]  \n",
       "33  [31, Oct', 21]  \n",
       "34  [31, Oct', 21]  \n",
       "35  [31, Oct', 21]  \n",
       "36  [31, Oct', 21]  \n",
       "37  [31, Oct', 21]  \n",
       "38  [31, Oct', 21]  \n",
       "39  [30, Oct', 21]  "
      ]
     },
     "execution_count": 133,
     "metadata": {},
     "output_type": "execute_result"
    }
   ],
   "source": [
    "job_details = pd.DataFrame({})\n",
    "job_details['company_name'] = company_name\n",
    "job_details['Job Title'] = job_title\n",
    "job_details['CTC'] = final_ctc\n",
    "job_details['Apply Date'] = final_apply_date\n",
    "\n",
    "job_details"
   ]
  },
  {
   "cell_type": "markdown",
   "metadata": {},
   "source": [
    "# Write a python program to scrape details of all the mobile phones under Rs. 20,000 listed on Amazon.in. The scraped data should include Product Name, Price, Image URL and Average Rating."
   ]
  },
  {
   "cell_type": "code",
   "execution_count": 134,
   "metadata": {},
   "outputs": [
    {
     "data": {
      "text/plain": [
       "<Response [503]>"
      ]
     },
     "execution_count": 134,
     "metadata": {},
     "output_type": "execute_result"
    }
   ],
   "source": [
    "page  = requests.get('https://www.amazon.in/s?k=mobiles+under+30000&rh=p_36%3A-3000000&qid=1633157245&rnid=1318502031&ref=sr_nr_p_36_5')\n",
    "page"
   ]
  },
  {
   "cell_type": "markdown",
   "metadata": {},
   "source": [
    "# Write a python program to scrape cricket rankings from ‘www.icc-cricket.com’. You have to scrape:\n",
    "    \n",
    "i) Top 10 ODI teams in women’s cricket along with the records for matches, points and rating.\n",
    "\n",
    "ii) Top 10 women’s ODI players along with the records of their team and rating.\n",
    "\n",
    "iii) Top 10 women’s ODI all-rounder along with the records of their team and rating."
   ]
  },
  {
   "cell_type": "code",
   "execution_count": 135,
   "metadata": {},
   "outputs": [
    {
     "data": {
      "text/plain": [
       "<Response [200]>"
      ]
     },
     "execution_count": 135,
     "metadata": {},
     "output_type": "execute_result"
    }
   ],
   "source": [
    "page = requests.get('https://www.icc-cricket.com/rankings/womens/team-rankings/odi')\n",
    "page"
   ]
  },
  {
   "cell_type": "code",
   "execution_count": 136,
   "metadata": {},
   "outputs": [],
   "source": [
    "new_page = BeautifulSoup(page.content)"
   ]
  },
  {
   "cell_type": "code",
   "execution_count": 137,
   "metadata": {},
   "outputs": [],
   "source": [
    "titles = new_page.find_all('span',class_='u-hide-phablet')"
   ]
  },
  {
   "cell_type": "code",
   "execution_count": 138,
   "metadata": {},
   "outputs": [],
   "source": [
    "teams = []\n",
    "for i in titles:\n",
    "    teams.append(i.text)"
   ]
  },
  {
   "cell_type": "code",
   "execution_count": 139,
   "metadata": {},
   "outputs": [],
   "source": [
    "del teams[10:15]"
   ]
  },
  {
   "cell_type": "code",
   "execution_count": 140,
   "metadata": {},
   "outputs": [
    {
     "data": {
      "text/plain": [
       "['Australia',\n",
       " 'England',\n",
       " 'South Africa',\n",
       " 'India',\n",
       " 'New Zealand',\n",
       " 'West Indies',\n",
       " 'Pakistan',\n",
       " 'Bangladesh',\n",
       " 'Sri Lanka',\n",
       " 'Ireland']"
      ]
     },
     "execution_count": 140,
     "metadata": {},
     "output_type": "execute_result"
    }
   ],
   "source": [
    "teams"
   ]
  },
  {
   "cell_type": "code",
   "execution_count": 141,
   "metadata": {},
   "outputs": [
    {
     "data": {
      "text/plain": [
       "'21'"
      ]
     },
     "execution_count": 141,
     "metadata": {},
     "output_type": "execute_result"
    }
   ],
   "source": [
    "title2 =  new_page.find('td',class_='rankings-block__banner--matches').text\n",
    "title2"
   ]
  },
  {
   "cell_type": "code",
   "execution_count": 142,
   "metadata": {},
   "outputs": [
    {
     "data": {
      "text/plain": [
       "'3,379'"
      ]
     },
     "execution_count": 142,
     "metadata": {},
     "output_type": "execute_result"
    }
   ],
   "source": [
    "title3 = new_page.find(class_='rankings-block__banner--points').text\n",
    "title3"
   ]
  },
  {
   "cell_type": "code",
   "execution_count": 143,
   "metadata": {},
   "outputs": [],
   "source": [
    "title4 = new_page.find(class_=\"rankings-block__banner--rating u-text-right\").text.replace(\"\\n\",\"\")"
   ]
  },
  {
   "cell_type": "code",
   "execution_count": 144,
   "metadata": {},
   "outputs": [
    {
     "data": {
      "text/plain": [
       "'                            161                            '"
      ]
     },
     "execution_count": 144,
     "metadata": {},
     "output_type": "execute_result"
    }
   ],
   "source": [
    "title4"
   ]
  },
  {
   "cell_type": "code",
   "execution_count": 145,
   "metadata": {},
   "outputs": [],
   "source": [
    "title5 = new_page.find_all(class_=\"table-body__cell u-center-text\")"
   ]
  },
  {
   "cell_type": "code",
   "execution_count": 146,
   "metadata": {},
   "outputs": [
    {
     "data": {
      "text/plain": [
       "['25',\n",
       " '2,983',\n",
       " '29',\n",
       " '3,390',\n",
       " '26',\n",
       " '2,934',\n",
       " '26',\n",
       " '2,392',\n",
       " '22',\n",
       " '1,872',\n",
       " '20',\n",
       " '1,496',\n",
       " '5',\n",
       " '306',\n",
       " '11',\n",
       " '519',\n",
       " '2',\n",
       " '25']"
      ]
     },
     "execution_count": 146,
     "metadata": {},
     "output_type": "execute_result"
    }
   ],
   "source": [
    "matches = []\n",
    "for i in title5:\n",
    "    matches.append(i.text)\n",
    "\n",
    "matches"
   ]
  },
  {
   "cell_type": "code",
   "execution_count": 147,
   "metadata": {},
   "outputs": [
    {
     "data": {
      "text/plain": [
       "['25', '29', '26', '26', '22', '20', '5', '11', '2']"
      ]
     },
     "execution_count": 147,
     "metadata": {},
     "output_type": "execute_result"
    }
   ],
   "source": [
    "matches_played = matches[0:18:2]\n",
    "matches_played"
   ]
  },
  {
   "cell_type": "code",
   "execution_count": 148,
   "metadata": {},
   "outputs": [
    {
     "data": {
      "text/plain": [
       "['2,983', '3,390', '2,934', '2,392', '1,872', '1,496', '306', '519', '25']"
      ]
     },
     "execution_count": 148,
     "metadata": {},
     "output_type": "execute_result"
    }
   ],
   "source": [
    "points = matches[1:18:2]\n",
    "points"
   ]
  },
  {
   "cell_type": "code",
   "execution_count": 149,
   "metadata": {},
   "outputs": [
    {
     "name": "stdout",
     "output_type": "stream",
     "text": [
      "9 9 10\n"
     ]
    }
   ],
   "source": [
    "print(len(matches_played),len(points),len(teams))"
   ]
  },
  {
   "cell_type": "code",
   "execution_count": 150,
   "metadata": {},
   "outputs": [],
   "source": [
    "rate = new_page.find_all(class_=\"table-body__cell u-text-right rating\")"
   ]
  },
  {
   "cell_type": "code",
   "execution_count": 151,
   "metadata": {},
   "outputs": [],
   "source": [
    "rating = []\n",
    "for i in rate:\n",
    "    rating.append(i.text)"
   ]
  },
  {
   "cell_type": "code",
   "execution_count": 152,
   "metadata": {},
   "outputs": [
    {
     "data": {
      "text/plain": [
       "['119', '117', '113', '92', '85', '75', '61', '47', '13']"
      ]
     },
     "execution_count": 152,
     "metadata": {},
     "output_type": "execute_result"
    }
   ],
   "source": [
    "rating"
   ]
  },
  {
   "cell_type": "code",
   "execution_count": 153,
   "metadata": {},
   "outputs": [],
   "source": [
    "matches_played.insert(0,title2)"
   ]
  },
  {
   "cell_type": "code",
   "execution_count": 154,
   "metadata": {},
   "outputs": [],
   "source": [
    "points.insert(0,title3)"
   ]
  },
  {
   "cell_type": "code",
   "execution_count": 155,
   "metadata": {},
   "outputs": [],
   "source": [
    "rating.insert(0,title4)"
   ]
  },
  {
   "cell_type": "code",
   "execution_count": 156,
   "metadata": {},
   "outputs": [
    {
     "name": "stdout",
     "output_type": "stream",
     "text": [
      "10 10 10 10\n"
     ]
    }
   ],
   "source": [
    "print(len(matches_played),len(points),len(teams),len(rating))"
   ]
  },
  {
   "cell_type": "code",
   "execution_count": 157,
   "metadata": {},
   "outputs": [
    {
     "data": {
      "text/html": [
       "<div>\n",
       "<style scoped>\n",
       "    .dataframe tbody tr th:only-of-type {\n",
       "        vertical-align: middle;\n",
       "    }\n",
       "\n",
       "    .dataframe tbody tr th {\n",
       "        vertical-align: top;\n",
       "    }\n",
       "\n",
       "    .dataframe thead th {\n",
       "        text-align: right;\n",
       "    }\n",
       "</style>\n",
       "<table border=\"1\" class=\"dataframe\">\n",
       "  <thead>\n",
       "    <tr style=\"text-align: right;\">\n",
       "      <th></th>\n",
       "      <th>Team Name</th>\n",
       "      <th>Matches Played</th>\n",
       "      <th>Total Points</th>\n",
       "      <th>Rating</th>\n",
       "    </tr>\n",
       "  </thead>\n",
       "  <tbody>\n",
       "    <tr>\n",
       "      <th>0</th>\n",
       "      <td>Australia</td>\n",
       "      <td>21</td>\n",
       "      <td>3,379</td>\n",
       "      <td>161               ...</td>\n",
       "    </tr>\n",
       "    <tr>\n",
       "      <th>1</th>\n",
       "      <td>England</td>\n",
       "      <td>25</td>\n",
       "      <td>2,983</td>\n",
       "      <td>119</td>\n",
       "    </tr>\n",
       "    <tr>\n",
       "      <th>2</th>\n",
       "      <td>South Africa</td>\n",
       "      <td>29</td>\n",
       "      <td>3,390</td>\n",
       "      <td>117</td>\n",
       "    </tr>\n",
       "    <tr>\n",
       "      <th>3</th>\n",
       "      <td>India</td>\n",
       "      <td>26</td>\n",
       "      <td>2,934</td>\n",
       "      <td>113</td>\n",
       "    </tr>\n",
       "    <tr>\n",
       "      <th>4</th>\n",
       "      <td>New Zealand</td>\n",
       "      <td>26</td>\n",
       "      <td>2,392</td>\n",
       "      <td>92</td>\n",
       "    </tr>\n",
       "    <tr>\n",
       "      <th>5</th>\n",
       "      <td>West Indies</td>\n",
       "      <td>22</td>\n",
       "      <td>1,872</td>\n",
       "      <td>85</td>\n",
       "    </tr>\n",
       "    <tr>\n",
       "      <th>6</th>\n",
       "      <td>Pakistan</td>\n",
       "      <td>20</td>\n",
       "      <td>1,496</td>\n",
       "      <td>75</td>\n",
       "    </tr>\n",
       "    <tr>\n",
       "      <th>7</th>\n",
       "      <td>Bangladesh</td>\n",
       "      <td>5</td>\n",
       "      <td>306</td>\n",
       "      <td>61</td>\n",
       "    </tr>\n",
       "    <tr>\n",
       "      <th>8</th>\n",
       "      <td>Sri Lanka</td>\n",
       "      <td>11</td>\n",
       "      <td>519</td>\n",
       "      <td>47</td>\n",
       "    </tr>\n",
       "    <tr>\n",
       "      <th>9</th>\n",
       "      <td>Ireland</td>\n",
       "      <td>2</td>\n",
       "      <td>25</td>\n",
       "      <td>13</td>\n",
       "    </tr>\n",
       "  </tbody>\n",
       "</table>\n",
       "</div>"
      ],
      "text/plain": [
       "      Team Name Matches Played Total Points  \\\n",
       "0     Australia             21        3,379   \n",
       "1       England             25        2,983   \n",
       "2  South Africa             29        3,390   \n",
       "3         India             26        2,934   \n",
       "4   New Zealand             26        2,392   \n",
       "5   West Indies             22        1,872   \n",
       "6      Pakistan             20        1,496   \n",
       "7    Bangladesh              5          306   \n",
       "8     Sri Lanka             11          519   \n",
       "9       Ireland              2           25   \n",
       "\n",
       "                                              Rating  \n",
       "0                              161               ...  \n",
       "1                                                119  \n",
       "2                                                117  \n",
       "3                                                113  \n",
       "4                                                 92  \n",
       "5                                                 85  \n",
       "6                                                 75  \n",
       "7                                                 61  \n",
       "8                                                 47  \n",
       "9                                                 13  "
      ]
     },
     "execution_count": 157,
     "metadata": {},
     "output_type": "execute_result"
    }
   ],
   "source": [
    "womens_odi_rating = pd.DataFrame({})\n",
    "womens_odi_rating['Team Name'] = teams\n",
    "womens_odi_rating['Matches Played'] = matches_played\n",
    "womens_odi_rating['Total Points'] = points\n",
    "womens_odi_rating['Rating'] = rating\n",
    "\n",
    "womens_odi_rating"
   ]
  },
  {
   "cell_type": "markdown",
   "metadata": {},
   "source": [
    "ii) Top 10 women’s ODI players along with the records of their team and rating."
   ]
  },
  {
   "cell_type": "code",
   "execution_count": 158,
   "metadata": {},
   "outputs": [
    {
     "data": {
      "text/plain": [
       "<Response [200]>"
      ]
     },
     "execution_count": 158,
     "metadata": {},
     "output_type": "execute_result"
    }
   ],
   "source": [
    "page = requests.get('https://www.icc-cricket.com/rankings/womens/player-rankings/odi/batting')\n",
    "page"
   ]
  },
  {
   "cell_type": "code",
   "execution_count": 159,
   "metadata": {},
   "outputs": [],
   "source": [
    "target = BeautifulSoup(page.content)"
   ]
  },
  {
   "cell_type": "code",
   "execution_count": 160,
   "metadata": {},
   "outputs": [
    {
     "data": {
      "text/plain": [
       "'Lizelle Lee'"
      ]
     },
     "execution_count": 160,
     "metadata": {},
     "output_type": "execute_result"
    }
   ],
   "source": [
    "title1_name = target.find(class_=\"rankings-block__banner--name-large\").text\n",
    "title1_name"
   ]
  },
  {
   "cell_type": "code",
   "execution_count": 161,
   "metadata": {},
   "outputs": [
    {
     "data": {
      "text/plain": [
       "'SA'"
      ]
     },
     "execution_count": 161,
     "metadata": {},
     "output_type": "execute_result"
    }
   ],
   "source": [
    "title2_count = target.find(class_=\"rankings-block__banner--nationality\").text.strip()\n",
    "title2_count"
   ]
  },
  {
   "cell_type": "code",
   "execution_count": 162,
   "metadata": {},
   "outputs": [
    {
     "data": {
      "text/plain": [
       "'761'"
      ]
     },
     "execution_count": 162,
     "metadata": {},
     "output_type": "execute_result"
    }
   ],
   "source": [
    "title3_rank = target.find(class_=\"rankings-block__banner--rating\").text\n",
    "title3_rank"
   ]
  },
  {
   "cell_type": "code",
   "execution_count": 163,
   "metadata": {},
   "outputs": [
    {
     "data": {
      "text/plain": [
       "'1'"
      ]
     },
     "execution_count": 163,
     "metadata": {},
     "output_type": "execute_result"
    }
   ],
   "source": [
    "pos = target.find('td',class_ = \"rankings-block__position\").text\n",
    "pos"
   ]
  },
  {
   "cell_type": "code",
   "execution_count": 164,
   "metadata": {},
   "outputs": [],
   "source": [
    "position = target.find_all('td',class_ = \"table-body__cell table-body__cell--position u-text-right\")"
   ]
  },
  {
   "cell_type": "code",
   "execution_count": 165,
   "metadata": {},
   "outputs": [],
   "source": [
    "position_new = []\n",
    "for i in position:\n",
    "    position_new.append(i.text.strip().replace('\\n',\" \"))"
   ]
  },
  {
   "cell_type": "code",
   "execution_count": 166,
   "metadata": {},
   "outputs": [],
   "source": [
    "player_position = position_new[0:10]"
   ]
  },
  {
   "cell_type": "code",
   "execution_count": 167,
   "metadata": {},
   "outputs": [],
   "source": [
    "name = target.find_all(class_=\"table-body__cell rankings-table__name name\")"
   ]
  },
  {
   "cell_type": "code",
   "execution_count": 168,
   "metadata": {},
   "outputs": [],
   "source": [
    "all_names = []\n",
    "for i in name:\n",
    "    all_names.append(i.text.strip())"
   ]
  },
  {
   "cell_type": "code",
   "execution_count": 169,
   "metadata": {},
   "outputs": [
    {
     "name": "stdout",
     "output_type": "stream",
     "text": [
      "['Alyssa Healy', 'Mithali Raj', 'Tammy Beaumont', 'Amy Satterthwaite', 'Smriti Mandhana', 'Meg Lanning', 'Beth Mooney', 'Heather Knight', 'Laura Wolvaardt', 'Rachael Haynes']\n",
      "10\n"
     ]
    }
   ],
   "source": [
    "player_names = all_names[0:10]\n",
    "print(player_names)\n",
    "print(len(player_names))"
   ]
  },
  {
   "cell_type": "code",
   "execution_count": 170,
   "metadata": {},
   "outputs": [],
   "source": [
    "count = target.find_all(class_ = 'table-body__logo-text')"
   ]
  },
  {
   "cell_type": "code",
   "execution_count": 171,
   "metadata": {},
   "outputs": [],
   "source": [
    "countary = []\n",
    "for i in count:\n",
    "    countary.append(i.text)"
   ]
  },
  {
   "cell_type": "code",
   "execution_count": 172,
   "metadata": {},
   "outputs": [
    {
     "name": "stdout",
     "output_type": "stream",
     "text": [
      "10\n",
      "['AUS', 'IND', 'ENG', 'NZ', 'IND', 'AUS', 'AUS', 'ENG', 'SA', 'AUS']\n"
     ]
    }
   ],
   "source": [
    "countary_name = countary[0:10]\n",
    "print(len(countary_name))\n",
    "print(countary_name)"
   ]
  },
  {
   "cell_type": "code",
   "execution_count": 173,
   "metadata": {},
   "outputs": [],
   "source": [
    "rate = target.find_all(class_='table-body__cell rating')\n",
    "rating = []\n",
    "for i in rate:\n",
    "    rating.append(i.text)"
   ]
  },
  {
   "cell_type": "code",
   "execution_count": 174,
   "metadata": {},
   "outputs": [],
   "source": [
    "player_position.insert(0,pos)\n",
    "player_names.insert(0,title1_name)\n",
    "countary_name.insert(0,title2_count)\n",
    "ratings.insert(0,title3_rank)"
   ]
  },
  {
   "cell_type": "code",
   "execution_count": 175,
   "metadata": {},
   "outputs": [
    {
     "name": "stdout",
     "output_type": "stream",
     "text": [
      "11 11 11 11\n"
     ]
    }
   ],
   "source": [
    "print(len(player_position),len(player_names),len(countary_name),len(ratings))"
   ]
  },
  {
   "cell_type": "code",
   "execution_count": 176,
   "metadata": {},
   "outputs": [
    {
     "data": {
      "text/html": [
       "<div>\n",
       "<style scoped>\n",
       "    .dataframe tbody tr th:only-of-type {\n",
       "        vertical-align: middle;\n",
       "    }\n",
       "\n",
       "    .dataframe tbody tr th {\n",
       "        vertical-align: top;\n",
       "    }\n",
       "\n",
       "    .dataframe thead th {\n",
       "        text-align: right;\n",
       "    }\n",
       "</style>\n",
       "<table border=\"1\" class=\"dataframe\">\n",
       "  <thead>\n",
       "    <tr style=\"text-align: right;\">\n",
       "      <th></th>\n",
       "      <th>Position</th>\n",
       "      <th>Name of the player</th>\n",
       "      <th>Countary Name</th>\n",
       "      <th>Ratings of the player</th>\n",
       "    </tr>\n",
       "  </thead>\n",
       "  <tbody>\n",
       "    <tr>\n",
       "      <th>0</th>\n",
       "      <td>1</td>\n",
       "      <td>Lizelle Lee</td>\n",
       "      <td>SA</td>\n",
       "      <td>761</td>\n",
       "    </tr>\n",
       "    <tr>\n",
       "      <th>1</th>\n",
       "      <td>2</td>\n",
       "      <td>Alyssa Healy</td>\n",
       "      <td>AUS</td>\n",
       "      <td>737</td>\n",
       "    </tr>\n",
       "    <tr>\n",
       "      <th>2</th>\n",
       "      <td>3</td>\n",
       "      <td>Mithali Raj</td>\n",
       "      <td>IND</td>\n",
       "      <td>709</td>\n",
       "    </tr>\n",
       "    <tr>\n",
       "      <th>3</th>\n",
       "      <td>4             This player has moved up in the ...</td>\n",
       "      <td>Tammy Beaumont</td>\n",
       "      <td>ENG</td>\n",
       "      <td>708</td>\n",
       "    </tr>\n",
       "    <tr>\n",
       "      <th>4</th>\n",
       "      <td>5             This player has moved down in th...</td>\n",
       "      <td>Amy Satterthwaite</td>\n",
       "      <td>NZ</td>\n",
       "      <td>700</td>\n",
       "    </tr>\n",
       "    <tr>\n",
       "      <th>5</th>\n",
       "      <td>6             This player has moved down in th...</td>\n",
       "      <td>Smriti Mandhana</td>\n",
       "      <td>IND</td>\n",
       "      <td>692</td>\n",
       "    </tr>\n",
       "    <tr>\n",
       "      <th>6</th>\n",
       "      <td>7             This player has moved down in th...</td>\n",
       "      <td>Meg Lanning</td>\n",
       "      <td>AUS</td>\n",
       "      <td>691</td>\n",
       "    </tr>\n",
       "    <tr>\n",
       "      <th>7</th>\n",
       "      <td>8             This player has moved up in the ...</td>\n",
       "      <td>Beth Mooney</td>\n",
       "      <td>AUS</td>\n",
       "      <td>679</td>\n",
       "    </tr>\n",
       "    <tr>\n",
       "      <th>8</th>\n",
       "      <td>9             This player has moved down in th...</td>\n",
       "      <td>Heather Knight</td>\n",
       "      <td>ENG</td>\n",
       "      <td>652</td>\n",
       "    </tr>\n",
       "    <tr>\n",
       "      <th>9</th>\n",
       "      <td>10             This player has moved up in the...</td>\n",
       "      <td>Laura Wolvaardt</td>\n",
       "      <td>SA</td>\n",
       "      <td>650</td>\n",
       "    </tr>\n",
       "    <tr>\n",
       "      <th>10</th>\n",
       "      <td>11             This player has moved down in t...</td>\n",
       "      <td>Rachael Haynes</td>\n",
       "      <td>AUS</td>\n",
       "      <td>646</td>\n",
       "    </tr>\n",
       "  </tbody>\n",
       "</table>\n",
       "</div>"
      ],
      "text/plain": [
       "                                             Position Name of the player  \\\n",
       "0                                                   1        Lizelle Lee   \n",
       "1                                                   2       Alyssa Healy   \n",
       "2                                                   3        Mithali Raj   \n",
       "3   4             This player has moved up in the ...     Tammy Beaumont   \n",
       "4   5             This player has moved down in th...  Amy Satterthwaite   \n",
       "5   6             This player has moved down in th...    Smriti Mandhana   \n",
       "6   7             This player has moved down in th...        Meg Lanning   \n",
       "7   8             This player has moved up in the ...        Beth Mooney   \n",
       "8   9             This player has moved down in th...     Heather Knight   \n",
       "9   10             This player has moved up in the...    Laura Wolvaardt   \n",
       "10  11             This player has moved down in t...     Rachael Haynes   \n",
       "\n",
       "   Countary Name Ratings of the player  \n",
       "0             SA                   761  \n",
       "1            AUS                   737  \n",
       "2            IND                   709  \n",
       "3            ENG                   708  \n",
       "4             NZ                   700  \n",
       "5            IND                   692  \n",
       "6            AUS                   691  \n",
       "7            AUS                   679  \n",
       "8            ENG                   652  \n",
       "9             SA                   650  \n",
       "10           AUS                   646  "
      ]
     },
     "execution_count": 176,
     "metadata": {},
     "output_type": "execute_result"
    }
   ],
   "source": [
    "women_team = pd.DataFrame({})\n",
    "\n",
    "women_team['Position'] = player_position\n",
    "women_team['Name of the player'] = player_names\n",
    "women_team['Countary Name'] = countary_name\n",
    "women_team['Ratings of the player'] = ratings\n",
    "\n",
    "women_team"
   ]
  },
  {
   "cell_type": "markdown",
   "metadata": {},
   "source": [
    "3. Top 10 women’s ODI all-rounder along with the records of their team and rating. "
   ]
  },
  {
   "cell_type": "code",
   "execution_count": 177,
   "metadata": {},
   "outputs": [
    {
     "data": {
      "text/plain": [
       "<Response [200]>"
      ]
     },
     "execution_count": 177,
     "metadata": {},
     "output_type": "execute_result"
    }
   ],
   "source": [
    "page = requests.get('https://www.icc-cricket.com/rankings/womens/player-rankings/odi/all-rounder')\n",
    "page"
   ]
  },
  {
   "cell_type": "code",
   "execution_count": 178,
   "metadata": {},
   "outputs": [],
   "source": [
    "allrounder = BeautifulSoup(page.content)"
   ]
  },
  {
   "cell_type": "code",
   "execution_count": 179,
   "metadata": {},
   "outputs": [
    {
     "data": {
      "text/plain": [
       "'1'"
      ]
     },
     "execution_count": 179,
     "metadata": {},
     "output_type": "execute_result"
    }
   ],
   "source": [
    "pos1 = allrounder.find(class_= 'rankings-block__position').text\n",
    "pos1"
   ]
  },
  {
   "cell_type": "code",
   "execution_count": 180,
   "metadata": {},
   "outputs": [
    {
     "data": {
      "text/plain": [
       "'Marizanne Kapp'"
      ]
     },
     "execution_count": 180,
     "metadata": {},
     "output_type": "execute_result"
    }
   ],
   "source": [
    "player1 = allrounder.find(class_= 'rankings-block__banner--name-large').text\n",
    "player1"
   ]
  },
  {
   "cell_type": "code",
   "execution_count": 181,
   "metadata": {},
   "outputs": [
    {
     "data": {
      "text/plain": [
       "'SA                    '"
      ]
     },
     "execution_count": 181,
     "metadata": {},
     "output_type": "execute_result"
    }
   ],
   "source": [
    "team1 = allrounder.find(class_='rankings-block__banner--nationality').text.replace('\\n','')\n",
    "team1"
   ]
  },
  {
   "cell_type": "code",
   "execution_count": 182,
   "metadata": {},
   "outputs": [
    {
     "data": {
      "text/plain": [
       "'384'"
      ]
     },
     "execution_count": 182,
     "metadata": {},
     "output_type": "execute_result"
    }
   ],
   "source": [
    "rating1 = allrounder.find(class_='rankings-block__banner--rating').text\n",
    "rating1"
   ]
  },
  {
   "cell_type": "code",
   "execution_count": 183,
   "metadata": {},
   "outputs": [],
   "source": [
    "pos2 = allrounder.find_all('td', class_= 'table-body__cell table-body__cell--position u-text-right')\n",
    "pos3 = []\n",
    "for i in pos2:\n",
    "    pos3.append(i.text.strip().replace('\\n',\"\"))"
   ]
  },
  {
   "cell_type": "code",
   "execution_count": 184,
   "metadata": {},
   "outputs": [],
   "source": [
    "player2 = allrounder.find_all(class_='table-body__cell rankings-table__name name')"
   ]
  },
  {
   "cell_type": "code",
   "execution_count": 185,
   "metadata": {},
   "outputs": [],
   "source": [
    "player3 = []\n",
    "for i in player2:\n",
    "    player3.append(i.text.strip())"
   ]
  },
  {
   "cell_type": "code",
   "execution_count": 186,
   "metadata": {},
   "outputs": [],
   "source": [
    "team2 = allrounder.find_all(class_='table-body__logo-text')\n",
    "team3=[]\n",
    "for i in team2:\n",
    "    team3.append(i.text.strip())"
   ]
  },
  {
   "cell_type": "code",
   "execution_count": 187,
   "metadata": {},
   "outputs": [],
   "source": [
    "rate2 = allrounder.find_all(class_='table-body__cell rating')\n",
    "rate3 = []\n",
    "for i in rate2:\n",
    "    rate3.append(i.text)"
   ]
  },
  {
   "cell_type": "code",
   "execution_count": 188,
   "metadata": {},
   "outputs": [],
   "source": [
    "pos3.insert(0,pos1)\n",
    "player3.insert(0,player1)\n",
    "team3.insert(0,team1)\n",
    "rate3.insert(0,rating1)"
   ]
  },
  {
   "cell_type": "code",
   "execution_count": 189,
   "metadata": {},
   "outputs": [
    {
     "name": "stdout",
     "output_type": "stream",
     "text": [
      "20 20 20 20\n"
     ]
    }
   ],
   "source": [
    "print(len(pos3),len(player3),len(team3),len(rate3))"
   ]
  },
  {
   "cell_type": "code",
   "execution_count": 190,
   "metadata": {},
   "outputs": [
    {
     "data": {
      "text/html": [
       "<div>\n",
       "<style scoped>\n",
       "    .dataframe tbody tr th:only-of-type {\n",
       "        vertical-align: middle;\n",
       "    }\n",
       "\n",
       "    .dataframe tbody tr th {\n",
       "        vertical-align: top;\n",
       "    }\n",
       "\n",
       "    .dataframe thead th {\n",
       "        text-align: right;\n",
       "    }\n",
       "</style>\n",
       "<table border=\"1\" class=\"dataframe\">\n",
       "  <thead>\n",
       "    <tr style=\"text-align: right;\">\n",
       "      <th></th>\n",
       "      <th>Position</th>\n",
       "      <th>Player</th>\n",
       "      <th>Rating</th>\n",
       "      <th>Countary</th>\n",
       "    </tr>\n",
       "  </thead>\n",
       "  <tbody>\n",
       "    <tr>\n",
       "      <th>0</th>\n",
       "      <td>1</td>\n",
       "      <td>Marizanne Kapp</td>\n",
       "      <td>384</td>\n",
       "      <td>SA</td>\n",
       "    </tr>\n",
       "    <tr>\n",
       "      <th>1</th>\n",
       "      <td>2        This player has moved up in the ranki...</td>\n",
       "      <td>Natalie Sciver</td>\n",
       "      <td>372</td>\n",
       "      <td>ENG</td>\n",
       "    </tr>\n",
       "    <tr>\n",
       "      <th>2</th>\n",
       "      <td>3        This player has moved down in the ran...</td>\n",
       "      <td>Ellyse Perry</td>\n",
       "      <td>365</td>\n",
       "      <td>AUS</td>\n",
       "    </tr>\n",
       "    <tr>\n",
       "      <th>3</th>\n",
       "      <td>4</td>\n",
       "      <td>Stafanie Taylor</td>\n",
       "      <td>322</td>\n",
       "      <td>WI</td>\n",
       "    </tr>\n",
       "    <tr>\n",
       "      <th>4</th>\n",
       "      <td>5</td>\n",
       "      <td>Deepti Sharma</td>\n",
       "      <td>299</td>\n",
       "      <td>IND</td>\n",
       "    </tr>\n",
       "    <tr>\n",
       "      <th>5</th>\n",
       "      <td>6        This player has moved up in the ranki...</td>\n",
       "      <td>Ashleigh Gardner</td>\n",
       "      <td>275</td>\n",
       "      <td>AUS</td>\n",
       "    </tr>\n",
       "    <tr>\n",
       "      <th>6</th>\n",
       "      <td>7        This player has moved up in the ranki...</td>\n",
       "      <td>Dane van Niekerk</td>\n",
       "      <td>274</td>\n",
       "      <td>SA</td>\n",
       "    </tr>\n",
       "    <tr>\n",
       "      <th>7</th>\n",
       "      <td>8        This player has moved down in the ran...</td>\n",
       "      <td>Jess Jonassen</td>\n",
       "      <td>272</td>\n",
       "      <td>AUS</td>\n",
       "    </tr>\n",
       "    <tr>\n",
       "      <th>8</th>\n",
       "      <td>This player has moved down in the rankings sin...</td>\n",
       "      <td>Katherine Brunt</td>\n",
       "      <td>272</td>\n",
       "      <td>ENG</td>\n",
       "    </tr>\n",
       "    <tr>\n",
       "      <th>9</th>\n",
       "      <td>10        This player has moved up in the rank...</td>\n",
       "      <td>Jhulan Goswami</td>\n",
       "      <td>251</td>\n",
       "      <td>IND</td>\n",
       "    </tr>\n",
       "    <tr>\n",
       "      <th>10</th>\n",
       "      <td>11        This player has moved down in the ra...</td>\n",
       "      <td>Sophie Devine</td>\n",
       "      <td>248</td>\n",
       "      <td>NZ</td>\n",
       "    </tr>\n",
       "    <tr>\n",
       "      <th>11</th>\n",
       "      <td>12</td>\n",
       "      <td>Hayley Matthews</td>\n",
       "      <td>220</td>\n",
       "      <td>WI</td>\n",
       "    </tr>\n",
       "    <tr>\n",
       "      <th>12</th>\n",
       "      <td>13        This player has moved up in the rank...</td>\n",
       "      <td>Heather Knight</td>\n",
       "      <td>195</td>\n",
       "      <td>ENG</td>\n",
       "    </tr>\n",
       "    <tr>\n",
       "      <th>13</th>\n",
       "      <td>14        This player has moved down in the ra...</td>\n",
       "      <td>Amelia Kerr</td>\n",
       "      <td>193</td>\n",
       "      <td>NZ</td>\n",
       "    </tr>\n",
       "    <tr>\n",
       "      <th>14</th>\n",
       "      <td>15</td>\n",
       "      <td>Nida Dar</td>\n",
       "      <td>176</td>\n",
       "      <td>PAK</td>\n",
       "    </tr>\n",
       "    <tr>\n",
       "      <th>15</th>\n",
       "      <td>16        This player has moved down in the ra...</td>\n",
       "      <td>Shikha Pandey</td>\n",
       "      <td>173</td>\n",
       "      <td>IND</td>\n",
       "    </tr>\n",
       "    <tr>\n",
       "      <th>16</th>\n",
       "      <td>17        This player has moved down in the ra...</td>\n",
       "      <td>Rumana Ahmed</td>\n",
       "      <td>172</td>\n",
       "      <td>BAN</td>\n",
       "    </tr>\n",
       "    <tr>\n",
       "      <th>17</th>\n",
       "      <td>18</td>\n",
       "      <td>Chamari Athapaththu</td>\n",
       "      <td>151</td>\n",
       "      <td>SL</td>\n",
       "    </tr>\n",
       "    <tr>\n",
       "      <th>18</th>\n",
       "      <td>19        This player has moved up in the rank...</td>\n",
       "      <td>Deandra Dottin</td>\n",
       "      <td>142</td>\n",
       "      <td>WI</td>\n",
       "    </tr>\n",
       "    <tr>\n",
       "      <th>19</th>\n",
       "      <td>20        This player has moved up in the rank...</td>\n",
       "      <td>Kate Cross</td>\n",
       "      <td>141</td>\n",
       "      <td>ENG</td>\n",
       "    </tr>\n",
       "  </tbody>\n",
       "</table>\n",
       "</div>"
      ],
      "text/plain": [
       "                                             Position               Player  \\\n",
       "0                                                   1       Marizanne Kapp   \n",
       "1   2        This player has moved up in the ranki...       Natalie Sciver   \n",
       "2   3        This player has moved down in the ran...         Ellyse Perry   \n",
       "3                                                   4      Stafanie Taylor   \n",
       "4                                                   5        Deepti Sharma   \n",
       "5   6        This player has moved up in the ranki...     Ashleigh Gardner   \n",
       "6   7        This player has moved up in the ranki...     Dane van Niekerk   \n",
       "7   8        This player has moved down in the ran...        Jess Jonassen   \n",
       "8   This player has moved down in the rankings sin...      Katherine Brunt   \n",
       "9   10        This player has moved up in the rank...       Jhulan Goswami   \n",
       "10  11        This player has moved down in the ra...        Sophie Devine   \n",
       "11                                                 12      Hayley Matthews   \n",
       "12  13        This player has moved up in the rank...       Heather Knight   \n",
       "13  14        This player has moved down in the ra...          Amelia Kerr   \n",
       "14                                                 15             Nida Dar   \n",
       "15  16        This player has moved down in the ra...        Shikha Pandey   \n",
       "16  17        This player has moved down in the ra...         Rumana Ahmed   \n",
       "17                                                 18  Chamari Athapaththu   \n",
       "18  19        This player has moved up in the rank...       Deandra Dottin   \n",
       "19  20        This player has moved up in the rank...           Kate Cross   \n",
       "\n",
       "   Rating                Countary  \n",
       "0     384  SA                      \n",
       "1     372                     ENG  \n",
       "2     365                     AUS  \n",
       "3     322                      WI  \n",
       "4     299                     IND  \n",
       "5     275                     AUS  \n",
       "6     274                      SA  \n",
       "7     272                     AUS  \n",
       "8     272                     ENG  \n",
       "9     251                     IND  \n",
       "10    248                      NZ  \n",
       "11    220                      WI  \n",
       "12    195                     ENG  \n",
       "13    193                      NZ  \n",
       "14    176                     PAK  \n",
       "15    173                     IND  \n",
       "16    172                     BAN  \n",
       "17    151                      SL  \n",
       "18    142                      WI  \n",
       "19    141                     ENG  "
      ]
     },
     "execution_count": 190,
     "metadata": {},
     "output_type": "execute_result"
    }
   ],
   "source": [
    "allrounders_rating = pd.DataFrame({})\n",
    "\n",
    "allrounders_rating['Position'] = pos3\n",
    "allrounders_rating['Player'] = player3\n",
    "allrounders_rating['Rating'] = rate3\n",
    "allrounders_rating['Countary'] = team3\n",
    "\n",
    "allrounders_rating"
   ]
  },
  {
   "cell_type": "markdown",
   "metadata": {},
   "source": [
    "# Write a python program to extract information about the local weather from the National Weather Service website of USA, https://www.weather.gov/ for the city, San Francisco. You need to extract data about 7 day extended forecast display for the city. The data should include period, short description, temperature and description."
   ]
  },
  {
   "cell_type": "code",
   "execution_count": 191,
   "metadata": {},
   "outputs": [
    {
     "data": {
      "text/plain": [
       "<Response [200]>"
      ]
     },
     "execution_count": 191,
     "metadata": {},
     "output_type": "execute_result"
    }
   ],
   "source": [
    "page = requests.get('https://forecast.weather.gov/MapClick.php?textField1=37.77&textField2=-122.42#.YVYn8JpBxPY')\n",
    "page"
   ]
  },
  {
   "cell_type": "code",
   "execution_count": 192,
   "metadata": {},
   "outputs": [],
   "source": [
    "weather = BeautifulSoup(page.content)"
   ]
  },
  {
   "cell_type": "code",
   "execution_count": 193,
   "metadata": {},
   "outputs": [
    {
     "name": "stdout",
     "output_type": "stream",
     "text": [
      "[<p class=\"period-name\">Overnight<br/><br/></p>, <p class=\"period-name\">Sunday<br/><br/></p>, <p class=\"period-name\">Sunday<br/>Night</p>, <p class=\"period-name\">Monday<br/><br/></p>, <p class=\"period-name\">Monday<br/>Night</p>, <p class=\"period-name\">Tuesday<br/><br/></p>, <p class=\"period-name\">Tuesday<br/>Night</p>, <p class=\"period-name\">Wednesday<br/><br/></p>, <p class=\"period-name\">Wednesday<br/>Night</p>]\n",
      "9\n"
     ]
    }
   ],
   "source": [
    "t1 = weather.find_all(class_='period-name')\n",
    "print(t1)\n",
    "print(len(t1))"
   ]
  },
  {
   "cell_type": "code",
   "execution_count": 194,
   "metadata": {},
   "outputs": [
    {
     "name": "stdout",
     "output_type": "stream",
     "text": [
      "['Overnight', 'Sunday', 'SundayNight', 'Monday', 'MondayNight', 'Tuesday', 'TuesdayNight', 'Wednesday', 'WednesdayNight']\n",
      "9\n"
     ]
    }
   ],
   "source": [
    "period = []\n",
    "for i in t1:\n",
    "    period.append(i.text)\n",
    "\n",
    "print(period)\n",
    "print(len(period))"
   ]
  },
  {
   "cell_type": "code",
   "execution_count": 195,
   "metadata": {},
   "outputs": [
    {
     "data": {
      "text/plain": [
       "[<p class=\"short-desc\">Mostly Clear</p>,\n",
       " <p class=\"short-desc\">Sunny</p>,\n",
       " <p class=\"short-desc\">Partly Cloudy</p>,\n",
       " <p class=\"short-desc\">Mostly Sunny</p>,\n",
       " <p class=\"short-desc\">Partly Cloudy</p>,\n",
       " <p class=\"short-desc\">Partly Sunny</p>,\n",
       " <p class=\"short-desc\">Mostly Cloudy</p>,\n",
       " <p class=\"short-desc\">Mostly Cloudy</p>,\n",
       " <p class=\"short-desc\">Mostly Cloudy</p>]"
      ]
     },
     "execution_count": 195,
     "metadata": {},
     "output_type": "execute_result"
    }
   ],
   "source": [
    "t2 = weather.find_all(class_=\"short-desc\")\n",
    "t2"
   ]
  },
  {
   "cell_type": "code",
   "execution_count": 196,
   "metadata": {},
   "outputs": [
    {
     "name": "stdout",
     "output_type": "stream",
     "text": [
      "['Mostly Clear', 'Sunny', 'Partly Cloudy', 'Mostly Sunny', 'Partly Cloudy', 'Partly Sunny', 'Mostly Cloudy', 'Mostly Cloudy', 'Mostly Cloudy']\n",
      "9\n"
     ]
    }
   ],
   "source": [
    "short_desc = []\n",
    "for i in t2:\n",
    "    short_desc.append(i.text)\n",
    "    \n",
    "print(short_desc)\n",
    "print(len(short_desc))"
   ]
  },
  {
   "cell_type": "code",
   "execution_count": 197,
   "metadata": {},
   "outputs": [],
   "source": [
    "t4 = weather.find_all(class_='forecast-tombstone')\n",
    "temp = []\n",
    "for i in t4:\n",
    "    temp.append(i.text.strip().replace('\\n',' '))"
   ]
  },
  {
   "cell_type": "code",
   "execution_count": 198,
   "metadata": {},
   "outputs": [
    {
     "data": {
      "text/plain": [
       "['Overnight Mostly ClearLow: 59 °F',\n",
       " 'Sunday SunnyHigh: 79 °F',\n",
       " 'SundayNight Partly CloudyLow: 57 °F',\n",
       " 'Monday Mostly SunnyHigh: 75 °F',\n",
       " 'MondayNight Partly CloudyLow: 56 °F',\n",
       " 'Tuesday Partly SunnyHigh: 66 °F',\n",
       " 'TuesdayNight Mostly CloudyLow: 56 °F',\n",
       " 'Wednesday Mostly CloudyHigh: 65 °F',\n",
       " 'WednesdayNight Mostly CloudyLow: 55 °F']"
      ]
     },
     "execution_count": 198,
     "metadata": {},
     "output_type": "execute_result"
    }
   ],
   "source": [
    "temp"
   ]
  },
  {
   "cell_type": "code",
   "execution_count": 199,
   "metadata": {},
   "outputs": [],
   "source": [
    "t5 = weather.find_all(class_='col-sm-2 forecast-label')"
   ]
  },
  {
   "cell_type": "code",
   "execution_count": 200,
   "metadata": {},
   "outputs": [],
   "source": [
    "t7 = []\n",
    "for i in t5:\n",
    "    t7.append(i.text)"
   ]
  },
  {
   "cell_type": "code",
   "execution_count": 201,
   "metadata": {},
   "outputs": [],
   "source": [
    "t6 = weather.find_all(class_='col-sm-10 forecast-text')\n",
    "t8 = []\n",
    "for i in t6:\n",
    "    t8.append(i.text)"
   ]
  },
  {
   "cell_type": "code",
   "execution_count": 202,
   "metadata": {},
   "outputs": [
    {
     "data": {
      "text/html": [
       "<div>\n",
       "<style scoped>\n",
       "    .dataframe tbody tr th:only-of-type {\n",
       "        vertical-align: middle;\n",
       "    }\n",
       "\n",
       "    .dataframe tbody tr th {\n",
       "        vertical-align: top;\n",
       "    }\n",
       "\n",
       "    .dataframe thead th {\n",
       "        text-align: right;\n",
       "    }\n",
       "</style>\n",
       "<table border=\"1\" class=\"dataframe\">\n",
       "  <thead>\n",
       "    <tr style=\"text-align: right;\">\n",
       "      <th></th>\n",
       "      <th>Period</th>\n",
       "      <th>Short Description</th>\n",
       "      <th>Temprature</th>\n",
       "    </tr>\n",
       "  </thead>\n",
       "  <tbody>\n",
       "    <tr>\n",
       "      <th>0</th>\n",
       "      <td>Overnight</td>\n",
       "      <td>Mostly Clear</td>\n",
       "      <td>Overnight Mostly ClearLow: 59 °F</td>\n",
       "    </tr>\n",
       "    <tr>\n",
       "      <th>1</th>\n",
       "      <td>Sunday</td>\n",
       "      <td>Sunny</td>\n",
       "      <td>Sunday SunnyHigh: 79 °F</td>\n",
       "    </tr>\n",
       "    <tr>\n",
       "      <th>2</th>\n",
       "      <td>SundayNight</td>\n",
       "      <td>Partly Cloudy</td>\n",
       "      <td>SundayNight Partly CloudyLow: 57 °F</td>\n",
       "    </tr>\n",
       "    <tr>\n",
       "      <th>3</th>\n",
       "      <td>Monday</td>\n",
       "      <td>Mostly Sunny</td>\n",
       "      <td>Monday Mostly SunnyHigh: 75 °F</td>\n",
       "    </tr>\n",
       "    <tr>\n",
       "      <th>4</th>\n",
       "      <td>MondayNight</td>\n",
       "      <td>Partly Cloudy</td>\n",
       "      <td>MondayNight Partly CloudyLow: 56 °F</td>\n",
       "    </tr>\n",
       "    <tr>\n",
       "      <th>5</th>\n",
       "      <td>Tuesday</td>\n",
       "      <td>Partly Sunny</td>\n",
       "      <td>Tuesday Partly SunnyHigh: 66 °F</td>\n",
       "    </tr>\n",
       "    <tr>\n",
       "      <th>6</th>\n",
       "      <td>TuesdayNight</td>\n",
       "      <td>Mostly Cloudy</td>\n",
       "      <td>TuesdayNight Mostly CloudyLow: 56 °F</td>\n",
       "    </tr>\n",
       "    <tr>\n",
       "      <th>7</th>\n",
       "      <td>Wednesday</td>\n",
       "      <td>Mostly Cloudy</td>\n",
       "      <td>Wednesday Mostly CloudyHigh: 65 °F</td>\n",
       "    </tr>\n",
       "    <tr>\n",
       "      <th>8</th>\n",
       "      <td>WednesdayNight</td>\n",
       "      <td>Mostly Cloudy</td>\n",
       "      <td>WednesdayNight Mostly CloudyLow: 55 °F</td>\n",
       "    </tr>\n",
       "  </tbody>\n",
       "</table>\n",
       "</div>"
      ],
      "text/plain": [
       "           Period Short Description                              Temprature\n",
       "0       Overnight      Mostly Clear        Overnight Mostly ClearLow: 59 °F\n",
       "1          Sunday             Sunny                 Sunday SunnyHigh: 79 °F\n",
       "2     SundayNight     Partly Cloudy     SundayNight Partly CloudyLow: 57 °F\n",
       "3          Monday      Mostly Sunny          Monday Mostly SunnyHigh: 75 °F\n",
       "4     MondayNight     Partly Cloudy     MondayNight Partly CloudyLow: 56 °F\n",
       "5         Tuesday      Partly Sunny         Tuesday Partly SunnyHigh: 66 °F\n",
       "6    TuesdayNight     Mostly Cloudy    TuesdayNight Mostly CloudyLow: 56 °F\n",
       "7       Wednesday     Mostly Cloudy      Wednesday Mostly CloudyHigh: 65 °F\n",
       "8  WednesdayNight     Mostly Cloudy  WednesdayNight Mostly CloudyLow: 55 °F"
      ]
     },
     "execution_count": 202,
     "metadata": {},
     "output_type": "execute_result"
    }
   ],
   "source": [
    "weather_forecast = pd.DataFrame({})\n",
    "weather_forecast[\"Period\"] = period\n",
    "weather_forecast['Short Description'] = short_desc\n",
    "weather_forecast[\"Temprature\"] = temp\n",
    "\n",
    "weather_forecast"
   ]
  },
  {
   "cell_type": "code",
   "execution_count": null,
   "metadata": {},
   "outputs": [],
   "source": []
  }
 ],
 "metadata": {
  "kernelspec": {
   "display_name": "Python 3",
   "language": "python",
   "name": "python3"
  },
  "language_info": {
   "codemirror_mode": {
    "name": "ipython",
    "version": 3
   },
   "file_extension": ".py",
   "mimetype": "text/x-python",
   "name": "python",
   "nbconvert_exporter": "python",
   "pygments_lexer": "ipython3",
   "version": "3.8.5"
  }
 },
 "nbformat": 4,
 "nbformat_minor": 4
}
